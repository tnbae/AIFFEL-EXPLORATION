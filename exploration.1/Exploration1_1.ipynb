{
  "nbformat": 4,
  "nbformat_minor": 0,
  "metadata": {
    "colab": {
      "provenance": [],
      "collapsed_sections": []
    },
    "kernelspec": {
      "name": "python3",
      "display_name": "Python 3"
    },
    "language_info": {
      "name": "python"
    }
  },
  "cells": [
    {
      "cell_type": "code",
      "execution_count": 49,
      "metadata": {
        "id": "-R7DdM6hOTqu"
      },
      "outputs": [],
      "source": [
        "import sklearn\n",
        "from sklearn.datasets import load_digits\n",
        "from sklearn.model_selection import train_test_split\n",
        "from sklearn.metrics import classification_report\n",
        "from sklearn.metrics import confusion_matrix\n",
        "from sklearn.metrics import accuracy_score"
      ]
    },
    {
      "cell_type": "code",
      "source": [
        "digits=load_digits()"
      ],
      "metadata": {
        "id": "RW_W-TbPO7Z4"
      },
      "execution_count": 50,
      "outputs": []
    },
    {
      "cell_type": "code",
      "source": [
        "digits.keys()"
      ],
      "metadata": {
        "colab": {
          "base_uri": "https://localhost:8080/"
        },
        "id": "FIAyODSCPDpR",
        "outputId": "983ad36e-56c4-48c0-e6c4-1112f08ac742"
      },
      "execution_count": 51,
      "outputs": [
        {
          "output_type": "execute_result",
          "data": {
            "text/plain": [
              "dict_keys(['data', 'target', 'frame', 'feature_names', 'target_names', 'images', 'DESCR'])"
            ]
          },
          "metadata": {},
          "execution_count": 51
        }
      ]
    },
    {
      "cell_type": "code",
      "source": [
        "digits_data=digits.data"
      ],
      "metadata": {
        "id": "ddTcObyFPkYp"
      },
      "execution_count": 52,
      "outputs": []
    },
    {
      "cell_type": "code",
      "source": [
        "digits_label=digits.target"
      ],
      "metadata": {
        "id": "ivSUwwpfP-6t"
      },
      "execution_count": 53,
      "outputs": []
    },
    {
      "cell_type": "code",
      "source": [
        "print(digits.target_names)"
      ],
      "metadata": {
        "colab": {
          "base_uri": "https://localhost:8080/"
        },
        "id": "Y_lqVRhtQIYF",
        "outputId": "19dc36cb-b349-4fb7-98b6-434445e7fd86"
      },
      "execution_count": 54,
      "outputs": [
        {
          "output_type": "stream",
          "name": "stdout",
          "text": [
            "[0 1 2 3 4 5 6 7 8 9]\n"
          ]
        }
      ]
    },
    {
      "cell_type": "code",
      "source": [
        "print(digits.DESCR)"
      ],
      "metadata": {
        "colab": {
          "base_uri": "https://localhost:8080/"
        },
        "id": "mNrZKsT2QRfn",
        "outputId": "fe585fb3-10dd-417a-e162-aa087310e4ae"
      },
      "execution_count": 55,
      "outputs": [
        {
          "output_type": "stream",
          "name": "stdout",
          "text": [
            ".. _digits_dataset:\n",
            "\n",
            "Optical recognition of handwritten digits dataset\n",
            "--------------------------------------------------\n",
            "\n",
            "**Data Set Characteristics:**\n",
            "\n",
            "    :Number of Instances: 1797\n",
            "    :Number of Attributes: 64\n",
            "    :Attribute Information: 8x8 image of integer pixels in the range 0..16.\n",
            "    :Missing Attribute Values: None\n",
            "    :Creator: E. Alpaydin (alpaydin '@' boun.edu.tr)\n",
            "    :Date: July; 1998\n",
            "\n",
            "This is a copy of the test set of the UCI ML hand-written digits datasets\n",
            "https://archive.ics.uci.edu/ml/datasets/Optical+Recognition+of+Handwritten+Digits\n",
            "\n",
            "The data set contains images of hand-written digits: 10 classes where\n",
            "each class refers to a digit.\n",
            "\n",
            "Preprocessing programs made available by NIST were used to extract\n",
            "normalized bitmaps of handwritten digits from a preprinted form. From a\n",
            "total of 43 people, 30 contributed to the training set and different 13\n",
            "to the test set. 32x32 bitmaps are divided into nonoverlapping blocks of\n",
            "4x4 and the number of on pixels are counted in each block. This generates\n",
            "an input matrix of 8x8 where each element is an integer in the range\n",
            "0..16. This reduces dimensionality and gives invariance to small\n",
            "distortions.\n",
            "\n",
            "For info on NIST preprocessing routines, see M. D. Garris, J. L. Blue, G.\n",
            "T. Candela, D. L. Dimmick, J. Geist, P. J. Grother, S. A. Janet, and C.\n",
            "L. Wilson, NIST Form-Based Handprint Recognition System, NISTIR 5469,\n",
            "1994.\n",
            "\n",
            ".. topic:: References\n",
            "\n",
            "  - C. Kaynak (1995) Methods of Combining Multiple Classifiers and Their\n",
            "    Applications to Handwritten Digit Recognition, MSc Thesis, Institute of\n",
            "    Graduate Studies in Science and Engineering, Bogazici University.\n",
            "  - E. Alpaydin, C. Kaynak (1998) Cascading Classifiers, Kybernetika.\n",
            "  - Ken Tang and Ponnuthurai N. Suganthan and Xi Yao and A. Kai Qin.\n",
            "    Linear dimensionalityreduction using relevance weighted LDA. School of\n",
            "    Electrical and Electronic Engineering Nanyang Technological University.\n",
            "    2005.\n",
            "  - Claudio Gentile. A New Approximate Maximal Margin Classification\n",
            "    Algorithm. NIPS. 2000.\n",
            "\n"
          ]
        }
      ]
    },
    {
      "cell_type": "code",
      "source": [
        "X_train, X_test, y_train, y_test = train_test_split(digits_data, \n",
        "                                                    digits_label, \n",
        "                                                    test_size=0.2, \n",
        "                                                    random_state=2020)"
      ],
      "metadata": {
        "id": "YV3-Q8MeS7cF"
      },
      "execution_count": 56,
      "outputs": []
    },
    {
      "cell_type": "code",
      "source": [
        "from sklearn.tree import DecisionTreeClassifier\n",
        "decision_tree=DecisionTreeClassifier(random_state=2022)\n",
        "decision_tree.fit(X_train,y_train)\n",
        "y_pred=decision_tree.predict(X_test)\n",
        "print(classification_report(y_test,y_pred))\n",
        "print(confusion_matrix(y_test,y_pred))\n",
        "accuracy_score(y_test,y_pred)"
      ],
      "metadata": {
        "colab": {
          "base_uri": "https://localhost:8080/"
        },
        "id": "5CLdjNp-T2Yj",
        "outputId": "80572853-417d-454b-af98-7ca6bb490299"
      },
      "execution_count": 63,
      "outputs": [
        {
          "output_type": "stream",
          "name": "stdout",
          "text": [
            "              precision    recall  f1-score   support\n",
            "\n",
            "           0       1.00      0.95      0.97        38\n",
            "           1       0.94      0.83      0.88        35\n",
            "           2       0.92      0.94      0.93        35\n",
            "           3       0.88      0.81      0.84        36\n",
            "           4       0.95      0.88      0.91        42\n",
            "           5       0.84      0.86      0.85        37\n",
            "           6       0.87      0.94      0.91        36\n",
            "           7       0.88      1.00      0.94        37\n",
            "           8       0.70      0.72      0.71        29\n",
            "           9       0.78      0.80      0.79        35\n",
            "\n",
            "    accuracy                           0.88       360\n",
            "   macro avg       0.88      0.87      0.87       360\n",
            "weighted avg       0.88      0.88      0.88       360\n",
            "\n",
            "[[36  0  1  0  0  0  0  0  1  0]\n",
            " [ 0 29  0  0  0  0  1  1  4  0]\n",
            " [ 0  0 33  0  0  1  1  0  0  0]\n",
            " [ 0  0  0 29  0  1  0  1  2  3]\n",
            " [ 0  0  0  1 37  1  2  0  0  1]\n",
            " [ 0  0  0  0  1 32  0  1  1  2]\n",
            " [ 0  0  0  0  0  2 34  0  0  0]\n",
            " [ 0  0  0  0  0  0  0 37  0  0]\n",
            " [ 0  1  2  2  0  0  0  1 21  2]\n",
            " [ 0  1  0  1  1  1  1  1  1 28]]\n"
          ]
        },
        {
          "output_type": "execute_result",
          "data": {
            "text/plain": [
              "0.8777777777777778"
            ]
          },
          "metadata": {},
          "execution_count": 63
        }
      ]
    },
    {
      "cell_type": "code",
      "source": [
        "from sklearn.ensemble import RandomForestClassifier\n",
        "random_forest=RandomForestClassifier(random_state=2022)\n",
        "random_forest.fit(X_train,y_train)\n",
        "y_pred=random_forest.predict(X_test)\n",
        "print(classification_report(y_test,y_pred))\n",
        "from sklearn.metrics import confusion_matrix\n",
        "print(confusion_matrix(y_test,y_pred))\n",
        "accuracy_score(y_test,y_pred)"
      ],
      "metadata": {
        "colab": {
          "base_uri": "https://localhost:8080/"
        },
        "id": "7AeKxK35UayG",
        "outputId": "76e4c370-e0cc-4292-e89e-f0fb41606888"
      },
      "execution_count": 64,
      "outputs": [
        {
          "output_type": "stream",
          "name": "stdout",
          "text": [
            "              precision    recall  f1-score   support\n",
            "\n",
            "           0       0.97      0.97      0.97        38\n",
            "           1       0.95      1.00      0.97        35\n",
            "           2       1.00      1.00      1.00        35\n",
            "           3       0.97      1.00      0.99        36\n",
            "           4       0.98      0.98      0.98        42\n",
            "           5       1.00      0.97      0.99        37\n",
            "           6       1.00      0.97      0.99        36\n",
            "           7       0.97      1.00      0.99        37\n",
            "           8       0.93      0.93      0.93        29\n",
            "           9       1.00      0.94      0.97        35\n",
            "\n",
            "    accuracy                           0.98       360\n",
            "   macro avg       0.98      0.98      0.98       360\n",
            "weighted avg       0.98      0.98      0.98       360\n",
            "\n",
            "[[37  0  0  0  1  0  0  0  0  0]\n",
            " [ 0 35  0  0  0  0  0  0  0  0]\n",
            " [ 0  0 35  0  0  0  0  0  0  0]\n",
            " [ 0  0  0 36  0  0  0  0  0  0]\n",
            " [ 0  0  0  0 41  0  0  1  0  0]\n",
            " [ 0  0  0  1  0 36  0  0  0  0]\n",
            " [ 1  0  0  0  0  0 35  0  0  0]\n",
            " [ 0  0  0  0  0  0  0 37  0  0]\n",
            " [ 0  2  0  0  0  0  0  0 27  0]\n",
            " [ 0  0  0  0  0  0  0  0  2 33]]\n"
          ]
        },
        {
          "output_type": "execute_result",
          "data": {
            "text/plain": [
              "0.9777777777777777"
            ]
          },
          "metadata": {},
          "execution_count": 64
        }
      ]
    },
    {
      "cell_type": "code",
      "source": [
        "from sklearn import svm\n",
        "svm_model=svm.SVC() \n",
        "svm_model.fit(X_train,y_train)\n",
        "y_pred=svm_model.predict(X_test)\n",
        "print(classification_report(y_test,y_pred))\n",
        "print(confusion_matrix(y_test,y_pred))\n",
        "accuracy_score(y_test,y_pred)"
      ],
      "metadata": {
        "colab": {
          "base_uri": "https://localhost:8080/"
        },
        "id": "ac7qndKVU6BV",
        "outputId": "05ea4fbd-5f8f-477e-c1a5-49e1d7d1ccbf"
      },
      "execution_count": 65,
      "outputs": [
        {
          "output_type": "stream",
          "name": "stdout",
          "text": [
            "              precision    recall  f1-score   support\n",
            "\n",
            "           0       1.00      0.97      0.99        38\n",
            "           1       1.00      1.00      1.00        35\n",
            "           2       1.00      1.00      1.00        35\n",
            "           3       1.00      1.00      1.00        36\n",
            "           4       0.98      0.98      0.98        42\n",
            "           5       1.00      0.97      0.99        37\n",
            "           6       1.00      1.00      1.00        36\n",
            "           7       1.00      1.00      1.00        37\n",
            "           8       1.00      1.00      1.00        29\n",
            "           9       0.95      1.00      0.97        35\n",
            "\n",
            "    accuracy                           0.99       360\n",
            "   macro avg       0.99      0.99      0.99       360\n",
            "weighted avg       0.99      0.99      0.99       360\n",
            "\n",
            "[[37  0  0  0  1  0  0  0  0  0]\n",
            " [ 0 35  0  0  0  0  0  0  0  0]\n",
            " [ 0  0 35  0  0  0  0  0  0  0]\n",
            " [ 0  0  0 36  0  0  0  0  0  0]\n",
            " [ 0  0  0  0 41  0  0  0  0  1]\n",
            " [ 0  0  0  0  0 36  0  0  0  1]\n",
            " [ 0  0  0  0  0  0 36  0  0  0]\n",
            " [ 0  0  0  0  0  0  0 37  0  0]\n",
            " [ 0  0  0  0  0  0  0  0 29  0]\n",
            " [ 0  0  0  0  0  0  0  0  0 35]]\n"
          ]
        },
        {
          "output_type": "execute_result",
          "data": {
            "text/plain": [
              "0.9916666666666667"
            ]
          },
          "metadata": {},
          "execution_count": 65
        }
      ]
    },
    {
      "cell_type": "code",
      "source": [
        "from sklearn.linear_model import SGDClassifier\n",
        "sgd_model=SGDClassifier()\n",
        "sgd_model.fit(X_train,y_train)\n",
        "y_pred=sgd_model.predict(X_test)\n",
        "print(classification_report(y_test,y_pred))\n",
        "print(confusion_matrix(y_test,y_pred))\n",
        "accuracy_score(y_test,y_pred)"
      ],
      "metadata": {
        "colab": {
          "base_uri": "https://localhost:8080/"
        },
        "id": "hltEYP5GViXV",
        "outputId": "075e78ad-018f-4d2c-fea4-522e00f358b3"
      },
      "execution_count": 66,
      "outputs": [
        {
          "output_type": "stream",
          "name": "stdout",
          "text": [
            "              precision    recall  f1-score   support\n",
            "\n",
            "           0       1.00      0.97      0.99        38\n",
            "           1       0.83      1.00      0.91        35\n",
            "           2       1.00      1.00      1.00        35\n",
            "           3       1.00      0.92      0.96        36\n",
            "           4       0.93      0.98      0.95        42\n",
            "           5       1.00      0.95      0.97        37\n",
            "           6       1.00      1.00      1.00        36\n",
            "           7       1.00      1.00      1.00        37\n",
            "           8       0.93      0.86      0.89        29\n",
            "           9       0.94      0.91      0.93        35\n",
            "\n",
            "    accuracy                           0.96       360\n",
            "   macro avg       0.96      0.96      0.96       360\n",
            "weighted avg       0.96      0.96      0.96       360\n",
            "\n",
            "[[37  0  0  0  1  0  0  0  0  0]\n",
            " [ 0 35  0  0  0  0  0  0  0  0]\n",
            " [ 0  0 35  0  0  0  0  0  0  0]\n",
            " [ 0  0  0 33  0  0  0  0  1  2]\n",
            " [ 0  1  0  0 41  0  0  0  0  0]\n",
            " [ 0  2  0  0  0 35  0  0  0  0]\n",
            " [ 0  0  0  0  0  0 36  0  0  0]\n",
            " [ 0  0  0  0  0  0  0 37  0  0]\n",
            " [ 0  3  0  0  1  0  0  0 25  0]\n",
            " [ 0  1  0  0  1  0  0  0  1 32]]\n"
          ]
        },
        {
          "output_type": "execute_result",
          "data": {
            "text/plain": [
              "0.9611111111111111"
            ]
          },
          "metadata": {},
          "execution_count": 66
        }
      ]
    },
    {
      "cell_type": "code",
      "source": [
        "from sklearn.linear_model import LogisticRegression\n",
        "logistic_model=LogisticRegression()\n",
        "logistic_model.fit(X_train,y_train)\n",
        "y_pred=logistic_model.predict(X_test)\n",
        "print(classification_report(y_test,y_pred))\n",
        "print(confusion_matrix(y_test,y_pred))\n",
        "accuracy_score(y_test,y_pred)"
      ],
      "metadata": {
        "colab": {
          "base_uri": "https://localhost:8080/"
        },
        "id": "3YDwbIALWOb9",
        "outputId": "67a9fedd-1720-4a8c-e8a3-796427765a21"
      },
      "execution_count": 62,
      "outputs": [
        {
          "output_type": "stream",
          "name": "stdout",
          "text": [
            "              precision    recall  f1-score   support\n",
            "\n",
            "           0       0.95      0.97      0.96        38\n",
            "           1       1.00      0.97      0.99        35\n",
            "           2       1.00      1.00      1.00        35\n",
            "           3       1.00      0.97      0.99        36\n",
            "           4       0.91      0.95      0.93        42\n",
            "           5       1.00      0.95      0.97        37\n",
            "           6       0.97      1.00      0.99        36\n",
            "           7       1.00      1.00      1.00        37\n",
            "           8       0.96      0.93      0.95        29\n",
            "           9       0.92      0.94      0.93        35\n",
            "\n",
            "    accuracy                           0.97       360\n",
            "   macro avg       0.97      0.97      0.97       360\n",
            "weighted avg       0.97      0.97      0.97       360\n",
            "\n",
            "[[37  0  0  0  1  0  0  0  0  0]\n",
            " [ 0 34  0  0  0  0  1  0  0  0]\n",
            " [ 0  0 35  0  0  0  0  0  0  0]\n",
            " [ 0  0  0 35  0  0  0  0  0  1]\n",
            " [ 1  0  0  0 40  0  0  0  0  1]\n",
            " [ 0  0  0  0  1 35  0  0  0  1]\n",
            " [ 0  0  0  0  0  0 36  0  0  0]\n",
            " [ 0  0  0  0  0  0  0 37  0  0]\n",
            " [ 1  0  0  0  1  0  0  0 27  0]\n",
            " [ 0  0  0  0  1  0  0  0  1 33]]\n"
          ]
        },
        {
          "output_type": "stream",
          "name": "stderr",
          "text": [
            "/usr/local/lib/python3.7/dist-packages/sklearn/linear_model/_logistic.py:818: ConvergenceWarning: lbfgs failed to converge (status=1):\n",
            "STOP: TOTAL NO. of ITERATIONS REACHED LIMIT.\n",
            "\n",
            "Increase the number of iterations (max_iter) or scale the data as shown in:\n",
            "    https://scikit-learn.org/stable/modules/preprocessing.html\n",
            "Please also refer to the documentation for alternative solver options:\n",
            "    https://scikit-learn.org/stable/modules/linear_model.html#logistic-regression\n",
            "  extra_warning_msg=_LOGISTIC_SOLVER_CONVERGENCE_MSG,\n"
          ]
        },
        {
          "output_type": "execute_result",
          "data": {
            "text/plain": [
              "0.9694444444444444"
            ]
          },
          "metadata": {},
          "execution_count": 62
        }
      ]
    },
    {
      "cell_type": "markdown",
      "source": [
        "다양한 모델로 학습한 결과 Random Forest 모델과 SVM 모델이 가장 높은 정확도를 보여주었으나 분석하는 데이터 특성상 0부터 9까지 숫자의 종류를 분석해야하는 분류 자료에 해당하기 때문에 회귀분석에 사용되는 SVM 모델 보다는 Random Forest 모델이 더 적합해 보인다. 또한, 정확도를 보기 위해서는 한 눈에 들어오는 classification_report가 가장 적합해 보인다."
      ],
      "metadata": {
        "id": "whFFpQnLW8Sl"
      }
    }
  ]
}