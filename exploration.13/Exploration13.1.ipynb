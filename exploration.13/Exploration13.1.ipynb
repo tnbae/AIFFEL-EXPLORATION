{
 "cells": [
  {
   "cell_type": "markdown",
   "id": "a4848c64",
   "metadata": {},
   "source": [
    "# 데이터 전처리"
   ]
  },
  {
   "cell_type": "code",
   "execution_count": 1,
   "id": "3c3b562e",
   "metadata": {},
   "outputs": [],
   "source": [
    "import numpy as np\n",
    "import pandas as pd\n",
    "import scipy\n",
    "import implicit\n",
    "import os\n",
    "from implicit.als import AlternatingLeastSquares\n",
    "from scipy.sparse import csr_matrix"
   ]
  },
  {
   "cell_type": "code",
   "execution_count": 2,
   "id": "b811381c",
   "metadata": {},
   "outputs": [
    {
     "data": {
      "text/html": [
       "<div>\n",
       "<style scoped>\n",
       "    .dataframe tbody tr th:only-of-type {\n",
       "        vertical-align: middle;\n",
       "    }\n",
       "\n",
       "    .dataframe tbody tr th {\n",
       "        vertical-align: top;\n",
       "    }\n",
       "\n",
       "    .dataframe thead th {\n",
       "        text-align: right;\n",
       "    }\n",
       "</style>\n",
       "<table border=\"1\" class=\"dataframe\">\n",
       "  <thead>\n",
       "    <tr style=\"text-align: right;\">\n",
       "      <th></th>\n",
       "      <th>user_id</th>\n",
       "      <th>movie_id</th>\n",
       "      <th>ratings</th>\n",
       "      <th>timestamp</th>\n",
       "    </tr>\n",
       "  </thead>\n",
       "  <tbody>\n",
       "    <tr>\n",
       "      <th>0</th>\n",
       "      <td>1</td>\n",
       "      <td>1193</td>\n",
       "      <td>5</td>\n",
       "      <td>978300760</td>\n",
       "    </tr>\n",
       "    <tr>\n",
       "      <th>1</th>\n",
       "      <td>1</td>\n",
       "      <td>661</td>\n",
       "      <td>3</td>\n",
       "      <td>978302109</td>\n",
       "    </tr>\n",
       "    <tr>\n",
       "      <th>2</th>\n",
       "      <td>1</td>\n",
       "      <td>914</td>\n",
       "      <td>3</td>\n",
       "      <td>978301968</td>\n",
       "    </tr>\n",
       "    <tr>\n",
       "      <th>3</th>\n",
       "      <td>1</td>\n",
       "      <td>3408</td>\n",
       "      <td>4</td>\n",
       "      <td>978300275</td>\n",
       "    </tr>\n",
       "    <tr>\n",
       "      <th>4</th>\n",
       "      <td>1</td>\n",
       "      <td>2355</td>\n",
       "      <td>5</td>\n",
       "      <td>978824291</td>\n",
       "    </tr>\n",
       "  </tbody>\n",
       "</table>\n",
       "</div>"
      ],
      "text/plain": [
       "   user_id  movie_id  ratings  timestamp\n",
       "0        1      1193        5  978300760\n",
       "1        1       661        3  978302109\n",
       "2        1       914        3  978301968\n",
       "3        1      3408        4  978300275\n",
       "4        1      2355        5  978824291"
      ]
     },
     "execution_count": 2,
     "metadata": {},
     "output_type": "execute_result"
    }
   ],
   "source": [
    "rating_file_path = os.getenv('HOME') + '/aiffel/recommendata_iu/data/ml-1m/ratings.dat'\n",
    "ratings_cols = ['user_id', 'movie_id', 'ratings', 'timestamp']\n",
    "ratings = pd.read_csv(rating_file_path, sep = '::', names = ratings_cols, engine = 'python', encoding = 'ISO-8859-1')\n",
    "original_data_size = len(ratings)\n",
    "ratings.head()"
   ]
  },
  {
   "cell_type": "code",
   "execution_count": 3,
   "id": "e34b6f27",
   "metadata": {},
   "outputs": [
    {
     "name": "stdout",
     "output_type": "stream",
     "text": [
      "original_data_size: 1000209, filtered_data_size: 836478\n",
      "Ratio of Remaining Data is  83.63%\n"
     ]
    }
   ],
   "source": [
    "ratings = ratings[ratings['ratings'] >= 3]\n",
    "filtered_data_size = len(ratings)\n",
    "\n",
    "print(f'original_data_size: {original_data_size}, filtered_data_size: {filtered_data_size}')\n",
    "print(f'Ratio of Remaining Data is {filtered_data_size / original_data_size: .2%}')"
   ]
  },
  {
   "cell_type": "code",
   "execution_count": 4,
   "id": "da6500d6",
   "metadata": {},
   "outputs": [],
   "source": [
    "ratings.rename(columns = {'ratings': 'counts'}, inplace = True)"
   ]
  },
  {
   "cell_type": "code",
   "execution_count": 5,
   "id": "e734869f",
   "metadata": {},
   "outputs": [
    {
     "data": {
      "text/plain": [
       "0          5\n",
       "1          3\n",
       "2          3\n",
       "3          4\n",
       "4          5\n",
       "          ..\n",
       "1000203    3\n",
       "1000205    5\n",
       "1000206    5\n",
       "1000207    4\n",
       "1000208    4\n",
       "Name: counts, Length: 836478, dtype: int64"
      ]
     },
     "execution_count": 5,
     "metadata": {},
     "output_type": "execute_result"
    }
   ],
   "source": [
    "ratings['counts']"
   ]
  },
  {
   "cell_type": "code",
   "execution_count": 6,
   "id": "8155bf75",
   "metadata": {},
   "outputs": [
    {
     "data": {
      "text/html": [
       "<div>\n",
       "<style scoped>\n",
       "    .dataframe tbody tr th:only-of-type {\n",
       "        vertical-align: middle;\n",
       "    }\n",
       "\n",
       "    .dataframe tbody tr th {\n",
       "        vertical-align: top;\n",
       "    }\n",
       "\n",
       "    .dataframe thead th {\n",
       "        text-align: right;\n",
       "    }\n",
       "</style>\n",
       "<table border=\"1\" class=\"dataframe\">\n",
       "  <thead>\n",
       "    <tr style=\"text-align: right;\">\n",
       "      <th></th>\n",
       "      <th>movie_id</th>\n",
       "      <th>title</th>\n",
       "      <th>genre</th>\n",
       "    </tr>\n",
       "  </thead>\n",
       "  <tbody>\n",
       "    <tr>\n",
       "      <th>0</th>\n",
       "      <td>1</td>\n",
       "      <td>toy story (1995)</td>\n",
       "      <td>animation|children's|comedy</td>\n",
       "    </tr>\n",
       "    <tr>\n",
       "      <th>1</th>\n",
       "      <td>2</td>\n",
       "      <td>jumanji (1995)</td>\n",
       "      <td>adventure|children's|fantasy</td>\n",
       "    </tr>\n",
       "    <tr>\n",
       "      <th>2</th>\n",
       "      <td>3</td>\n",
       "      <td>grumpier old men (1995)</td>\n",
       "      <td>comedy|romance</td>\n",
       "    </tr>\n",
       "    <tr>\n",
       "      <th>3</th>\n",
       "      <td>4</td>\n",
       "      <td>waiting to exhale (1995)</td>\n",
       "      <td>comedy|drama</td>\n",
       "    </tr>\n",
       "    <tr>\n",
       "      <th>4</th>\n",
       "      <td>5</td>\n",
       "      <td>father of the bride part ii (1995)</td>\n",
       "      <td>comedy</td>\n",
       "    </tr>\n",
       "  </tbody>\n",
       "</table>\n",
       "</div>"
      ],
      "text/plain": [
       "   movie_id                               title                         genre\n",
       "0         1                    toy story (1995)   animation|children's|comedy\n",
       "1         2                      jumanji (1995)  adventure|children's|fantasy\n",
       "2         3             grumpier old men (1995)                comedy|romance\n",
       "3         4            waiting to exhale (1995)                  comedy|drama\n",
       "4         5  father of the bride part ii (1995)                        comedy"
      ]
     },
     "execution_count": 6,
     "metadata": {},
     "output_type": "execute_result"
    }
   ],
   "source": [
    "movie_file_path = os.getenv('HOME') + '/aiffel/recommendata_iu/data/ml-1m/movies.dat'\n",
    "cols = ['movie_id', 'title', 'genre']\n",
    "movies = pd.read_csv(movie_file_path, sep = '::', names = cols, engine ='python', encoding = 'ISO-8859-1')\n",
    "movies['title'] = movies['title'].str.lower()\n",
    "movies['genre'] = movies['genre'].str.lower()\n",
    "movies.head()"
   ]
  },
  {
   "cell_type": "code",
   "execution_count": 7,
   "id": "ffdf07e8",
   "metadata": {},
   "outputs": [
    {
     "data": {
      "text/html": [
       "<div>\n",
       "<style scoped>\n",
       "    .dataframe tbody tr th:only-of-type {\n",
       "        vertical-align: middle;\n",
       "    }\n",
       "\n",
       "    .dataframe tbody tr th {\n",
       "        vertical-align: top;\n",
       "    }\n",
       "\n",
       "    .dataframe thead th {\n",
       "        text-align: right;\n",
       "    }\n",
       "</style>\n",
       "<table border=\"1\" class=\"dataframe\">\n",
       "  <thead>\n",
       "    <tr style=\"text-align: right;\">\n",
       "      <th></th>\n",
       "      <th>movie_id</th>\n",
       "      <th>title</th>\n",
       "      <th>genre</th>\n",
       "      <th>user_id</th>\n",
       "      <th>counts</th>\n",
       "      <th>timestamp</th>\n",
       "    </tr>\n",
       "  </thead>\n",
       "  <tbody>\n",
       "    <tr>\n",
       "      <th>0</th>\n",
       "      <td>1</td>\n",
       "      <td>toy story (1995)</td>\n",
       "      <td>animation|children's|comedy</td>\n",
       "      <td>1</td>\n",
       "      <td>5</td>\n",
       "      <td>978824268</td>\n",
       "    </tr>\n",
       "    <tr>\n",
       "      <th>1</th>\n",
       "      <td>1</td>\n",
       "      <td>toy story (1995)</td>\n",
       "      <td>animation|children's|comedy</td>\n",
       "      <td>6</td>\n",
       "      <td>4</td>\n",
       "      <td>978237008</td>\n",
       "    </tr>\n",
       "    <tr>\n",
       "      <th>2</th>\n",
       "      <td>1</td>\n",
       "      <td>toy story (1995)</td>\n",
       "      <td>animation|children's|comedy</td>\n",
       "      <td>8</td>\n",
       "      <td>4</td>\n",
       "      <td>978233496</td>\n",
       "    </tr>\n",
       "    <tr>\n",
       "      <th>3</th>\n",
       "      <td>1</td>\n",
       "      <td>toy story (1995)</td>\n",
       "      <td>animation|children's|comedy</td>\n",
       "      <td>9</td>\n",
       "      <td>5</td>\n",
       "      <td>978225952</td>\n",
       "    </tr>\n",
       "    <tr>\n",
       "      <th>4</th>\n",
       "      <td>1</td>\n",
       "      <td>toy story (1995)</td>\n",
       "      <td>animation|children's|comedy</td>\n",
       "      <td>10</td>\n",
       "      <td>5</td>\n",
       "      <td>978226474</td>\n",
       "    </tr>\n",
       "  </tbody>\n",
       "</table>\n",
       "</div>"
      ],
      "text/plain": [
       "   movie_id             title                        genre  user_id  counts  \\\n",
       "0         1  toy story (1995)  animation|children's|comedy        1       5   \n",
       "1         1  toy story (1995)  animation|children's|comedy        6       4   \n",
       "2         1  toy story (1995)  animation|children's|comedy        8       4   \n",
       "3         1  toy story (1995)  animation|children's|comedy        9       5   \n",
       "4         1  toy story (1995)  animation|children's|comedy       10       5   \n",
       "\n",
       "   timestamp  \n",
       "0  978824268  \n",
       "1  978237008  \n",
       "2  978233496  \n",
       "3  978225952  \n",
       "4  978226474  "
      ]
     },
     "execution_count": 7,
     "metadata": {},
     "output_type": "execute_result"
    }
   ],
   "source": [
    "movies_ratings = pd.merge(movies, ratings)\n",
    "movies_ratings.head()\n",
    "# movies 와 ratings 데이터를 병합"
   ]
  },
  {
   "cell_type": "code",
   "execution_count": 8,
   "id": "841cc0a8",
   "metadata": {},
   "outputs": [
    {
     "data": {
      "text/plain": [
       "movie_id     0\n",
       "title        0\n",
       "genre        0\n",
       "user_id      0\n",
       "counts       0\n",
       "timestamp    0\n",
       "dtype: int64"
      ]
     },
     "execution_count": 8,
     "metadata": {},
     "output_type": "execute_result"
    }
   ],
   "source": [
    "movies_ratings.isnull().sum()"
   ]
  },
  {
   "cell_type": "code",
   "execution_count": 9,
   "id": "33c79176",
   "metadata": {},
   "outputs": [
    {
     "data": {
      "text/html": [
       "<div>\n",
       "<style scoped>\n",
       "    .dataframe tbody tr th:only-of-type {\n",
       "        vertical-align: middle;\n",
       "    }\n",
       "\n",
       "    .dataframe tbody tr th {\n",
       "        vertical-align: top;\n",
       "    }\n",
       "\n",
       "    .dataframe thead th {\n",
       "        text-align: right;\n",
       "    }\n",
       "</style>\n",
       "<table border=\"1\" class=\"dataframe\">\n",
       "  <thead>\n",
       "    <tr style=\"text-align: right;\">\n",
       "      <th></th>\n",
       "      <th>user_id</th>\n",
       "      <th>title</th>\n",
       "      <th>counts</th>\n",
       "    </tr>\n",
       "  </thead>\n",
       "  <tbody>\n",
       "    <tr>\n",
       "      <th>0</th>\n",
       "      <td>1</td>\n",
       "      <td>toy story (1995)</td>\n",
       "      <td>5</td>\n",
       "    </tr>\n",
       "    <tr>\n",
       "      <th>1</th>\n",
       "      <td>6</td>\n",
       "      <td>toy story (1995)</td>\n",
       "      <td>4</td>\n",
       "    </tr>\n",
       "    <tr>\n",
       "      <th>2</th>\n",
       "      <td>8</td>\n",
       "      <td>toy story (1995)</td>\n",
       "      <td>4</td>\n",
       "    </tr>\n",
       "    <tr>\n",
       "      <th>3</th>\n",
       "      <td>9</td>\n",
       "      <td>toy story (1995)</td>\n",
       "      <td>5</td>\n",
       "    </tr>\n",
       "    <tr>\n",
       "      <th>4</th>\n",
       "      <td>10</td>\n",
       "      <td>toy story (1995)</td>\n",
       "      <td>5</td>\n",
       "    </tr>\n",
       "  </tbody>\n",
       "</table>\n",
       "</div>"
      ],
      "text/plain": [
       "   user_id             title  counts\n",
       "0        1  toy story (1995)       5\n",
       "1        6  toy story (1995)       4\n",
       "2        8  toy story (1995)       4\n",
       "3        9  toy story (1995)       5\n",
       "4       10  toy story (1995)       5"
      ]
     },
     "execution_count": 9,
     "metadata": {},
     "output_type": "execute_result"
    }
   ],
   "source": [
    "using_cols = ['user_id', 'title', 'counts']\n",
    "movies_ratings = movies_ratings[using_cols]\n",
    "movies_ratings.head()"
   ]
  },
  {
   "cell_type": "markdown",
   "id": "7a64c318",
   "metadata": {},
   "source": [
    "# 데이터 탐색"
   ]
  },
  {
   "cell_type": "code",
   "execution_count": 10,
   "id": "ca4eb80d",
   "metadata": {},
   "outputs": [
    {
     "data": {
      "text/plain": [
       "6039"
      ]
     },
     "execution_count": 10,
     "metadata": {},
     "output_type": "execute_result"
    }
   ],
   "source": [
    "ratings['user_id'].nunique()"
   ]
  },
  {
   "cell_type": "code",
   "execution_count": 11,
   "id": "43db28c9",
   "metadata": {},
   "outputs": [
    {
     "data": {
      "text/plain": [
       "3628"
      ]
     },
     "execution_count": 11,
     "metadata": {},
     "output_type": "execute_result"
    }
   ],
   "source": [
    "ratings['movie_id'].nunique()"
   ]
  },
  {
   "cell_type": "code",
   "execution_count": 12,
   "id": "caf59aa5",
   "metadata": {},
   "outputs": [
    {
     "data": {
      "text/plain": [
       "title\n",
       "american beauty (1999)                                   3211\n",
       "star wars: episode iv - a new hope (1977)                2910\n",
       "star wars: episode v - the empire strikes back (1980)    2885\n",
       "star wars: episode vi - return of the jedi (1983)        2716\n",
       "saving private ryan (1998)                               2561\n",
       "terminator 2: judgment day (1991)                        2509\n",
       "silence of the lambs, the (1991)                         2498\n",
       "raiders of the lost ark (1981)                           2473\n",
       "back to the future (1985)                                2460\n",
       "matrix, the (1999)                                       2434\n",
       "jurassic park (1993)                                     2413\n",
       "sixth sense, the (1999)                                  2385\n",
       "fargo (1996)                                             2371\n",
       "braveheart (1995)                                        2314\n",
       "men in black (1997)                                      2297\n",
       "schindler's list (1993)                                  2257\n",
       "princess bride, the (1987)                               2252\n",
       "shakespeare in love (1998)                               2213\n",
       "l.a. confidential (1997)                                 2210\n",
       "shawshank redemption, the (1994)                         2194\n",
       "godfather, the (1972)                                    2167\n",
       "groundhog day (1993)                                     2121\n",
       "e.t. the extra-terrestrial (1982)                        2102\n",
       "being john malkovich (1999)                              2066\n",
       "ghostbusters (1984)                                      2051\n",
       "pulp fiction (1994)                                      2030\n",
       "forrest gump (1994)                                      2022\n",
       "terminator, the (1984)                                   2019\n",
       "toy story (1995)                                         2000\n",
       "fugitive, the (1993)                                     1941\n",
       "Name: user_id, dtype: int64"
      ]
     },
     "execution_count": 12,
     "metadata": {},
     "output_type": "execute_result"
    }
   ],
   "source": [
    "popular = movies_ratings.groupby('title')['user_id'].count()\n",
    "popular.sort_values(ascending = False).head(30)"
   ]
  },
  {
   "cell_type": "markdown",
   "id": "975526cc",
   "metadata": {},
   "source": [
    "# 내가 선호하는 영화 5가지 "
   ]
  },
  {
   "cell_type": "code",
   "execution_count": 13,
   "id": "9f402d6a",
   "metadata": {},
   "outputs": [
    {
     "data": {
      "text/html": [
       "<div>\n",
       "<style scoped>\n",
       "    .dataframe tbody tr th:only-of-type {\n",
       "        vertical-align: middle;\n",
       "    }\n",
       "\n",
       "    .dataframe tbody tr th {\n",
       "        vertical-align: top;\n",
       "    }\n",
       "\n",
       "    .dataframe thead th {\n",
       "        text-align: right;\n",
       "    }\n",
       "</style>\n",
       "<table border=\"1\" class=\"dataframe\">\n",
       "  <thead>\n",
       "    <tr style=\"text-align: right;\">\n",
       "      <th></th>\n",
       "      <th>user_id</th>\n",
       "      <th>title</th>\n",
       "      <th>counts</th>\n",
       "    </tr>\n",
       "  </thead>\n",
       "  <tbody>\n",
       "    <tr>\n",
       "      <th>836473</th>\n",
       "      <td>5682</td>\n",
       "      <td>contender, the (2000)</td>\n",
       "      <td>3.0</td>\n",
       "    </tr>\n",
       "    <tr>\n",
       "      <th>836474</th>\n",
       "      <td>5812</td>\n",
       "      <td>contender, the (2000)</td>\n",
       "      <td>4.0</td>\n",
       "    </tr>\n",
       "    <tr>\n",
       "      <th>836475</th>\n",
       "      <td>5831</td>\n",
       "      <td>contender, the (2000)</td>\n",
       "      <td>3.0</td>\n",
       "    </tr>\n",
       "    <tr>\n",
       "      <th>836476</th>\n",
       "      <td>5837</td>\n",
       "      <td>contender, the (2000)</td>\n",
       "      <td>4.0</td>\n",
       "    </tr>\n",
       "    <tr>\n",
       "      <th>836477</th>\n",
       "      <td>5998</td>\n",
       "      <td>contender, the (2000)</td>\n",
       "      <td>4.0</td>\n",
       "    </tr>\n",
       "    <tr>\n",
       "      <th>0</th>\n",
       "      <td>me</td>\n",
       "      <td>toy story (1995)</td>\n",
       "      <td>5.0</td>\n",
       "    </tr>\n",
       "    <tr>\n",
       "      <th>1</th>\n",
       "      <td>me</td>\n",
       "      <td>men in black (1997)</td>\n",
       "      <td>5.0</td>\n",
       "    </tr>\n",
       "    <tr>\n",
       "      <th>2</th>\n",
       "      <td>me</td>\n",
       "      <td>ghostbusters (1984)</td>\n",
       "      <td>5.0</td>\n",
       "    </tr>\n",
       "    <tr>\n",
       "      <th>3</th>\n",
       "      <td>me</td>\n",
       "      <td>back to the future (1985)</td>\n",
       "      <td>5.0</td>\n",
       "    </tr>\n",
       "    <tr>\n",
       "      <th>4</th>\n",
       "      <td>me</td>\n",
       "      <td>terminator 2: judgment day (1991)</td>\n",
       "      <td>5.0</td>\n",
       "    </tr>\n",
       "  </tbody>\n",
       "</table>\n",
       "</div>"
      ],
      "text/plain": [
       "       user_id                              title  counts\n",
       "836473    5682              contender, the (2000)     3.0\n",
       "836474    5812              contender, the (2000)     4.0\n",
       "836475    5831              contender, the (2000)     3.0\n",
       "836476    5837              contender, the (2000)     4.0\n",
       "836477    5998              contender, the (2000)     4.0\n",
       "0           me                   toy story (1995)     5.0\n",
       "1           me                men in black (1997)     5.0\n",
       "2           me                ghostbusters (1984)     5.0\n",
       "3           me          back to the future (1985)     5.0\n",
       "4           me  terminator 2: judgment day (1991)     5.0"
      ]
     },
     "execution_count": 13,
     "metadata": {},
     "output_type": "execute_result"
    }
   ],
   "source": [
    "my_favorite = ['toy story (1995)', 'men in black (1997)', 'ghostbusters (1984)', 'back to the future (1985)', 'terminator 2: judgment day (1991)']\n",
    "\n",
    "my_movies = pd.DataFrame({'user_id': ['me']*5, 'title': my_favorite, 'counts': [5.0]*5})\n",
    "\n",
    "if not movies_ratings.isin({'user_id': ['me']})['user_id'].any():\n",
    "    movies_ratings = movies_ratings.append(my_movies)\n",
    "movies_ratings.tail(10)"
   ]
  },
  {
   "cell_type": "markdown",
   "id": "cf294358",
   "metadata": {},
   "source": [
    "# 모델에 활용하기 위한 전처리"
   ]
  },
  {
   "cell_type": "code",
   "execution_count": 14,
   "id": "2f184f1f",
   "metadata": {},
   "outputs": [],
   "source": [
    "user_unique = movies_ratings['user_id'].unique()\n",
    "title_unique = movies_ratings['title'].unique()\n",
    "\n",
    "user_to_idx = {v:k for k,v in enumerate(user_unique)} # 딕션어리를 통해 user id를 정수화\n",
    "title_to_idx = {v:k for k,v in enumerate(title_unique)} # 딕션어리를 통해 title을 정수화"
   ]
  },
  {
   "cell_type": "code",
   "execution_count": 15,
   "id": "5872ed53",
   "metadata": {},
   "outputs": [
    {
     "name": "stdout",
     "output_type": "stream",
     "text": [
      "user_id column indexing complete\n",
      "title column indexing complete\n"
     ]
    },
    {
     "data": {
      "text/html": [
       "<div>\n",
       "<style scoped>\n",
       "    .dataframe tbody tr th:only-of-type {\n",
       "        vertical-align: middle;\n",
       "    }\n",
       "\n",
       "    .dataframe tbody tr th {\n",
       "        vertical-align: top;\n",
       "    }\n",
       "\n",
       "    .dataframe thead th {\n",
       "        text-align: right;\n",
       "    }\n",
       "</style>\n",
       "<table border=\"1\" class=\"dataframe\">\n",
       "  <thead>\n",
       "    <tr style=\"text-align: right;\">\n",
       "      <th></th>\n",
       "      <th>user_id</th>\n",
       "      <th>title</th>\n",
       "      <th>counts</th>\n",
       "    </tr>\n",
       "  </thead>\n",
       "  <tbody>\n",
       "    <tr>\n",
       "      <th>0</th>\n",
       "      <td>0</td>\n",
       "      <td>0</td>\n",
       "      <td>5.0</td>\n",
       "    </tr>\n",
       "    <tr>\n",
       "      <th>1</th>\n",
       "      <td>1</td>\n",
       "      <td>0</td>\n",
       "      <td>4.0</td>\n",
       "    </tr>\n",
       "    <tr>\n",
       "      <th>2</th>\n",
       "      <td>2</td>\n",
       "      <td>0</td>\n",
       "      <td>4.0</td>\n",
       "    </tr>\n",
       "    <tr>\n",
       "      <th>3</th>\n",
       "      <td>3</td>\n",
       "      <td>0</td>\n",
       "      <td>5.0</td>\n",
       "    </tr>\n",
       "    <tr>\n",
       "      <th>4</th>\n",
       "      <td>4</td>\n",
       "      <td>0</td>\n",
       "      <td>5.0</td>\n",
       "    </tr>\n",
       "    <tr>\n",
       "      <th>...</th>\n",
       "      <td>...</td>\n",
       "      <td>...</td>\n",
       "      <td>...</td>\n",
       "    </tr>\n",
       "    <tr>\n",
       "      <th>0</th>\n",
       "      <td>6039</td>\n",
       "      <td>0</td>\n",
       "      <td>5.0</td>\n",
       "    </tr>\n",
       "    <tr>\n",
       "      <th>1</th>\n",
       "      <td>6039</td>\n",
       "      <td>1419</td>\n",
       "      <td>5.0</td>\n",
       "    </tr>\n",
       "    <tr>\n",
       "      <th>2</th>\n",
       "      <td>6039</td>\n",
       "      <td>2462</td>\n",
       "      <td>5.0</td>\n",
       "    </tr>\n",
       "    <tr>\n",
       "      <th>3</th>\n",
       "      <td>6039</td>\n",
       "      <td>1152</td>\n",
       "      <td>5.0</td>\n",
       "    </tr>\n",
       "    <tr>\n",
       "      <th>4</th>\n",
       "      <td>6039</td>\n",
       "      <td>569</td>\n",
       "      <td>5.0</td>\n",
       "    </tr>\n",
       "  </tbody>\n",
       "</table>\n",
       "<p>836483 rows × 3 columns</p>\n",
       "</div>"
      ],
      "text/plain": [
       "    user_id  title  counts\n",
       "0         0      0     5.0\n",
       "1         1      0     4.0\n",
       "2         2      0     4.0\n",
       "3         3      0     5.0\n",
       "4         4      0     5.0\n",
       "..      ...    ...     ...\n",
       "0      6039      0     5.0\n",
       "1      6039   1419     5.0\n",
       "2      6039   2462     5.0\n",
       "3      6039   1152     5.0\n",
       "4      6039    569     5.0\n",
       "\n",
       "[836483 rows x 3 columns]"
      ]
     },
     "execution_count": 15,
     "metadata": {},
     "output_type": "execute_result"
    }
   ],
   "source": [
    "temp_user_data = movies_ratings['user_id'].map(user_to_idx.get).dropna()\n",
    "if len(temp_user_data) == len(movies_ratings):\n",
    "    print('user_id column indexing complete')\n",
    "    movies_ratings['user_id'] = temp_user_data\n",
    "else:\n",
    "    print('user_id column indexing failed')\n",
    "    \n",
    "temp_title_data = movies_ratings['title'].map(title_to_idx.get).dropna()\n",
    "if len(temp_title_data) == len(movies_ratings):\n",
    "    print('title column indexing complete')\n",
    "    movies_ratings['title'] = temp_title_data\n",
    "else:\n",
    "    print('title column indexing failed')\n",
    "    \n",
    "movies_ratings"
   ]
  },
  {
   "cell_type": "markdown",
   "id": "1c3b2c3a",
   "metadata": {},
   "source": [
    "# CSR matrix"
   ]
  },
  {
   "cell_type": "code",
   "execution_count": 16,
   "id": "9cd32217",
   "metadata": {},
   "outputs": [
    {
     "data": {
      "text/plain": [
       "<6040x3628 sparse matrix of type '<class 'numpy.float64'>'\n",
       "\twith 836483 stored elements in Compressed Sparse Row format>"
      ]
     },
     "execution_count": 16,
     "metadata": {},
     "output_type": "execute_result"
    }
   ],
   "source": [
    "num_user = movies_ratings['user_id'].nunique()\n",
    "num_movies = movies_ratings['title'].nunique()\n",
    "\n",
    "csr_data = csr_matrix((movies_ratings.counts, (movies_ratings.user_id, movies_ratings.title)), shape = (num_user, num_movies))\n",
    "csr_data"
   ]
  },
  {
   "cell_type": "markdown",
   "id": "01ba3238",
   "metadata": {},
   "source": [
    "# MF Model"
   ]
  },
  {
   "cell_type": "code",
   "execution_count": 17,
   "id": "58c2fc6c",
   "metadata": {},
   "outputs": [],
   "source": [
    "os.environ['OPENBLAS_NUM_THREADS'] = '1'\n",
    "os.environ['KMP_DUPLICATE_LIB_OK'] = 'True'\n",
    "os.environ['MKL_NUM_THREADS'] = '1'"
   ]
  },
  {
   "cell_type": "code",
   "execution_count": 18,
   "id": "b5b99e61",
   "metadata": {},
   "outputs": [],
   "source": [
    "als_model = AlternatingLeastSquares(factors = 100, regularization = 0.01, use_gpu = False, iterations = 15, dtype = np.float32)"
   ]
  },
  {
   "cell_type": "code",
   "execution_count": 19,
   "id": "ec9c7606",
   "metadata": {},
   "outputs": [],
   "source": [
    "csr_data_transpose = csr_data.T"
   ]
  },
  {
   "cell_type": "code",
   "execution_count": 20,
   "id": "d6600d4c",
   "metadata": {},
   "outputs": [
    {
     "data": {
      "application/vnd.jupyter.widget-view+json": {
       "model_id": "742ccb97a0e5429aa834e8991bbbe76c",
       "version_major": 2,
       "version_minor": 0
      },
      "text/plain": [
       "  0%|          | 0/15 [00:00<?, ?it/s]"
      ]
     },
     "metadata": {},
     "output_type": "display_data"
    }
   ],
   "source": [
    "als_model.fit(csr_data_transpose)"
   ]
  },
  {
   "cell_type": "code",
   "execution_count": 25,
   "id": "c5cf0410",
   "metadata": {},
   "outputs": [],
   "source": [
    "me = user_to_idx['me']\n",
    "men_in_black = title_to_idx['men in black (1997)']\n",
    "me_vector, men_in_black_vector = als_model.user_factors[me], als_model.item_factors[men_in_black]"
   ]
  },
  {
   "cell_type": "code",
   "execution_count": 26,
   "id": "e6a83f84",
   "metadata": {},
   "outputs": [
    {
     "data": {
      "text/plain": [
       "array([ 0.9101659 , -0.46187508,  0.25003645,  0.7540665 , -1.011798  ,\n",
       "        0.42528528, -0.6494303 ,  0.22614776,  1.2160629 , -0.7044644 ,\n",
       "        0.04920909, -0.08783229,  0.76130587,  0.77802336,  0.36848179,\n",
       "       -0.16996133, -0.04073583,  0.35000318,  0.02652938,  0.4925242 ,\n",
       "       -0.6699269 ,  0.5983576 , -0.41531205,  0.02157569,  0.10248125,\n",
       "        0.8286313 , -0.15255055,  0.45832625,  0.66576964, -0.41337094,\n",
       "       -0.5623208 , -0.35281077,  0.36196992,  0.09485107,  0.7544501 ,\n",
       "        0.09128311,  0.22352478, -0.8392337 ,  0.2072167 ,  0.92586476,\n",
       "        0.10508924,  0.65701467,  0.8921608 ,  0.39073604,  0.2961508 ,\n",
       "       -0.20269468,  0.42129004, -1.0859919 ,  0.23301192, -0.14434293,\n",
       "       -0.5793404 , -0.46173277, -0.539462  , -0.13725935, -0.19534579,\n",
       "        0.42072797,  0.20966074, -0.6169136 , -0.6870163 ,  0.5871776 ,\n",
       "       -0.92921454, -0.5292167 , -0.44835263, -0.20907432,  0.6080913 ,\n",
       "        0.273948  ,  0.18929476, -0.8744162 ,  0.7591356 ,  0.18413334,\n",
       "        0.19755663, -1.0991412 , -0.04436874, -0.35598692, -0.46386632,\n",
       "       -0.23357254, -0.4082715 , -0.11122354, -0.3602782 , -0.7748384 ,\n",
       "        0.0766679 ,  0.10432275,  0.6413677 , -0.11698794,  0.4281792 ,\n",
       "        0.532527  ,  0.34255248,  0.13113788,  0.28401676,  0.6636774 ,\n",
       "       -0.07794032, -0.7367084 , -0.41447237, -0.50983834,  0.05815244,\n",
       "        0.8736371 , -0.02301637, -0.79942185,  0.40578023,  0.01397892],\n",
       "      dtype=float32)"
      ]
     },
     "execution_count": 26,
     "metadata": {},
     "output_type": "execute_result"
    }
   ],
   "source": [
    "me_vector"
   ]
  },
  {
   "cell_type": "code",
   "execution_count": 28,
   "id": "a8918fa2",
   "metadata": {},
   "outputs": [
    {
     "data": {
      "text/plain": [
       "array([ 2.98045147e-02,  1.75657552e-02,  1.28001673e-02,  8.68000183e-03,\n",
       "       -2.49843597e-02,  7.48545025e-03, -9.02388617e-03, -3.16941366e-03,\n",
       "        3.00477375e-03, -3.16096283e-02, -2.37446018e-02, -3.19427587e-02,\n",
       "        1.02120526e-02,  2.16342863e-02,  1.00226430e-02,  1.00233182e-02,\n",
       "       -7.26802554e-03,  2.92859343e-03,  7.74391787e-03,  2.29529645e-02,\n",
       "       -2.72795483e-02,  2.04738174e-02,  4.34892811e-03,  4.31256630e-02,\n",
       "        3.06978691e-02,  1.82777010e-02, -1.21688191e-02,  2.44697314e-02,\n",
       "        3.49072032e-02,  3.20670963e-03, -1.35661820e-02, -1.20612178e-02,\n",
       "        2.77210977e-02, -7.07753189e-03,  3.56369987e-02,  4.73493536e-04,\n",
       "        6.61325874e-03, -2.21508592e-02,  2.62359884e-02,  1.54263759e-03,\n",
       "        9.62277781e-03,  2.62172688e-02,  1.35259219e-02,  1.08950520e-02,\n",
       "        2.21691187e-02, -1.14996154e-02, -1.08734285e-02, -2.21318230e-02,\n",
       "        1.78699382e-02, -1.41346361e-02, -5.68419369e-03, -2.51271017e-03,\n",
       "       -1.65741555e-02, -6.90195523e-03,  1.75421908e-02,  7.98755698e-03,\n",
       "        1.77953187e-02,  9.68769938e-03, -1.38856927e-02,  7.70486286e-03,\n",
       "       -5.64740272e-03, -3.04818526e-02, -9.69711132e-03,  6.08103396e-03,\n",
       "        1.95833109e-02,  6.24358095e-03,  2.36015557e-03, -1.32956188e-02,\n",
       "        9.68524162e-03,  5.24760038e-03,  2.31100842e-02, -3.21957134e-02,\n",
       "       -2.28465311e-02, -1.86782256e-02,  3.13313194e-02,  2.30307169e-02,\n",
       "       -1.11989910e-02,  1.15432236e-02,  1.02908844e-02,  4.69033606e-03,\n",
       "        5.33873099e-04, -1.26132574e-02,  4.70050201e-02, -2.64606029e-02,\n",
       "        3.80581990e-02,  1.99008416e-02,  1.44789135e-02,  1.58515964e-02,\n",
       "        9.66974627e-03,  3.28366160e-02,  1.97818428e-02,  1.07931963e-03,\n",
       "        1.92284249e-02,  1.31170833e-02, -1.42845735e-02,  3.37297581e-02,\n",
       "        1.44254649e-03,  7.46525475e-05,  1.62028503e-02,  9.69361234e-03],\n",
       "      dtype=float32)"
      ]
     },
     "execution_count": 28,
     "metadata": {},
     "output_type": "execute_result"
    }
   ],
   "source": [
    "men_in_black_vector"
   ]
  },
  {
   "cell_type": "markdown",
   "id": "4e66d913",
   "metadata": {},
   "source": [
    "# 훈련된 모델이 예측한 나의 선호도"
   ]
  },
  {
   "cell_type": "code",
   "execution_count": 29,
   "id": "5abe25c1",
   "metadata": {},
   "outputs": [
    {
     "data": {
      "text/plain": [
       "0.57341343"
      ]
     },
     "execution_count": 29,
     "metadata": {},
     "output_type": "execute_result"
    }
   ],
   "source": [
    "np.dot(me_vector, men_in_black_vector)"
   ]
  },
  {
   "cell_type": "code",
   "execution_count": 30,
   "id": "c3899ac1",
   "metadata": {},
   "outputs": [
    {
     "data": {
      "text/plain": [
       "0.21939692"
      ]
     },
     "execution_count": 30,
     "metadata": {},
     "output_type": "execute_result"
    }
   ],
   "source": [
    "star_war = title_to_idx['star wars: episode v - the empire strikes back (1980)']\n",
    "star_war_vector = als_model.item_factors[star_war]\n",
    "np.dot(me_vector, star_war_vector)"
   ]
  },
  {
   "cell_type": "code",
   "execution_count": 31,
   "id": "0b754381",
   "metadata": {},
   "outputs": [
    {
     "data": {
      "text/plain": [
       "0.46888375"
      ]
     },
     "execution_count": 31,
     "metadata": {},
     "output_type": "execute_result"
    }
   ],
   "source": [
    "toy = title_to_idx['toy story (1995)']\n",
    "toy_vector = als_model.item_factors[toy]\n",
    "np.dot(me_vector, toy_vector)"
   ]
  },
  {
   "cell_type": "markdown",
   "id": "b8b1f08b",
   "metadata": {},
   "source": [
    "# 내가 좋아하는 영화와 비슷한 영화 추천받기"
   ]
  },
  {
   "cell_type": "code",
   "execution_count": 32,
   "id": "5d878b9f",
   "metadata": {},
   "outputs": [
    {
     "data": {
      "text/plain": [
       "[(1152, 1.0000002),\n",
       " (2659, 0.63346046),\n",
       " (1793, 0.55942464),\n",
       " (1189, 0.54025877),\n",
       " (2462, 0.51182723),\n",
       " (2542, 0.5002374),\n",
       " (985, 0.4822584),\n",
       " (2166, 0.4810528),\n",
       " (1003, 0.45723435),\n",
       " (1954, 0.43187565),\n",
       " (1267, 0.4287266),\n",
       " (3066, 0.41440427),\n",
       " (523, 0.4066815),\n",
       " (1080, 0.4061891),\n",
       " (3460, 0.40371782)]"
      ]
     },
     "execution_count": 32,
     "metadata": {},
     "output_type": "execute_result"
    }
   ],
   "source": [
    "favorite_movie = 'back to the future (1985)'\n",
    "title_id = title_to_idx[favorite_movie]\n",
    "similar_movie = als_model.similar_items(title_id, N = 15)\n",
    "similar_movie"
   ]
  },
  {
   "cell_type": "code",
   "execution_count": 33,
   "id": "6e1e0f64",
   "metadata": {},
   "outputs": [
    {
     "data": {
      "text/plain": [
       "['back to the future (1985)',\n",
       " \"ferris bueller's day off (1986)\",\n",
       " 'back to the future part ii (1989)',\n",
       " 'when harry met sally... (1989)',\n",
       " 'ghostbusters (1984)',\n",
       " 'big (1988)',\n",
       " 'fish called wanda, a (1988)',\n",
       " 'cocoon (1985)',\n",
       " 'e.t. the extra-terrestrial (1982)',\n",
       " 'beetlejuice (1988)',\n",
       " 'raising arizona (1987)',\n",
       " 'bull durham (1988)',\n",
       " 'blade runner (1982)',\n",
       " 'star wars: episode v - the empire strikes back (1980)',\n",
       " 'project moon base (1953)']"
      ]
     },
     "execution_count": 33,
     "metadata": {},
     "output_type": "execute_result"
    }
   ],
   "source": [
    "idx_to_title = {v:k for k,v in title_to_idx.items()}\n",
    "[idx_to_title[i[0]] for i in similar_movie]"
   ]
  },
  {
   "cell_type": "code",
   "execution_count": 36,
   "id": "6a7217f2",
   "metadata": {},
   "outputs": [],
   "source": [
    "def get_similar_movie(title: str):\n",
    "    title_id = title_to_idx[title]\n",
    "    similar_movie = als_model.similar_items(title_id)\n",
    "    similar_movie = [idx_to_title[i[0]] for i in similar_movie]\n",
    "    return similar_movie"
   ]
  },
  {
   "cell_type": "code",
   "execution_count": 37,
   "id": "0fb6c391",
   "metadata": {},
   "outputs": [
    {
     "data": {
      "text/plain": [
       "['star wars: episode v - the empire strikes back (1980)',\n",
       " 'star wars: episode vi - return of the jedi (1983)',\n",
       " 'star wars: episode iv - a new hope (1977)',\n",
       " 'raiders of the lost ark (1981)',\n",
       " 'terminator, the (1984)',\n",
       " 'e.t. the extra-terrestrial (1982)',\n",
       " 'indiana jones and the last crusade (1989)',\n",
       " 'aliens (1986)',\n",
       " 'star wars: episode i - the phantom menace (1999)',\n",
       " 'back to the future (1985)']"
      ]
     },
     "execution_count": 37,
     "metadata": {},
     "output_type": "execute_result"
    }
   ],
   "source": [
    "get_similar_movie('star wars: episode v - the empire strikes back (1980)')"
   ]
  },
  {
   "cell_type": "markdown",
   "id": "7ce0660b",
   "metadata": {},
   "source": [
    "# 내가 가장 좋아할 만한 영화들을 추천받아 봅시다."
   ]
  },
  {
   "cell_type": "code",
   "execution_count": 38,
   "id": "c96cd7df",
   "metadata": {},
   "outputs": [
    {
     "data": {
      "text/plain": [
       "[(462, 0.64601195),\n",
       " (2325, 0.47798312),\n",
       " (2845, 0.38599002),\n",
       " (106, 0.3762676),\n",
       " (2657, 0.34673014),\n",
       " (2536, 0.32125264),\n",
       " (2114, 0.30479616),\n",
       " (1147, 0.29175904),\n",
       " (1003, 0.29118848),\n",
       " (439, 0.2890051),\n",
       " (1810, 0.2721449),\n",
       " (2600, 0.2690285),\n",
       " (2507, 0.26735762),\n",
       " (342, 0.26349103),\n",
       " (2659, 0.25257948),\n",
       " (249, 0.2505327),\n",
       " (1094, 0.24399066),\n",
       " (2542, 0.24200448),\n",
       " (1954, 0.24037875),\n",
       " (2724, 0.23650491)]"
      ]
     },
     "execution_count": 38,
     "metadata": {},
     "output_type": "execute_result"
    }
   ],
   "source": [
    "user = user_to_idx['me']\n",
    "movie_recommended = als_model.recommend(user, csr_data, N = 20, filter_already_liked_items = True)\n",
    "movie_recommended"
   ]
  },
  {
   "cell_type": "code",
   "execution_count": 41,
   "id": "143478da",
   "metadata": {},
   "outputs": [
    {
     "data": {
      "text/plain": [
       "['jurassic park (1993)',\n",
       " 'matrix, the (1999)',\n",
       " 'toy story 2 (1999)',\n",
       " 'braveheart (1995)',\n",
       " 'total recall (1990)',\n",
       " 'airplane! (1980)',\n",
       " \"bug's life, a (1998)\",\n",
       " 'groundhog day (1993)',\n",
       " 'e.t. the extra-terrestrial (1982)',\n",
       " 'fugitive, the (1993)',\n",
       " 'saving private ryan (1998)',\n",
       " 'american beauty (1999)',\n",
       " 'sixth sense, the (1999)',\n",
       " 'forrest gump (1994)',\n",
       " \"ferris bueller's day off (1986)\",\n",
       " 'star wars: episode iv - a new hope (1977)',\n",
       " 'star wars: episode vi - return of the jedi (1983)',\n",
       " 'big (1988)',\n",
       " 'beetlejuice (1988)',\n",
       " 'who framed roger rabbit? (1988)']"
      ]
     },
     "execution_count": 41,
     "metadata": {},
     "output_type": "execute_result"
    }
   ],
   "source": [
    "[idx_to_title[i[0]] for i in movie_recommended]"
   ]
  },
  {
   "cell_type": "code",
   "execution_count": 42,
   "id": "9c6425b0",
   "metadata": {},
   "outputs": [],
   "source": [
    "jurassic_park = title_to_idx['jurassic park (1993)']\n",
    "explain = als_model.explain(user, csr_data, itemid = jurassic_park)"
   ]
  },
  {
   "cell_type": "code",
   "execution_count": 43,
   "id": "a9614f00",
   "metadata": {},
   "outputs": [
    {
     "data": {
      "text/plain": [
       "[('men in black (1997)', 0.3118876890256918),\n",
       " ('terminator 2: judgment day (1991)', 0.23157724314965253),\n",
       " ('back to the future (1985)', 0.08085572323500627),\n",
       " ('ghostbusters (1984)', 0.03301199659990118),\n",
       " ('toy story (1995)', -0.023736384549490477)]"
      ]
     },
     "execution_count": 43,
     "metadata": {},
     "output_type": "execute_result"
    }
   ],
   "source": [
    "[(idx_to_title[i[0]], i[1]) for i in explain[1]]"
   ]
  }
 ],
 "metadata": {
  "kernelspec": {
   "display_name": "Python 3 (ipykernel)",
   "language": "python",
   "name": "python3"
  },
  "language_info": {
   "codemirror_mode": {
    "name": "ipython",
    "version": 3
   },
   "file_extension": ".py",
   "mimetype": "text/x-python",
   "name": "python",
   "nbconvert_exporter": "python",
   "pygments_lexer": "ipython3",
   "version": "3.9.7"
  }
 },
 "nbformat": 4,
 "nbformat_minor": 5
}
