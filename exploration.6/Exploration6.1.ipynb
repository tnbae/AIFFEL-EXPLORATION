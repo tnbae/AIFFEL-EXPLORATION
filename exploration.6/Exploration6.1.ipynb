{
 "cells": [
  {
   "cell_type": "markdown",
   "id": "d6f9622d",
   "metadata": {},
   "source": [
    "# 데이터 전처리"
   ]
  },
  {
   "cell_type": "code",
   "execution_count": 22,
   "id": "56e25431",
   "metadata": {
    "scrolled": false
   },
   "outputs": [
    {
     "name": "stdout",
     "output_type": "stream",
     "text": [
      "데이터 크기: 187088\n",
      "Examples:\n",
      " [\"Now I've heard there was a secret chord\", 'That David played, and it pleased the Lord', \"But you don't really care for music, do you?\"]\n"
     ]
    }
   ],
   "source": [
    "import glob\n",
    "import tensorflow as tf\n",
    "import os, re\n",
    "import numpy as np\n",
    "\n",
    "txt_file_path = os.getenv('HOME')+'/aiffel/lyricist/data/lyrics/*'\n",
    "txt_list = glob.glob(txt_file_path)\n",
    "\n",
    "raw_corpus=[]\n",
    "\n",
    "for txt_file in txt_list:\n",
    "    with open(txt_file,'r') as f:\n",
    "        raw = f.read().splitlines()\n",
    "        raw_corpus.extend(raw)\n",
    "        \n",
    "print(\"데이터 크기:\",len(raw_corpus))\n",
    "print(\"Examples:\\n\",raw_corpus[:3])"
   ]
  },
  {
   "cell_type": "markdown",
   "id": "41e1e088",
   "metadata": {},
   "source": [
    "파이썬에서 필요한 라이브러리를 불러들리고 분석할 데이터를 한 줄씩 읽어 raw_corpus에 저장 "
   ]
  },
  {
   "cell_type": "code",
   "execution_count": 23,
   "id": "e4291597",
   "metadata": {},
   "outputs": [],
   "source": [
    "def preprocess_sentence(sentence):\n",
    "    sentence = sentence.lower().strip()\n",
    "    sentence = re.sub(r\"([?.!,¿])\", r\" \\1 \", sentence)\n",
    "    sentence = re.sub(r'[\" \"]+', \" \", sentence)\n",
    "    sentence = re.sub(r\"[^a-zA-Z?.!,¿]+\", \" \", sentence)\n",
    "    sentence = sentence.strip()\n",
    "    sentence = '<start> '+ sentence + ' <end>'\n",
    "    return sentence"
   ]
  },
  {
   "cell_type": "markdown",
   "id": "8136b4ce",
   "metadata": {},
   "source": [
    "raw_corpus의 문장에서 데이터를 정리하기 위해 소문자로 바꾸고, 양쪽 공백을 지움. 특수문자 양쪽에 공백을 넣고 여러개의 공백은 하나의 공백으로 바꿈. a-zA-Z?.!,¿가 아닌 모든 문자를 하나의 공백으로 바꾸고 다시 양쪽 공백을 지움. 그리고 마지막으로 문장 시작에는 '<start>' 끝에는 '<end>'를 추가함"
   ]
  },
  {
   "cell_type": "code",
   "execution_count": 24,
   "id": "dc0eb4ab",
   "metadata": {},
   "outputs": [
    {
     "data": {
      "text/plain": [
       "['<start> now i ve heard there was a secret chord <end>',\n",
       " '<start> that david played , and it pleased the lord <end>',\n",
       " '<start> but you don t really care for music , do you ? <end>',\n",
       " '<start> it goes like this <end>',\n",
       " '<start> the fourth , the fifth <end>',\n",
       " '<start> the minor fall , the major lift <end>',\n",
       " '<start> the baffled king composing hallelujah hallelujah <end>',\n",
       " '<start> hallelujah <end>',\n",
       " '<start> hallelujah <end>',\n",
       " '<start> hallelujah your faith was strong but you needed proof <end>']"
      ]
     },
     "execution_count": 24,
     "metadata": {},
     "output_type": "execute_result"
    }
   ],
   "source": [
    "corpus = []\n",
    "\n",
    "for sentence in raw_corpus:\n",
    "    if len(sentence) == 0: continue\n",
    "    if sentence[-1] == ':': continue\n",
    "    \n",
    "    preprocessed_sentence = preprocess_sentence(sentence)\n",
    "    corpus.append(preprocessed_sentence)\n",
    "    \n",
    "corpus[:10]"
   ]
  },
  {
   "cell_type": "markdown",
   "id": "f3a5395b",
   "metadata": {},
   "source": [
    "마지막으로 아무 것도 없는 문장이나 뒤에 ':'로 끝나는 문장들은 삭제"
   ]
  },
  {
   "cell_type": "code",
   "execution_count": 40,
   "id": "7f8c1130",
   "metadata": {},
   "outputs": [
    {
     "name": "stdout",
     "output_type": "stream",
     "text": [
      "[[   2   50    5 ...    0    0    0]\n",
      " [   2   17 2639 ...    0    0    0]\n",
      " [   2   36    7 ...   43    3    0]\n",
      " ...\n",
      " [   5   22    9 ...   10 1013    3]\n",
      " [  37   15 9049 ...  877  647    3]\n",
      " [   2    7   34 ...    0    0    0]] <keras_preprocessing.text.Tokenizer object at 0x7f6b644bca00>\n"
     ]
    }
   ],
   "source": [
    "def tokenize(corpus):\n",
    "    tokenizer = tf.keras.preprocessing.text.Tokenizer(\n",
    "        num_words = 12000,\n",
    "        filters = ' ',\n",
    "        oov_token = \"<unk>\")\n",
    "    \n",
    "    tokenizer.fit_on_texts(corpus)\n",
    "    tensor = tokenizer.texts_to_sequences(corpus)\n",
    "    tensor = tf.keras.preprocessing.sequence.pad_sequences(tensor, padding='post',maxlen = 15)\n",
    "    \n",
    "    print(tensor, tokenizer)\n",
    "    return tensor, tokenizer\n",
    "\n",
    "tensor, tokenizer = tokenize(corpus)"
   ]
  },
  {
   "cell_type": "markdown",
   "id": "06176058",
   "metadata": {},
   "source": [
    "단어 사전을 만들기 위한 토큰화 함수로 12000단어를 저장"
   ]
  },
  {
   "cell_type": "code",
   "execution_count": 41,
   "id": "2ef5db30",
   "metadata": {},
   "outputs": [
    {
     "name": "stdout",
     "output_type": "stream",
     "text": [
      "1 : <unk>\n",
      "2 : <start>\n",
      "3 : <end>\n",
      "4 : ,\n",
      "5 : i\n",
      "6 : the\n",
      "7 : you\n",
      "8 : and\n",
      "9 : a\n",
      "10 : to\n"
     ]
    }
   ],
   "source": [
    "for idx in tokenizer.index_word:\n",
    "    print(idx, \":\", tokenizer.index_word[idx])\n",
    "    \n",
    "    if idx >= 10: break"
   ]
  },
  {
   "cell_type": "code",
   "execution_count": 42,
   "id": "874d87b4",
   "metadata": {
    "scrolled": true
   },
   "outputs": [
    {
     "name": "stdout",
     "output_type": "stream",
     "text": [
      "[   2   50    5   91  297   65   57    9  969 6042    3    0    0    0]\n",
      "[  50    5   91  297   65   57    9  969 6042    3    0    0    0    0]\n"
     ]
    }
   ],
   "source": [
    "src_input = tensor[:, :-1]\n",
    "tgt_input = tensor[:, 1:]\n",
    "\n",
    "print(src_input[0])\n",
    "print(tgt_input[0])"
   ]
  },
  {
   "cell_type": "markdown",
   "id": "4226fe35",
   "metadata": {},
   "source": [
    "# 데이터 학습"
   ]
  },
  {
   "cell_type": "code",
   "execution_count": 43,
   "id": "150afbfb",
   "metadata": {},
   "outputs": [
    {
     "name": "stdout",
     "output_type": "stream",
     "text": [
      "train data:  (140599, 14)\n",
      "target data:  (140599, 14)\n"
     ]
    }
   ],
   "source": [
    "from sklearn.model_selection import train_test_split\n",
    "\n",
    "enc_train, enc_val, dec_train, dec_val = train_test_split(src_input, \n",
    "                                                          tgt_input,\n",
    "                                                          test_size=0.2, \n",
    "                                                          shuffle = True,\n",
    "                                                          random_state = 2022)\n",
    "\n",
    "print('train data: ', enc_train.shape)\n",
    "print('target data: ', dec_train.shape)"
   ]
  },
  {
   "cell_type": "markdown",
   "id": "344c8890",
   "metadata": {},
   "source": [
    "train 데이터와 test 데이터를 생성"
   ]
  },
  {
   "cell_type": "code",
   "execution_count": 44,
   "id": "9164fdf6",
   "metadata": {},
   "outputs": [],
   "source": [
    "class TextGenerator(tf.keras.Model):\n",
    "    def __init__(self, vocab_size, embedding_size, hidden_size):\n",
    "        super().__init__() \n",
    "        self.embedding = tf.keras.layers.Embedding(vocab_size, embedding_size) \n",
    "        self.rnn_1 = tf.keras.layers.LSTM(hidden_size, return_sequences=True)  \n",
    "        self.rnn_2 = tf.keras.layers.LSTM(hidden_size, return_sequences=True)\n",
    "        self.linear = tf.keras.layers.Dense(vocab_size)\n",
    "        \n",
    "    def call(self, x):\n",
    "        out = self.embedding(x)\n",
    "        out = self.rnn_1(out)\n",
    "        out = self.rnn_2(out)\n",
    "        out = self.linear(out)\n",
    "        \n",
    "        return out\n",
    " \n",
    "embedding_size = 256\n",
    "hidden_size = 1024\n",
    "model = TextGenerator(tokenizer.num_words + 1, embedding_size , hidden_size) "
   ]
  },
  {
   "cell_type": "markdown",
   "id": "3ab7b79b",
   "metadata": {},
   "source": [
    "TextGenerator라는 RNN 모델을 생성 총 1개의 Embedding Layer, 2개의 LSTM Layer, 그리고 1개의 Dense Layer로 구성됨"
   ]
  },
  {
   "cell_type": "code",
   "execution_count": 45,
   "id": "9c09a067",
   "metadata": {},
   "outputs": [],
   "source": [
    "optimizer = tf.keras.optimizers.Adam()\n",
    "loss = tf.keras.losses.SparseCategoricalCrossentropy(from_logits = True,\n",
    "                                                    reduction = 'none'\n",
    "                                                    )"
   ]
  },
  {
   "cell_type": "code",
   "execution_count": 46,
   "id": "8215c692",
   "metadata": {},
   "outputs": [
    {
     "name": "stdout",
     "output_type": "stream",
     "text": [
      "Epoch 1/10\n",
      "4394/4394 [==============================] - 160s 35ms/step - loss: 3.2862\n",
      "Epoch 2/10\n",
      "4394/4394 [==============================] - 156s 35ms/step - loss: 2.8366\n",
      "Epoch 3/10\n",
      "4394/4394 [==============================] - 155s 35ms/step - loss: 2.5624\n",
      "Epoch 4/10\n",
      "4394/4394 [==============================] - 156s 35ms/step - loss: 2.3185\n",
      "Epoch 5/10\n",
      "4394/4394 [==============================] - 156s 35ms/step - loss: 2.1021\n",
      "Epoch 6/10\n",
      "4394/4394 [==============================] - 156s 35ms/step - loss: 1.9103\n",
      "Epoch 7/10\n",
      "4394/4394 [==============================] - 156s 35ms/step - loss: 1.7408\n",
      "Epoch 8/10\n",
      "4394/4394 [==============================] - 155s 35ms/step - loss: 1.5911\n",
      "Epoch 9/10\n",
      "4394/4394 [==============================] - 155s 35ms/step - loss: 1.4626\n",
      "Epoch 10/10\n",
      "4394/4394 [==============================] - 155s 35ms/step - loss: 1.3537\n"
     ]
    },
    {
     "data": {
      "text/plain": [
       "<keras.callbacks.History at 0x7f6b7c04e8b0>"
      ]
     },
     "execution_count": 46,
     "metadata": {},
     "output_type": "execute_result"
    }
   ],
   "source": [
    "model.compile(loss=loss, optimizer=optimizer)\n",
    "model.fit(enc_train, dec_train, epochs=10)"
   ]
  },
  {
   "cell_type": "markdown",
   "id": "bcf39723",
   "metadata": {},
   "source": [
    "# 데이터 평가"
   ]
  },
  {
   "cell_type": "code",
   "execution_count": 47,
   "id": "e73b10bc",
   "metadata": {},
   "outputs": [],
   "source": [
    "def generate_text(lyricist, tokenizer, init_sentence = \"<start> i love\", max_len = 20):\n",
    "    test_input = tokenizer.texts_to_sequences([init_sentence])\n",
    "    test_tensor = tf.convert_to_tensor(test_input, dtype = tf.int64)\n",
    "    end_token = tokenizer.word_index[\"<end>\"]\n",
    "    \n",
    "    while True:\n",
    "        predict = model(test_tensor)\n",
    "        predict_word = tf.argmax(tf.nn.softmax(predict, axis = -1), axis = -1)[:, -1]\n",
    "        \n",
    "        test_tensor = tf.concat([test_tensor, tf.expand_dims(predict_word, axis = 0)], axis = -1)\n",
    "        \n",
    "        if predict_word.numpy()[0] == end_token: break\n",
    "        if test_tensor.shape[1] >= max_len: break\n",
    "            \n",
    "    generated = ''\n",
    "    for word_index in test_tensor[0].numpy():\n",
    "        generated += tokenizer.index_word[word_index] + \" \"\n",
    "        \n",
    "    return generated"
   ]
  },
  {
   "cell_type": "code",
   "execution_count": 48,
   "id": "0a8f17cc",
   "metadata": {},
   "outputs": [
    {
     "data": {
      "text/plain": [
       "'<start> i love you so , so , i do <end> '"
      ]
     },
     "execution_count": 48,
     "metadata": {},
     "output_type": "execute_result"
    }
   ],
   "source": [
    "generate_text(model, tokenizer, init_sentence=\"<start> i love\", max_len = 20)"
   ]
  },
  {
   "cell_type": "markdown",
   "id": "c1ca84e2",
   "metadata": {},
   "source": [
    "1. padding = 'post', epoch = 30, embedding_size =  256, hidden_size = 1024로 실행하였을 때 loss는 epoch 10 이전에 2.2.로 내려갔지만 문장을 생성했을 때 '<start> I love it when you call me poppa <end>'라는 문장 생성"
   ]
  },
  {
   "cell_type": "markdown",
   "id": "49d54def",
   "metadata": {},
   "source": [
    "2. padding = 'pre', epoch = 10, embedding_size = 1024, hidden_size = 2048로 loss는 여전히 잘 내려가지만 문장이 '<start> I love you for in my life you are a friend of mine <end>'라는 문장을 생성하므로 문제가 있다는 것을 알 수 있음"
   ]
  },
  {
   "cell_type": "markdown",
   "id": "f4b0d5f9",
   "metadata": {},
   "source": [
    "3. padding = 'pre', epoch =10, embedding_size = 256, hidden_size = 1024로 다시 실행 loss는 여전히 잘 내려가지만 '<start> i love you slim , we coulda been together , we re jammin <end> '\n",
    "이라는 알 수 없는 문장을 만듦"
   ]
  },
  {
   "cell_type": "markdown",
   "id": "901d7980",
   "metadata": {},
   "source": [
    "4. padding = 'post', epoch = 10, embedding_size = 256, hidden_size = 1024 로 실행 loss는 아무 문제없이 2.2이하를 잘 유지하며 문장은 '<start> i love you so , so , i do <end> '로 나름 감정이 많이 실린 문장을 생성함"
   ]
  },
  {
   "cell_type": "code",
   "execution_count": null,
   "id": "046faefc",
   "metadata": {},
   "outputs": [],
   "source": []
  }
 ],
 "metadata": {
  "kernelspec": {
   "display_name": "Python 3 (ipykernel)",
   "language": "python",
   "name": "python3"
  },
  "language_info": {
   "codemirror_mode": {
    "name": "ipython",
    "version": 3
   },
   "file_extension": ".py",
   "mimetype": "text/x-python",
   "name": "python",
   "nbconvert_exporter": "python",
   "pygments_lexer": "ipython3",
   "version": "3.9.7"
  }
 },
 "nbformat": 4,
 "nbformat_minor": 5
}
