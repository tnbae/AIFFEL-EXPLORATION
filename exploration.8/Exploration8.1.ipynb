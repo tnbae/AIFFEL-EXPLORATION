{
 "cells": [
  {
   "cell_type": "markdown",
   "id": "b1eb4c91",
   "metadata": {},
   "source": [
    "# 데이터 전처리"
   ]
  },
  {
   "cell_type": "code",
   "execution_count": 1,
   "id": "839849cf",
   "metadata": {},
   "outputs": [],
   "source": [
    "import numpy as np\n",
    "import tensorflow as tf\n",
    "import os\n",
    "import pandas as pd\n",
    "import konlpy\n",
    "import gensim\n",
    "import matplotlib.pyplot as plt\n",
    "from konlpy.tag import Mecab\n",
    "from collections import Counter\n",
    "from gensim.models.keyedvectors import Word2VecKeyedVectors"
   ]
  },
  {
   "cell_type": "code",
   "execution_count": 2,
   "id": "32b71d19",
   "metadata": {},
   "outputs": [],
   "source": [
    "train_data = pd.read_table('~/aiffel/sentiment_classification/data/ratings_train.txt')\n",
    "test_data = pd.read_table('~/aiffel/sentiment_classification/data/ratings_test.txt')"
   ]
  },
  {
   "cell_type": "code",
   "execution_count": 3,
   "id": "471884cc",
   "metadata": {},
   "outputs": [],
   "source": [
    "tokenizer = Mecab()\n",
    "stopwords = ['의','가','이','은','들','는','좀','잘','걍','과','도','를','으로','자','에','와','한','하다']\n",
    "\n",
    "def load_data(train_data, test_data, num_words=10000):\n",
    "    train_data.drop_duplicates(subset=['document'], inplace=True)\n",
    "    train_data = train_data.dropna(how = 'any') \n",
    "    test_data.drop_duplicates(subset=['document'], inplace=True)\n",
    "    test_data = test_data.dropna(how = 'any') \n",
    "\n",
    "    X_train = []\n",
    "    for sentence in train_data['document']:\n",
    "        temp_X = tokenizer.morphs(sentence) # 토큰화\n",
    "        temp_X = [word for word in temp_X if not word in stopwords] # 불용어 제거\n",
    "        X_train.append(temp_X)\n",
    "\n",
    "    X_test = []\n",
    "    for sentence in test_data['document']:\n",
    "        temp_X = tokenizer.morphs(sentence) # 토큰화\n",
    "        temp_X = [word for word in temp_X if not word in stopwords] # 불용어 제거\n",
    "        X_test.append(temp_X)\n",
    "\n",
    "    words = np.concatenate(X_train).tolist()\n",
    "    counter = Counter(words)\n",
    "    counter = counter.most_common(10000-4)\n",
    "    vocab = ['<PAD>', '<BOS>', '<UNK>', '<UNUSED>'] + [key for key, _ in counter]\n",
    "    word_to_index = {word:index for index, word in enumerate(vocab)}\n",
    "\n",
    "    def wordlist_to_indexlist(wordlist):\n",
    "        return [word_to_index[word] if word in word_to_index else word_to_index['<UNK>'] for word in wordlist]\n",
    "\n",
    "    X_train = list(map(wordlist_to_indexlist, X_train))\n",
    "    X_test = list(map(wordlist_to_indexlist, X_test))\n",
    "\n",
    "    return X_train, np.array(list(train_data['label'])), X_test, np.array(list(test_data['label'])), word_to_index\n",
    "\n",
    "X_train, y_train, X_test, y_test, word_to_index = load_data(train_data, test_data)\n",
    "index_to_word = {index:word for word, index in word_to_index.items()}"
   ]
  },
  {
   "cell_type": "code",
   "execution_count": 4,
   "id": "f50579d9",
   "metadata": {},
   "outputs": [],
   "source": [
    "def get_encoded_sentence(sentence, word_to_index):\n",
    "    return [word_to_index['<BOS>']] + [word_to_index[word] if word in word_to_index else word_to_index['<UNK>'] for word in sentence.split()]\n",
    "\n",
    "def get_encoded_sentences(sentences, word_to_index):\n",
    "    return [get_encoded_sentence(sentence, word_to_index) for sentence in sentences]\n",
    "# 여러 개의 문장을 숫자 텐서로 변환"
   ]
  },
  {
   "cell_type": "code",
   "execution_count": 5,
   "id": "a0c1f26d",
   "metadata": {},
   "outputs": [],
   "source": [
    "def get_decoded_sentence(encoded_sentence, index_to_word):\n",
    "    return ' '.join(index_to_word[index] if index in index_to_word else '<UNK>' for index in encoded_sentence[1:])\n",
    "\n",
    "def get_decoded_sentences(encoded_sentences, index_to_word):\n",
    "    return [get_decoded_sentence(encoded_sentence, index_to_word) for encoded_sentence in encoded_senteces]\n",
    "# 여러 개의 숫자 벡터로 encode 된 문장들을 원래 문장으로 복원"
   ]
  },
  {
   "cell_type": "code",
   "execution_count": 6,
   "id": "c17da4c8",
   "metadata": {},
   "outputs": [
    {
     "name": "stdout",
     "output_type": "stream",
     "text": [
      "문장길이 평균:  15.96940191154864\n",
      "문장길이 최대:  116\n",
      "문장길이 표준편차:  12.843571191092\n",
      "pad_sequences maxlen:  41\n",
      "전체 문장의 0.9342988343341575%가 maxlen 설정값 이내에 포함됩니다.\n"
     ]
    }
   ],
   "source": [
    "total_data_text = list(X_train) + list(X_test)\n",
    "\n",
    "num_tokens = [len(tokens) for tokens in total_data_text]\n",
    "num_tokens = np.array(num_tokens)\n",
    "\n",
    "print('문장길이 평균: ', np.mean(num_tokens))\n",
    "print('문장길이 최대: ', np.max(num_tokens))\n",
    "print('문장길이 표준편차: ', np.std(num_tokens))\n",
    "\n",
    "max_tokens = np.mean(num_tokens) + 2 * np.std(num_tokens)\n",
    "maxlen = int(max_tokens)\n",
    "print('pad_sequences maxlen: ', maxlen)\n",
    "print('전체 문장의 {}%가 maxlen 설정값 이내에 포함됩니다.'.format(np.sum(num_tokens < max_tokens)/len(num_tokens)))"
   ]
  },
  {
   "cell_type": "markdown",
   "id": "7a707756",
   "metadata": {},
   "source": [
    "X, y 데이터 준비"
   ]
  },
  {
   "cell_type": "code",
   "execution_count": 7,
   "id": "0d004b29",
   "metadata": {},
   "outputs": [
    {
     "name": "stdout",
     "output_type": "stream",
     "text": [
      "(146182, 41)\n"
     ]
    }
   ],
   "source": [
    "X_train = tf.keras.preprocessing.sequence.pad_sequences(X_train,\n",
    "                                                        value=word_to_index[\"<PAD>\"],\n",
    "                                                        padding='pre',\n",
    "                                                        maxlen=maxlen)\n",
    "\n",
    "X_test = tf.keras.preprocessing.sequence.pad_sequences(X_test,\n",
    "                                                       value=word_to_index[\"<PAD>\"],\n",
    "                                                       padding='pre',\n",
    "                                                       maxlen=maxlen)\n",
    "\n",
    "print(X_train.shape)"
   ]
  },
  {
   "cell_type": "code",
   "execution_count": 8,
   "id": "48ce7c2c",
   "metadata": {},
   "outputs": [],
   "source": [
    "vocab_size = 10000\n",
    "word_vector_dim = 16\n",
    "\n",
    "X_val = X_train[:10000]\n",
    "y_val = y_train[:10000]\n",
    "\n",
    "partial_X_train = X_train[10000:]\n",
    "partial_y_train = y_train[10000:]"
   ]
  },
  {
   "cell_type": "markdown",
   "id": "1d3a1eab",
   "metadata": {},
   "source": [
    "# Model: RNN"
   ]
  },
  {
   "cell_type": "code",
   "execution_count": 9,
   "id": "e6089010",
   "metadata": {},
   "outputs": [
    {
     "name": "stdout",
     "output_type": "stream",
     "text": [
      "Model: \"sequential\"\n",
      "_________________________________________________________________\n",
      "Layer (type)                 Output Shape              Param #   \n",
      "=================================================================\n",
      "embedding (Embedding)        (None, None, 16)          160000    \n",
      "_________________________________________________________________\n",
      "lstm (LSTM)                  (None, 8)                 800       \n",
      "_________________________________________________________________\n",
      "dense (Dense)                (None, 8)                 72        \n",
      "_________________________________________________________________\n",
      "dense_1 (Dense)              (None, 1)                 9         \n",
      "=================================================================\n",
      "Total params: 160,881\n",
      "Trainable params: 160,881\n",
      "Non-trainable params: 0\n",
      "_________________________________________________________________\n"
     ]
    }
   ],
   "source": [
    "rnn = tf.keras.Sequential()\n",
    "rnn.add(tf.keras.layers.Embedding(vocab_size, word_vector_dim, input_shape = (None,)))\n",
    "rnn.add(tf.keras.layers.LSTM(8))\n",
    "rnn.add(tf.keras.layers.Dense(8, activation = 'relu'))\n",
    "rnn.add(tf.keras.layers.Dense(1, activation = 'sigmoid'))\n",
    "\n",
    "rnn.summary()"
   ]
  },
  {
   "cell_type": "code",
   "execution_count": 10,
   "id": "be78c241",
   "metadata": {},
   "outputs": [
    {
     "name": "stdout",
     "output_type": "stream",
     "text": [
      "Epoch 1/20\n",
      "532/532 [==============================] - 6s 6ms/step - loss: 0.4848 - accuracy: 0.7825 - val_loss: 0.3543 - val_accuracy: 0.8475\n",
      "Epoch 2/20\n",
      "532/532 [==============================] - 3s 5ms/step - loss: 0.3333 - accuracy: 0.8589 - val_loss: 0.3327 - val_accuracy: 0.8546\n",
      "Epoch 3/20\n",
      "532/532 [==============================] - 3s 5ms/step - loss: 0.3094 - accuracy: 0.8707 - val_loss: 0.3331 - val_accuracy: 0.8578\n",
      "Epoch 4/20\n",
      "532/532 [==============================] - 3s 5ms/step - loss: 0.2940 - accuracy: 0.8773 - val_loss: 0.3335 - val_accuracy: 0.8574\n",
      "Epoch 5/20\n",
      "532/532 [==============================] - 3s 5ms/step - loss: 0.2800 - accuracy: 0.8836 - val_loss: 0.3400 - val_accuracy: 0.8557\n",
      "Epoch 6/20\n",
      "532/532 [==============================] - 3s 5ms/step - loss: 0.2651 - accuracy: 0.8916 - val_loss: 0.3415 - val_accuracy: 0.8544\n",
      "Epoch 7/20\n",
      "532/532 [==============================] - 3s 5ms/step - loss: 0.2523 - accuracy: 0.8970 - val_loss: 0.3514 - val_accuracy: 0.8554\n",
      "Epoch 8/20\n",
      "532/532 [==============================] - 3s 5ms/step - loss: 0.2393 - accuracy: 0.9030 - val_loss: 0.3578 - val_accuracy: 0.8536\n",
      "Epoch 9/20\n",
      "532/532 [==============================] - 3s 5ms/step - loss: 0.2286 - accuracy: 0.9081 - val_loss: 0.3687 - val_accuracy: 0.8526\n",
      "Epoch 10/20\n",
      "532/532 [==============================] - 3s 5ms/step - loss: 0.2192 - accuracy: 0.9126 - val_loss: 0.3775 - val_accuracy: 0.8547\n",
      "Epoch 11/20\n",
      "532/532 [==============================] - 3s 5ms/step - loss: 0.2092 - accuracy: 0.9176 - val_loss: 0.3984 - val_accuracy: 0.8504\n",
      "Epoch 12/20\n",
      "532/532 [==============================] - 3s 5ms/step - loss: 0.2007 - accuracy: 0.9214 - val_loss: 0.4079 - val_accuracy: 0.8522\n",
      "Epoch 13/20\n",
      "532/532 [==============================] - 3s 5ms/step - loss: 0.1915 - accuracy: 0.9257 - val_loss: 0.4301 - val_accuracy: 0.8517\n",
      "Epoch 14/20\n",
      "532/532 [==============================] - 3s 5ms/step - loss: 0.1829 - accuracy: 0.9299 - val_loss: 0.4412 - val_accuracy: 0.8495\n",
      "Epoch 15/20\n",
      "532/532 [==============================] - 3s 5ms/step - loss: 0.1749 - accuracy: 0.9334 - val_loss: 0.4603 - val_accuracy: 0.8475\n",
      "Epoch 16/20\n",
      "532/532 [==============================] - 3s 5ms/step - loss: 0.1675 - accuracy: 0.9368 - val_loss: 0.4705 - val_accuracy: 0.8468\n",
      "Epoch 17/20\n",
      "532/532 [==============================] - 3s 5ms/step - loss: 0.1602 - accuracy: 0.9402 - val_loss: 0.4815 - val_accuracy: 0.8433\n",
      "Epoch 18/20\n",
      "532/532 [==============================] - 3s 5ms/step - loss: 0.1522 - accuracy: 0.9440 - val_loss: 0.5329 - val_accuracy: 0.8441\n",
      "Epoch 19/20\n",
      "532/532 [==============================] - 3s 5ms/step - loss: 0.1449 - accuracy: 0.9469 - val_loss: 0.5344 - val_accuracy: 0.8428\n",
      "Epoch 20/20\n",
      "532/532 [==============================] - 3s 5ms/step - loss: 0.1393 - accuracy: 0.9492 - val_loss: 0.5498 - val_accuracy: 0.8448\n"
     ]
    }
   ],
   "source": [
    "rnn.compile(optimizer = 'adam',\n",
    "              loss = 'binary_crossentropy',\n",
    "              metrics = ['accuracy'])\n",
    "\n",
    "epochs = 20\n",
    "\n",
    "history = rnn.fit(partial_X_train,\n",
    "                    partial_y_train,\n",
    "                    epochs= epochs,\n",
    "                    batch_size= 256,\n",
    "                    validation_data= (X_val, y_val),\n",
    "                    verbose= 1)"
   ]
  },
  {
   "cell_type": "code",
   "execution_count": 11,
   "id": "e1c79cbf",
   "metadata": {},
   "outputs": [
    {
     "name": "stdout",
     "output_type": "stream",
     "text": [
      "1537/1537 - 3s - loss: 0.5464 - accuracy: 0.8397\n",
      "[0.5463528633117676, 0.8396565914154053]\n"
     ]
    }
   ],
   "source": [
    "results = rnn.evaluate(X_test, y_test, verbose = 2)\n",
    "print(results)"
   ]
  },
  {
   "cell_type": "markdown",
   "id": "f008736f",
   "metadata": {},
   "source": [
    "Visualization"
   ]
  },
  {
   "cell_type": "code",
   "execution_count": 12,
   "id": "589b8923",
   "metadata": {},
   "outputs": [
    {
     "name": "stdout",
     "output_type": "stream",
     "text": [
      "dict_keys(['loss', 'accuracy', 'val_loss', 'val_accuracy'])\n"
     ]
    }
   ],
   "source": [
    "history_dict = history.history\n",
    "print(history_dict.keys())"
   ]
  },
  {
   "cell_type": "code",
   "execution_count": 13,
   "id": "c76a10cf",
   "metadata": {},
   "outputs": [
    {
     "data": {
      "image/png": "[encoded data removed]",
      "text/plain": [
       "<Figure size 432x288 with 1 Axes>"
      ]
     },
     "metadata": {
      "needs_background": "light"
     },
     "output_type": "display_data"
    }
   ],
   "source": [
    "acc = history_dict['accuracy']\n",
    "val_acc = history_dict['val_accuracy']\n",
    "loss = history_dict['loss']\n",
    "val_loss = history_dict['val_loss']\n",
    "\n",
    "epochs = range(1, len(acc) + 1)\n",
    "\n",
    "plt.plot(epochs, loss, 'bo', label = 'Training loss')\n",
    "plt.plot(epochs, val_loss, 'b', label = 'Validation loss')\n",
    "plt.title('Training and Validation Loss')\n",
    "plt.xlabel('Epochs')\n",
    "plt.ylabel('Loss')\n",
    "plt.legend()\n",
    "\n",
    "plt.show()"
   ]
  },
  {
   "cell_type": "code",
   "execution_count": 14,
   "id": "6ba61ee3",
   "metadata": {},
   "outputs": [
    {
     "data": {
      "image/png": "[encoded data removed]",
      "text/plain": [
       "<Figure size 432x288 with 1 Axes>"
      ]
     },
     "metadata": {
      "needs_background": "light"
     },
     "output_type": "display_data"
    }
   ],
   "source": [
    "plt.clf()\n",
    "\n",
    "plt.plot(epochs, acc, 'bo', label = 'Training acc')\n",
    "plt.plot(epochs, val_acc, 'b', label = 'Validation acc')\n",
    "plt.title('Training and Validation Accuracy')\n",
    "plt.xlabel('Epochs')\n",
    "plt.ylabel('Accuracy')\n",
    "plt.legend()\n",
    "\n",
    "plt.show()"
   ]
  },
  {
   "cell_type": "markdown",
   "id": "0ce805c5",
   "metadata": {},
   "source": [
    "Embedding"
   ]
  },
  {
   "cell_type": "code",
   "execution_count": 15,
   "id": "cf52d74f",
   "metadata": {},
   "outputs": [],
   "source": [
    "embedding_rnn = rnn.layers[0]\n",
    "weights = embedding_rnn.get_weights()[0]"
   ]
  },
  {
   "cell_type": "code",
   "execution_count": 16,
   "id": "37aebacc",
   "metadata": {},
   "outputs": [],
   "source": [
    "word2vec_file_path =os.getenv('HOME')+'/aiffel/sentiment_classification/data/word2vec.txt'\n",
    "f = open(word2vec_file_path, 'w')\n",
    "f.write('{} {}\\n'.format(vocab_size-4, word_vector_dim))  \n",
    "\n",
    "vectors = rnn.get_weights()[0]\n",
    "for i in range(4,vocab_size):\n",
    "    f.write('{} {}\\n'.format(index_to_word[i], ' '.join(map(str, list(vectors[i, :])))))\n",
    "f.close()"
   ]
  },
  {
   "cell_type": "code",
   "execution_count": 17,
   "id": "45f955cf",
   "metadata": {},
   "outputs": [
    {
     "data": {
      "text/plain": [
       "array([ 0.08559562,  0.00067657,  0.07745751, -0.21671969, -0.05786731,\n",
       "       -0.25272915,  0.20733353,  0.32653433, -0.03009479, -0.24298942,\n",
       "        0.09835344, -0.50440717,  0.10951374, -0.08354977,  0.05496983,\n",
       "       -0.33397353], dtype=float32)"
      ]
     },
     "execution_count": 17,
     "metadata": {},
     "output_type": "execute_result"
    }
   ],
   "source": [
    "word_vectors = Word2VecKeyedVectors.load_word2vec_format(word2vec_file_path, binary=False)\n",
    "vector = word_vectors['컴퓨터']\n",
    "vector"
   ]
  },
  {
   "cell_type": "code",
   "execution_count": 18,
   "id": "5f159d21",
   "metadata": {},
   "outputs": [
    {
     "data": {
      "text/plain": [
       "[('덴젤워싱턴', 0.9956846833229065),\n",
       " ('황홀', 0.9924342632293701),\n",
       " ('조음', 0.9919096827507019),\n",
       " ('뜻깊', 0.9909749031066895),\n",
       " ('애요', 0.9909537434577942),\n",
       " ('스며드', 0.9902861714363098),\n",
       " ('입가', 0.9900915026664734),\n",
       " ('흠뻑', 0.9895188808441162),\n",
       " ('아려', 0.9893889427185059),\n",
       " ('봣습니다', 0.9893007278442383)]"
      ]
     },
     "execution_count": 18,
     "metadata": {},
     "output_type": "execute_result"
    }
   ],
   "source": [
    "from gensim.models.keyedvectors import Word2VecKeyedVectors\n",
    "\n",
    "word_vectors = Word2VecKeyedVectors.load_word2vec_format(word2vec_file_path, binary=False)\n",
    "word_vectors.similar_by_word('love')"
   ]
  },
  {
   "cell_type": "markdown",
   "id": "8c7abc57",
   "metadata": {},
   "source": [
    "한국어 Word2Vec"
   ]
  },
  {
   "cell_type": "code",
   "execution_count": 19,
   "id": "9a55b556",
   "metadata": {},
   "outputs": [
    {
     "data": {
      "text/plain": [
       "array([ 1.038851  , -1.1634965 ,  2.2386286 ,  0.8971453 , -2.088168  ,\n",
       "       -4.1942534 , -0.02519768, -0.69813883, -0.2908033 , -1.4651134 ,\n",
       "       -2.6863668 ,  0.7999443 , -0.6957915 , -0.5018775 ,  3.5025773 ,\n",
       "        0.21326113, -0.6588098 , -1.1900496 ,  0.61399573,  2.1247969 ,\n",
       "        0.1549463 ,  3.0840218 ,  3.1680267 , -3.9143991 ,  3.6073153 ,\n",
       "        0.5315545 , -0.3511633 , -1.107248  ,  1.7767181 , -0.95981866,\n",
       "        2.6072454 , -0.00697957, -3.27628   ,  1.558644  ,  0.81922376,\n",
       "        1.9231955 ,  3.7026553 , -0.53824735, -0.4920138 ,  2.4657123 ,\n",
       "       -2.620749  , -0.08950733,  0.61453176,  1.8866426 ,  0.257866  ,\n",
       "       -2.7827141 ,  2.9129577 , -0.6313133 ,  2.0387425 , -4.222685  ,\n",
       "       -2.7560544 ,  1.7903243 , -1.3080189 , -2.5531402 , -0.43849912,\n",
       "       -3.1073573 , -0.29090825,  5.1817617 ,  1.9604833 , -5.1421604 ,\n",
       "       -0.71431434,  4.5624633 , -0.55525815, -3.3019137 ,  1.6761336 ,\n",
       "       -1.9606539 , -0.2726863 ,  0.2465995 ,  1.2685091 ,  1.6055685 ,\n",
       "        1.8344896 ,  1.2752469 ,  0.99503314, -2.3348706 , -0.9290329 ,\n",
       "       -1.5920266 ,  5.693834  ,  1.1132814 , -0.9603875 , -1.970055  ,\n",
       "       -1.0120267 , -2.7289615 , -2.7759619 ,  3.214084  ,  1.8573734 ,\n",
       "       -1.3495721 , -0.10321241,  3.434593  , -2.8573685 , -1.9004927 ,\n",
       "       -1.6801298 , -2.805677  ,  1.7723105 , -0.41865307, -2.310913  ,\n",
       "       -6.2761464 , -0.8376036 ,  2.4590037 ,  2.1697695 , -4.440443  ],\n",
       "      dtype=float32)"
      ]
     },
     "execution_count": 19,
     "metadata": {},
     "output_type": "execute_result"
    }
   ],
   "source": [
    "word2vec_path = os.getenv('HOME')+'/data/word2vec_ko.model'\n",
    "word2vec = Word2VecKeyedVectors.load(word2vec_path)\n",
    "vector = word2vec.wv['끝']\n",
    "vector"
   ]
  },
  {
   "cell_type": "code",
   "execution_count": 20,
   "id": "23796a6e",
   "metadata": {},
   "outputs": [],
   "source": [
    "vocab_size = 10000    \n",
    "word_vector_dim = 100  \n",
    "embedding_matrix = np.random.rand(vocab_size, word_vector_dim)\n",
    "\n",
    "for i in range(4,vocab_size):\n",
    "    if index_to_word[i] in word2vec.wv:\n",
    "        embedding_matrix[i] = word2vec.wv[index_to_word[i]]"
   ]
  },
  {
   "cell_type": "code",
   "execution_count": 21,
   "id": "ec82e8d8",
   "metadata": {},
   "outputs": [
    {
     "name": "stdout",
     "output_type": "stream",
     "text": [
      "Model: \"sequential_1\"\n",
      "_________________________________________________________________\n",
      "Layer (type)                 Output Shape              Param #   \n",
      "=================================================================\n",
      "embedding_1 (Embedding)      (None, 41, 100)           1000000   \n",
      "_________________________________________________________________\n",
      "conv1d (Conv1D)              (None, 35, 16)            11216     \n",
      "_________________________________________________________________\n",
      "max_pooling1d (MaxPooling1D) (None, 7, 16)             0         \n",
      "_________________________________________________________________\n",
      "conv1d_1 (Conv1D)            (None, 1, 16)             1808      \n",
      "_________________________________________________________________\n",
      "global_max_pooling1d (Global (None, 16)                0         \n",
      "_________________________________________________________________\n",
      "dense_2 (Dense)              (None, 8)                 136       \n",
      "_________________________________________________________________\n",
      "dense_3 (Dense)              (None, 1)                 9         \n",
      "=================================================================\n",
      "Total params: 1,013,169\n",
      "Trainable params: 1,013,169\n",
      "Non-trainable params: 0\n",
      "_________________________________________________________________\n"
     ]
    }
   ],
   "source": [
    "from tensorflow.keras.initializers import Constant\n",
    "\n",
    "vocab_size = 10000\n",
    "word_vector_dim = 100\n",
    "\n",
    "model = tf.keras.Sequential()\n",
    "model.add(tf.keras.layers.Embedding(vocab_size, \n",
    "                                    word_vector_dim, \n",
    "                                    embeddings_initializer = Constant(embedding_matrix), \n",
    "                                    input_length = maxlen, \n",
    "                                    trainable = True))\n",
    "model.add(tf.keras.layers.Conv1D(16, 7, activation = 'relu'))\n",
    "model.add(tf.keras.layers.MaxPooling1D(5))\n",
    "model.add(tf.keras.layers.Conv1D(16, 7, activation = 'relu'))\n",
    "model.add(tf.keras.layers.GlobalMaxPooling1D())\n",
    "model.add(tf.keras.layers.Dense(8, activation = 'relu'))\n",
    "model.add(tf.keras.layers.Dense(1, activation = 'sigmoid'))\n",
    "\n",
    "model.summary()"
   ]
  },
  {
   "cell_type": "code",
   "execution_count": 22,
   "id": "87b1e801",
   "metadata": {},
   "outputs": [
    {
     "name": "stdout",
     "output_type": "stream",
     "text": [
      "Epoch 1/20\n",
      "532/532 [==============================] - 4s 5ms/step - loss: 0.5659 - accuracy: 0.6824 - val_loss: 0.4473 - val_accuracy: 0.7963\n",
      "Epoch 2/20\n",
      "532/532 [==============================] - 2s 5ms/step - loss: 0.4056 - accuracy: 0.8181 - val_loss: 0.3880 - val_accuracy: 0.8261\n",
      "Epoch 3/20\n",
      "532/532 [==============================] - 2s 5ms/step - loss: 0.3507 - accuracy: 0.8476 - val_loss: 0.3693 - val_accuracy: 0.8354\n",
      "Epoch 4/20\n",
      "532/532 [==============================] - 2s 5ms/step - loss: 0.3195 - accuracy: 0.8640 - val_loss: 0.3580 - val_accuracy: 0.8422\n",
      "Epoch 5/20\n",
      "532/532 [==============================] - 2s 5ms/step - loss: 0.2970 - accuracy: 0.8762 - val_loss: 0.3514 - val_accuracy: 0.8463\n",
      "Epoch 6/20\n",
      "532/532 [==============================] - 2s 4ms/step - loss: 0.2790 - accuracy: 0.8848 - val_loss: 0.3494 - val_accuracy: 0.8500\n",
      "Epoch 7/20\n",
      "532/532 [==============================] - 2s 4ms/step - loss: 0.2635 - accuracy: 0.8924 - val_loss: 0.3514 - val_accuracy: 0.8530\n",
      "Epoch 8/20\n",
      "532/532 [==============================] - 2s 5ms/step - loss: 0.2493 - accuracy: 0.8998 - val_loss: 0.3613 - val_accuracy: 0.8503\n",
      "Epoch 9/20\n",
      "532/532 [==============================] - 2s 4ms/step - loss: 0.2373 - accuracy: 0.9052 - val_loss: 0.3611 - val_accuracy: 0.8521\n",
      "Epoch 10/20\n",
      "532/532 [==============================] - 2s 4ms/step - loss: 0.2240 - accuracy: 0.9122 - val_loss: 0.3678 - val_accuracy: 0.8518\n",
      "Epoch 11/20\n",
      "532/532 [==============================] - 2s 4ms/step - loss: 0.2123 - accuracy: 0.9179 - val_loss: 0.3912 - val_accuracy: 0.8506\n",
      "Epoch 12/20\n",
      "532/532 [==============================] - 2s 5ms/step - loss: 0.2013 - accuracy: 0.9227 - val_loss: 0.3945 - val_accuracy: 0.8492\n",
      "Epoch 13/20\n",
      "532/532 [==============================] - 2s 5ms/step - loss: 0.1891 - accuracy: 0.9286 - val_loss: 0.4046 - val_accuracy: 0.8489\n",
      "Epoch 14/20\n",
      "532/532 [==============================] - 2s 5ms/step - loss: 0.1776 - accuracy: 0.9341 - val_loss: 0.4341 - val_accuracy: 0.8453\n",
      "Epoch 15/20\n",
      "532/532 [==============================] - 2s 4ms/step - loss: 0.1678 - accuracy: 0.9388 - val_loss: 0.4558 - val_accuracy: 0.8434\n",
      "Epoch 16/20\n",
      "532/532 [==============================] - 2s 5ms/step - loss: 0.1590 - accuracy: 0.9431 - val_loss: 0.4556 - val_accuracy: 0.8434\n",
      "Epoch 17/20\n",
      "532/532 [==============================] - 2s 4ms/step - loss: 0.1467 - accuracy: 0.9489 - val_loss: 0.4724 - val_accuracy: 0.8436\n",
      "Epoch 18/20\n",
      "532/532 [==============================] - 2s 4ms/step - loss: 0.1375 - accuracy: 0.9528 - val_loss: 0.5181 - val_accuracy: 0.8418\n",
      "Epoch 19/20\n",
      "532/532 [==============================] - 2s 4ms/step - loss: 0.1300 - accuracy: 0.9558 - val_loss: 0.5298 - val_accuracy: 0.8376\n",
      "Epoch 20/20\n",
      "532/532 [==============================] - 2s 4ms/step - loss: 0.1223 - accuracy: 0.9590 - val_loss: 0.5480 - val_accuracy: 0.8403\n"
     ]
    }
   ],
   "source": [
    "model.compile(optimizer = 'adam',\n",
    "              loss = 'binary_crossentropy',\n",
    "              metrics = ['accuracy'])\n",
    "\n",
    "epochs = 20\n",
    "\n",
    "history = model.fit(partial_X_train,\n",
    "                    partial_y_train,\n",
    "                    epochs= epochs,\n",
    "                    batch_size= 256,\n",
    "                    validation_data= (X_val, y_val),\n",
    "                    verbose= 1)"
   ]
  },
  {
   "cell_type": "code",
   "execution_count": 23,
   "id": "7689a1d1",
   "metadata": {},
   "outputs": [
    {
     "name": "stdout",
     "output_type": "stream",
     "text": [
      "1537/1537 - 3s - loss: 0.5730 - accuracy: 0.8329\n",
      "[0.5730077624320984, 0.832902729511261]\n"
     ]
    }
   ],
   "source": [
    "results = model.evaluate(X_test, y_test, verbose = 2)\n",
    "print(results)"
   ]
  },
  {
   "cell_type": "markdown",
   "id": "9aa5e9a0",
   "metadata": {},
   "source": [
    "# Model: CNN"
   ]
  },
  {
   "cell_type": "code",
   "execution_count": 24,
   "id": "35b7cae0",
   "metadata": {},
   "outputs": [
    {
     "name": "stdout",
     "output_type": "stream",
     "text": [
      "Model: \"sequential_2\"\n",
      "_________________________________________________________________\n",
      "Layer (type)                 Output Shape              Param #   \n",
      "=================================================================\n",
      "embedding_2 (Embedding)      (None, None, 100)         1000000   \n",
      "_________________________________________________________________\n",
      "conv1d_2 (Conv1D)            (None, None, 16)          11216     \n",
      "_________________________________________________________________\n",
      "max_pooling1d_1 (MaxPooling1 (None, None, 16)          0         \n",
      "_________________________________________________________________\n",
      "conv1d_3 (Conv1D)            (None, None, 16)          1808      \n",
      "_________________________________________________________________\n",
      "global_max_pooling1d_1 (Glob (None, 16)                0         \n",
      "_________________________________________________________________\n",
      "dense_4 (Dense)              (None, 8)                 136       \n",
      "_________________________________________________________________\n",
      "dense_5 (Dense)              (None, 1)                 9         \n",
      "=================================================================\n",
      "Total params: 1,013,169\n",
      "Trainable params: 1,013,169\n",
      "Non-trainable params: 0\n",
      "_________________________________________________________________\n"
     ]
    }
   ],
   "source": [
    "cnn = tf.keras.Sequential()\n",
    "cnn.add(tf.keras.layers.Embedding(vocab_size, word_vector_dim, input_shape = (None,)))\n",
    "cnn.add(tf.keras.layers.Conv1D(16, 7, activation = 'relu'))\n",
    "cnn.add(tf.keras.layers.MaxPooling1D(5))\n",
    "cnn.add(tf.keras.layers.Conv1D(16, 7, activation = 'relu'))\n",
    "cnn.add(tf.keras.layers.GlobalMaxPooling1D())\n",
    "cnn.add(tf.keras.layers.Dense(8, activation = 'relu'))\n",
    "cnn.add(tf.keras.layers.Dense(1, activation = 'sigmoid'))\n",
    "\n",
    "cnn.summary()"
   ]
  },
  {
   "cell_type": "code",
   "execution_count": 25,
   "id": "1aa8852e",
   "metadata": {},
   "outputs": [
    {
     "name": "stdout",
     "output_type": "stream",
     "text": [
      "Epoch 1/20\n",
      "532/532 [==============================] - 3s 5ms/step - loss: 0.4000 - accuracy: 0.8128 - val_loss: 0.3310 - val_accuracy: 0.8545\n",
      "Epoch 2/20\n",
      "532/532 [==============================] - 2s 4ms/step - loss: 0.2745 - accuracy: 0.8857 - val_loss: 0.3238 - val_accuracy: 0.8614\n",
      "Epoch 3/20\n",
      "532/532 [==============================] - 2s 5ms/step - loss: 0.1910 - accuracy: 0.9265 - val_loss: 0.3743 - val_accuracy: 0.8547\n",
      "Epoch 4/20\n",
      "532/532 [==============================] - 2s 4ms/step - loss: 0.1158 - accuracy: 0.9592 - val_loss: 0.4484 - val_accuracy: 0.8472\n",
      "Epoch 5/20\n",
      "532/532 [==============================] - 2s 4ms/step - loss: 0.0732 - accuracy: 0.9756 - val_loss: 0.5439 - val_accuracy: 0.8431\n",
      "Epoch 6/20\n",
      "532/532 [==============================] - 2s 4ms/step - loss: 0.0527 - accuracy: 0.9826 - val_loss: 0.6246 - val_accuracy: 0.8403\n",
      "Epoch 7/20\n",
      "532/532 [==============================] - 2s 5ms/step - loss: 0.0425 - accuracy: 0.9861 - val_loss: 0.6801 - val_accuracy: 0.8430\n",
      "Epoch 8/20\n",
      "532/532 [==============================] - 2s 4ms/step - loss: 0.0402 - accuracy: 0.9864 - val_loss: 0.7579 - val_accuracy: 0.8402\n",
      "Epoch 9/20\n",
      "532/532 [==============================] - 2s 5ms/step - loss: 0.0354 - accuracy: 0.9877 - val_loss: 0.7654 - val_accuracy: 0.8416\n",
      "Epoch 10/20\n",
      "532/532 [==============================] - 2s 4ms/step - loss: 0.0305 - accuracy: 0.9896 - val_loss: 0.8085 - val_accuracy: 0.8364\n",
      "Epoch 11/20\n",
      "532/532 [==============================] - 2s 4ms/step - loss: 0.0289 - accuracy: 0.9900 - val_loss: 0.8874 - val_accuracy: 0.8342\n",
      "Epoch 12/20\n",
      "532/532 [==============================] - 2s 5ms/step - loss: 0.0267 - accuracy: 0.9907 - val_loss: 0.9293 - val_accuracy: 0.8306\n",
      "Epoch 13/20\n",
      "532/532 [==============================] - 2s 5ms/step - loss: 0.0249 - accuracy: 0.9914 - val_loss: 0.9310 - val_accuracy: 0.8359\n",
      "Epoch 14/20\n",
      "532/532 [==============================] - 2s 5ms/step - loss: 0.0225 - accuracy: 0.9922 - val_loss: 1.0035 - val_accuracy: 0.8306\n",
      "Epoch 15/20\n",
      "532/532 [==============================] - 2s 5ms/step - loss: 0.0233 - accuracy: 0.9917 - val_loss: 1.0116 - val_accuracy: 0.8337\n",
      "Epoch 16/20\n",
      "532/532 [==============================] - 2s 5ms/step - loss: 0.0223 - accuracy: 0.9922 - val_loss: 1.0199 - val_accuracy: 0.8350\n",
      "Epoch 17/20\n",
      "532/532 [==============================] - 2s 4ms/step - loss: 0.0184 - accuracy: 0.9938 - val_loss: 1.0126 - val_accuracy: 0.8347\n",
      "Epoch 18/20\n",
      "532/532 [==============================] - 2s 4ms/step - loss: 0.0180 - accuracy: 0.9935 - val_loss: 1.1406 - val_accuracy: 0.8350\n",
      "Epoch 19/20\n",
      "532/532 [==============================] - 2s 4ms/step - loss: 0.0198 - accuracy: 0.9927 - val_loss: 1.0680 - val_accuracy: 0.8327\n",
      "Epoch 20/20\n",
      "532/532 [==============================] - 2s 4ms/step - loss: 0.0178 - accuracy: 0.9937 - val_loss: 1.1517 - val_accuracy: 0.8335\n"
     ]
    }
   ],
   "source": [
    "cnn.compile(optimizer = 'adam',\n",
    "              loss = 'binary_crossentropy',\n",
    "              metrics = ['accuracy'])\n",
    "\n",
    "epochs = 20\n",
    "\n",
    "history = cnn.fit(partial_X_train,\n",
    "                    partial_y_train,\n",
    "                    epochs= epochs,\n",
    "                    batch_size= 256,\n",
    "                    validation_data= (X_val, y_val),\n",
    "                    verbose= 1)"
   ]
  },
  {
   "cell_type": "code",
   "execution_count": 26,
   "id": "b2d47ed3",
   "metadata": {},
   "outputs": [
    {
     "name": "stdout",
     "output_type": "stream",
     "text": [
      "1537/1537 - 2s - loss: 1.1661 - accuracy: 0.8297\n",
      "[1.1660645008087158, 0.8297088742256165]\n"
     ]
    }
   ],
   "source": [
    "results = cnn.evaluate(X_test, y_test, verbose = 2)\n",
    "print(results)"
   ]
  },
  {
   "cell_type": "markdown",
   "id": "588c90cc",
   "metadata": {},
   "source": [
    "Visualization"
   ]
  },
  {
   "cell_type": "code",
   "execution_count": 27,
   "id": "6bdd3b3d",
   "metadata": {},
   "outputs": [
    {
     "name": "stdout",
     "output_type": "stream",
     "text": [
      "dict_keys(['loss', 'accuracy', 'val_loss', 'val_accuracy'])\n"
     ]
    }
   ],
   "source": [
    "history_dict = history.history\n",
    "print(history_dict.keys())"
   ]
  },
  {
   "cell_type": "code",
   "execution_count": 28,
   "id": "895f4dc9",
   "metadata": {},
   "outputs": [
    {
     "data": {
      "image/png": "[encoded data removed]",
      "text/plain": [
       "<Figure size 432x288 with 1 Axes>"
      ]
     },
     "metadata": {
      "needs_background": "light"
     },
     "output_type": "display_data"
    }
   ],
   "source": [
    "acc = history_dict['accuracy']\n",
    "val_acc = history_dict['val_accuracy']\n",
    "loss = history_dict['loss']\n",
    "val_loss = history_dict['val_loss']\n",
    "\n",
    "epochs = range(1, len(acc) + 1)\n",
    "\n",
    "plt.plot(epochs, loss, 'bo', label = 'Training loss')\n",
    "plt.plot(epochs, val_loss, 'b', label = 'Validation loss')\n",
    "plt.title('Training and Validation Loss')\n",
    "plt.xlabel('Epochs')\n",
    "plt.ylabel('Loss')\n",
    "plt.legend()\n",
    "\n",
    "plt.show()"
   ]
  },
  {
   "cell_type": "code",
   "execution_count": 29,
   "id": "0f668080",
   "metadata": {},
   "outputs": [
    {
     "data": {
      "image/png": "[encoded data removed]",
      "text/plain": [
       "<Figure size 432x288 with 1 Axes>"
      ]
     },
     "metadata": {
      "needs_background": "light"
     },
     "output_type": "display_data"
    }
   ],
   "source": [
    "plt.clf()\n",
    "\n",
    "plt.plot(epochs, acc, 'bo', label = 'Training acc')\n",
    "plt.plot(epochs, val_acc, 'b', label = 'Validation acc')\n",
    "plt.title('Training and Validation Accuracy')\n",
    "plt.xlabel('Epochs')\n",
    "plt.ylabel('Accuracy')\n",
    "plt.legend()\n",
    "\n",
    "plt.show()"
   ]
  },
  {
   "cell_type": "markdown",
   "id": "c8fde1c1",
   "metadata": {},
   "source": [
    "Embedding"
   ]
  },
  {
   "cell_type": "code",
   "execution_count": 30,
   "id": "9e6442bd",
   "metadata": {},
   "outputs": [],
   "source": [
    "embedding_cnn = cnn.layers[0]\n",
    "weights = embedding_cnn.get_weights()[0]"
   ]
  },
  {
   "cell_type": "code",
   "execution_count": 31,
   "id": "bc4085ab",
   "metadata": {},
   "outputs": [],
   "source": [
    "word2vec_file_path =os.getenv('HOME')+'/aiffel/sentiment_classification/data/word2vec.txt'\n",
    "f = open(word2vec_file_path, 'w')\n",
    "f.write('{} {}\\n'.format(vocab_size-4, word_vector_dim))  \n",
    "\n",
    "vectors = cnn.get_weights()[0]\n",
    "for i in range(4,vocab_size):\n",
    "    f.write('{} {}\\n'.format(index_to_word[i], ' '.join(map(str, list(vectors[i, :])))))\n",
    "f.close()"
   ]
  },
  {
   "cell_type": "code",
   "execution_count": 32,
   "id": "472fcb6d",
   "metadata": {},
   "outputs": [
    {
     "data": {
      "text/plain": [
       "array([-1.07075907e-01,  8.55837017e-03, -6.57212511e-02,  1.44962713e-01,\n",
       "        2.61581801e-02, -1.30292803e-01, -1.84644207e-01, -1.02757895e-02,\n",
       "        4.65097018e-02, -7.96555877e-02, -2.44447365e-01,  2.95203328e-01,\n",
       "        2.18771040e-01,  9.44310217e-04, -1.00030944e-01,  5.44784442e-02,\n",
       "        1.69689566e-01, -2.08537325e-01,  4.15393263e-02, -2.41145983e-01,\n",
       "        1.21776149e-01,  1.30095975e-02,  2.94518545e-02, -3.22220385e-01,\n",
       "        1.80398524e-01, -1.80501528e-02, -4.87469556e-03,  1.74697489e-01,\n",
       "        9.02976282e-03, -1.16273798e-01,  7.37747923e-02, -1.82483763e-01,\n",
       "        9.02751535e-02, -1.01213455e-01,  1.20399315e-02, -3.03892400e-02,\n",
       "        1.04421988e-01,  1.39918393e-02, -5.18741310e-02,  1.02240346e-01,\n",
       "       -5.98986149e-02, -3.81109007e-02,  2.23244786e-01,  1.87385031e-05,\n",
       "       -3.09748501e-02, -3.23720068e-01,  1.45075303e-02,  1.18393771e-01,\n",
       "        2.53711730e-01, -7.37274764e-03, -1.14093743e-01, -1.71013847e-01,\n",
       "        2.02154070e-01,  3.95503230e-02, -8.41934979e-02, -1.61945477e-01,\n",
       "       -2.22344492e-02,  1.74674064e-01,  8.15230832e-02, -1.05589822e-01,\n",
       "        1.18459957e-02, -1.05609626e-01, -2.97007058e-03, -9.53894556e-02,\n",
       "        4.00973521e-02, -6.21374585e-02,  4.21413183e-02,  5.80798537e-02,\n",
       "       -5.15389964e-02, -8.09696410e-03,  3.72549593e-02,  9.90150049e-02,\n",
       "        1.19897664e-01,  2.95376405e-02,  1.14528671e-01,  5.24725765e-02,\n",
       "        1.26632880e-02, -1.68667689e-01, -6.99553639e-02,  1.71754584e-01,\n",
       "        1.69862602e-02,  2.23112162e-02, -1.11741163e-01, -6.64443225e-02,\n",
       "       -4.14942801e-02, -1.74792603e-01,  7.06627592e-02,  2.47287680e-03,\n",
       "       -5.38516194e-02, -1.13741653e-02,  1.36628225e-01,  1.11424699e-01,\n",
       "        1.23129517e-01,  1.88604500e-02,  5.48699610e-02,  3.72325606e-03,\n",
       "        7.73214400e-02,  1.05987914e-01, -1.74081214e-02,  7.77930813e-03],\n",
       "      dtype=float32)"
      ]
     },
     "execution_count": 32,
     "metadata": {},
     "output_type": "execute_result"
    }
   ],
   "source": [
    "word_vectors = Word2VecKeyedVectors.load_word2vec_format(word2vec_file_path, binary=False)\n",
    "vector = word_vectors['컴퓨터']\n",
    "vector"
   ]
  },
  {
   "cell_type": "code",
   "execution_count": 33,
   "id": "8eaa795d",
   "metadata": {},
   "outputs": [
    {
     "data": {
      "text/plain": [
       "[('고마워요', 0.8968068957328796),\n",
       " ('습니당', 0.8751513957977295),\n",
       " ('새록새록', 0.8725975751876831),\n",
       " ('슬퍼요', 0.8672952055931091),\n",
       " ('we', 0.8613718748092651),\n",
       " ('♥♥', 0.8603352904319763),\n",
       " ('스며드', 0.8551819324493408),\n",
       " ('조음', 0.8515118956565857),\n",
       " ('life', 0.8378891944885254),\n",
       " ('밋기', 0.8347744941711426)]"
      ]
     },
     "execution_count": 33,
     "metadata": {},
     "output_type": "execute_result"
    }
   ],
   "source": [
    "from gensim.models.keyedvectors import Word2VecKeyedVectors\n",
    "\n",
    "word_vectors = Word2VecKeyedVectors.load_word2vec_format(word2vec_file_path, binary=False)\n",
    "word_vectors.similar_by_word('love')"
   ]
  },
  {
   "cell_type": "markdown",
   "id": "6b88f731",
   "metadata": {},
   "source": [
    "한국어 Word2Vec"
   ]
  },
  {
   "cell_type": "code",
   "execution_count": 34,
   "id": "e8a96c30",
   "metadata": {},
   "outputs": [
    {
     "data": {
      "text/plain": [
       "array([ 1.038851  , -1.1634965 ,  2.2386286 ,  0.8971453 , -2.088168  ,\n",
       "       -4.1942534 , -0.02519768, -0.69813883, -0.2908033 , -1.4651134 ,\n",
       "       -2.6863668 ,  0.7999443 , -0.6957915 , -0.5018775 ,  3.5025773 ,\n",
       "        0.21326113, -0.6588098 , -1.1900496 ,  0.61399573,  2.1247969 ,\n",
       "        0.1549463 ,  3.0840218 ,  3.1680267 , -3.9143991 ,  3.6073153 ,\n",
       "        0.5315545 , -0.3511633 , -1.107248  ,  1.7767181 , -0.95981866,\n",
       "        2.6072454 , -0.00697957, -3.27628   ,  1.558644  ,  0.81922376,\n",
       "        1.9231955 ,  3.7026553 , -0.53824735, -0.4920138 ,  2.4657123 ,\n",
       "       -2.620749  , -0.08950733,  0.61453176,  1.8866426 ,  0.257866  ,\n",
       "       -2.7827141 ,  2.9129577 , -0.6313133 ,  2.0387425 , -4.222685  ,\n",
       "       -2.7560544 ,  1.7903243 , -1.3080189 , -2.5531402 , -0.43849912,\n",
       "       -3.1073573 , -0.29090825,  5.1817617 ,  1.9604833 , -5.1421604 ,\n",
       "       -0.71431434,  4.5624633 , -0.55525815, -3.3019137 ,  1.6761336 ,\n",
       "       -1.9606539 , -0.2726863 ,  0.2465995 ,  1.2685091 ,  1.6055685 ,\n",
       "        1.8344896 ,  1.2752469 ,  0.99503314, -2.3348706 , -0.9290329 ,\n",
       "       -1.5920266 ,  5.693834  ,  1.1132814 , -0.9603875 , -1.970055  ,\n",
       "       -1.0120267 , -2.7289615 , -2.7759619 ,  3.214084  ,  1.8573734 ,\n",
       "       -1.3495721 , -0.10321241,  3.434593  , -2.8573685 , -1.9004927 ,\n",
       "       -1.6801298 , -2.805677  ,  1.7723105 , -0.41865307, -2.310913  ,\n",
       "       -6.2761464 , -0.8376036 ,  2.4590037 ,  2.1697695 , -4.440443  ],\n",
       "      dtype=float32)"
      ]
     },
     "execution_count": 34,
     "metadata": {},
     "output_type": "execute_result"
    }
   ],
   "source": [
    "word2vec_path = os.getenv('HOME')+'/data/word2vec_ko.model'\n",
    "word2vec = Word2VecKeyedVectors.load(word2vec_path)\n",
    "vector = word2vec.wv['끝']\n",
    "vector"
   ]
  },
  {
   "cell_type": "code",
   "execution_count": 35,
   "id": "2c62ee48",
   "metadata": {},
   "outputs": [],
   "source": [
    "vocab_size = 10000    \n",
    "word_vector_dim = 100  \n",
    "embedding_matrix = np.random.rand(vocab_size, word_vector_dim)\n",
    "\n",
    "for i in range(4,vocab_size):\n",
    "    if index_to_word[i] in word2vec.wv:\n",
    "        embedding_matrix[i] = word2vec.wv[index_to_word[i]]"
   ]
  },
  {
   "cell_type": "code",
   "execution_count": 36,
   "id": "72439da9",
   "metadata": {},
   "outputs": [
    {
     "name": "stdout",
     "output_type": "stream",
     "text": [
      "Model: \"sequential_3\"\n",
      "_________________________________________________________________\n",
      "Layer (type)                 Output Shape              Param #   \n",
      "=================================================================\n",
      "embedding_3 (Embedding)      (None, 41, 100)           1000000   \n",
      "_________________________________________________________________\n",
      "conv1d_4 (Conv1D)            (None, 35, 16)            11216     \n",
      "_________________________________________________________________\n",
      "max_pooling1d_2 (MaxPooling1 (None, 7, 16)             0         \n",
      "_________________________________________________________________\n",
      "conv1d_5 (Conv1D)            (None, 1, 16)             1808      \n",
      "_________________________________________________________________\n",
      "global_max_pooling1d_2 (Glob (None, 16)                0         \n",
      "_________________________________________________________________\n",
      "dense_6 (Dense)              (None, 8)                 136       \n",
      "_________________________________________________________________\n",
      "dense_7 (Dense)              (None, 1)                 9         \n",
      "=================================================================\n",
      "Total params: 1,013,169\n",
      "Trainable params: 1,013,169\n",
      "Non-trainable params: 0\n",
      "_________________________________________________________________\n"
     ]
    }
   ],
   "source": [
    "from tensorflow.keras.initializers import Constant\n",
    "\n",
    "vocab_size = 10000\n",
    "word_vector_dim = 100\n",
    "\n",
    "model = tf.keras.Sequential()\n",
    "model.add(tf.keras.layers.Embedding(vocab_size, \n",
    "                                    word_vector_dim, \n",
    "                                    embeddings_initializer = Constant(embedding_matrix), \n",
    "                                    input_length = maxlen, \n",
    "                                    trainable = True))\n",
    "model.add(tf.keras.layers.Conv1D(16, 7, activation = 'relu'))\n",
    "model.add(tf.keras.layers.MaxPooling1D(5))\n",
    "model.add(tf.keras.layers.Conv1D(16, 7, activation = 'relu'))\n",
    "model.add(tf.keras.layers.GlobalMaxPooling1D())\n",
    "model.add(tf.keras.layers.Dense(8, activation = 'relu'))\n",
    "model.add(tf.keras.layers.Dense(1, activation = 'sigmoid'))\n",
    "\n",
    "model.summary()"
   ]
  },
  {
   "cell_type": "code",
   "execution_count": 37,
   "id": "37285e8a",
   "metadata": {},
   "outputs": [
    {
     "name": "stdout",
     "output_type": "stream",
     "text": [
      "Epoch 1/20\n",
      "532/532 [==============================] - 3s 5ms/step - loss: 0.5558 - accuracy: 0.6994 - val_loss: 0.4441 - val_accuracy: 0.7949\n",
      "Epoch 2/20\n",
      "532/532 [==============================] - 2s 4ms/step - loss: 0.4033 - accuracy: 0.8189 - val_loss: 0.3807 - val_accuracy: 0.8324\n",
      "Epoch 3/20\n",
      "532/532 [==============================] - 2s 4ms/step - loss: 0.3479 - accuracy: 0.8486 - val_loss: 0.3556 - val_accuracy: 0.8413\n",
      "Epoch 4/20\n",
      "532/532 [==============================] - 2s 5ms/step - loss: 0.3163 - accuracy: 0.8649 - val_loss: 0.3464 - val_accuracy: 0.8490\n",
      "Epoch 5/20\n",
      "532/532 [==============================] - 2s 4ms/step - loss: 0.2954 - accuracy: 0.8766 - val_loss: 0.3486 - val_accuracy: 0.8501\n",
      "Epoch 6/20\n",
      "532/532 [==============================] - 2s 4ms/step - loss: 0.2780 - accuracy: 0.8854 - val_loss: 0.3436 - val_accuracy: 0.8523\n",
      "Epoch 7/20\n",
      "532/532 [==============================] - 2s 5ms/step - loss: 0.2640 - accuracy: 0.8926 - val_loss: 0.3539 - val_accuracy: 0.8481\n",
      "Epoch 8/20\n",
      "532/532 [==============================] - 2s 4ms/step - loss: 0.2506 - accuracy: 0.8993 - val_loss: 0.3569 - val_accuracy: 0.8485\n",
      "Epoch 9/20\n",
      "532/532 [==============================] - 2s 4ms/step - loss: 0.2375 - accuracy: 0.9059 - val_loss: 0.3545 - val_accuracy: 0.8485\n",
      "Epoch 10/20\n",
      "532/532 [==============================] - 2s 5ms/step - loss: 0.2252 - accuracy: 0.9117 - val_loss: 0.3690 - val_accuracy: 0.8497\n",
      "Epoch 11/20\n",
      "532/532 [==============================] - 2s 4ms/step - loss: 0.2138 - accuracy: 0.9176 - val_loss: 0.3744 - val_accuracy: 0.8480\n",
      "Epoch 12/20\n",
      "532/532 [==============================] - 2s 5ms/step - loss: 0.2030 - accuracy: 0.9226 - val_loss: 0.3879 - val_accuracy: 0.8444\n",
      "Epoch 13/20\n",
      "532/532 [==============================] - 2s 4ms/step - loss: 0.1926 - accuracy: 0.9278 - val_loss: 0.3986 - val_accuracy: 0.8454\n",
      "Epoch 14/20\n",
      "532/532 [==============================] - 2s 4ms/step - loss: 0.1821 - accuracy: 0.9324 - val_loss: 0.4098 - val_accuracy: 0.8448\n",
      "Epoch 15/20\n",
      "532/532 [==============================] - 2s 4ms/step - loss: 0.1721 - accuracy: 0.9374 - val_loss: 0.4189 - val_accuracy: 0.8430\n",
      "Epoch 16/20\n",
      "532/532 [==============================] - 2s 4ms/step - loss: 0.1631 - accuracy: 0.9408 - val_loss: 0.4383 - val_accuracy: 0.8429\n",
      "Epoch 17/20\n",
      "532/532 [==============================] - 2s 4ms/step - loss: 0.1529 - accuracy: 0.9461 - val_loss: 0.4605 - val_accuracy: 0.8422\n",
      "Epoch 18/20\n",
      "532/532 [==============================] - 2s 5ms/step - loss: 0.1436 - accuracy: 0.9504 - val_loss: 0.4763 - val_accuracy: 0.8413\n",
      "Epoch 19/20\n",
      "532/532 [==============================] - 2s 4ms/step - loss: 0.1354 - accuracy: 0.9531 - val_loss: 0.5133 - val_accuracy: 0.8409\n",
      "Epoch 20/20\n",
      "532/532 [==============================] - 2s 4ms/step - loss: 0.1264 - accuracy: 0.9577 - val_loss: 0.5382 - val_accuracy: 0.8396\n"
     ]
    }
   ],
   "source": [
    "model.compile(optimizer = 'adam',\n",
    "              loss = 'binary_crossentropy',\n",
    "              metrics = ['accuracy'])\n",
    "\n",
    "epochs = 20\n",
    "\n",
    "history = model.fit(partial_X_train,\n",
    "                    partial_y_train,\n",
    "                    epochs= epochs,\n",
    "                    batch_size= 256,\n",
    "                    validation_data= (X_val, y_val),\n",
    "                    verbose= 1)"
   ]
  },
  {
   "cell_type": "code",
   "execution_count": 38,
   "id": "e6c375a7",
   "metadata": {},
   "outputs": [
    {
     "name": "stdout",
     "output_type": "stream",
     "text": [
      "1537/1537 - 2s - loss: 0.5596 - accuracy: 0.8340\n",
      "[0.5596424341201782, 0.8340012431144714]\n"
     ]
    }
   ],
   "source": [
    "results = model.evaluate(X_test, y_test, verbose = 2)\n",
    "print(results)"
   ]
  },
  {
   "cell_type": "markdown",
   "id": "a1f31a0f",
   "metadata": {},
   "source": [
    "# Model: SIMPLE"
   ]
  },
  {
   "cell_type": "code",
   "execution_count": 39,
   "id": "e037dca4",
   "metadata": {},
   "outputs": [
    {
     "name": "stdout",
     "output_type": "stream",
     "text": [
      "Model: \"sequential_4\"\n",
      "_________________________________________________________________\n",
      "Layer (type)                 Output Shape              Param #   \n",
      "=================================================================\n",
      "embedding_4 (Embedding)      (None, None, 100)         1000000   \n",
      "_________________________________________________________________\n",
      "global_max_pooling1d_3 (Glob (None, 100)               0         \n",
      "_________________________________________________________________\n",
      "dense_8 (Dense)              (None, 8)                 808       \n",
      "_________________________________________________________________\n",
      "dense_9 (Dense)              (None, 1)                 9         \n",
      "=================================================================\n",
      "Total params: 1,000,817\n",
      "Trainable params: 1,000,817\n",
      "Non-trainable params: 0\n",
      "_________________________________________________________________\n"
     ]
    }
   ],
   "source": [
    "simple = tf.keras.Sequential()\n",
    "simple.add(tf.keras.layers.Embedding(vocab_size, word_vector_dim, input_shape = (None,)))\n",
    "simple.add(tf.keras.layers.GlobalMaxPooling1D())\n",
    "simple.add(tf.keras.layers.Dense(8, activation = 'relu'))\n",
    "simple.add(tf.keras.layers.Dense(1, activation = 'sigmoid'))\n",
    "\n",
    "simple.summary()"
   ]
  },
  {
   "cell_type": "code",
   "execution_count": 40,
   "id": "a26b521e",
   "metadata": {},
   "outputs": [
    {
     "name": "stdout",
     "output_type": "stream",
     "text": [
      "Epoch 1/20\n",
      "532/532 [==============================] - 2s 4ms/step - loss: 0.4262 - accuracy: 0.8170 - val_loss: 0.3370 - val_accuracy: 0.8512\n",
      "Epoch 2/20\n",
      "532/532 [==============================] - 2s 3ms/step - loss: 0.3058 - accuracy: 0.8709 - val_loss: 0.3312 - val_accuracy: 0.8543\n",
      "Epoch 3/20\n",
      "532/532 [==============================] - 2s 3ms/step - loss: 0.2623 - accuracy: 0.8930 - val_loss: 0.3395 - val_accuracy: 0.8563\n",
      "Epoch 4/20\n",
      "532/532 [==============================] - 2s 3ms/step - loss: 0.2241 - accuracy: 0.9127 - val_loss: 0.3597 - val_accuracy: 0.8554\n",
      "Epoch 5/20\n",
      "532/532 [==============================] - 2s 3ms/step - loss: 0.1870 - accuracy: 0.9294 - val_loss: 0.3804 - val_accuracy: 0.8527\n",
      "Epoch 6/20\n",
      "532/532 [==============================] - 2s 3ms/step - loss: 0.1503 - accuracy: 0.9466 - val_loss: 0.4174 - val_accuracy: 0.8500\n",
      "Epoch 7/20\n",
      "532/532 [==============================] - 2s 3ms/step - loss: 0.1172 - accuracy: 0.9614 - val_loss: 0.4627 - val_accuracy: 0.8441\n",
      "Epoch 8/20\n",
      "532/532 [==============================] - 2s 3ms/step - loss: 0.0895 - accuracy: 0.9723 - val_loss: 0.5193 - val_accuracy: 0.8427\n",
      "Epoch 9/20\n",
      "532/532 [==============================] - 2s 3ms/step - loss: 0.0681 - accuracy: 0.9800 - val_loss: 0.5704 - val_accuracy: 0.8393\n",
      "Epoch 10/20\n",
      "532/532 [==============================] - 2s 3ms/step - loss: 0.0518 - accuracy: 0.9855 - val_loss: 0.6252 - val_accuracy: 0.8355\n",
      "Epoch 11/20\n",
      "532/532 [==============================] - 2s 3ms/step - loss: 0.0397 - accuracy: 0.9891 - val_loss: 0.6738 - val_accuracy: 0.8344\n",
      "Epoch 12/20\n",
      "532/532 [==============================] - 2s 3ms/step - loss: 0.0316 - accuracy: 0.9912 - val_loss: 0.7250 - val_accuracy: 0.8352\n",
      "Epoch 13/20\n",
      "532/532 [==============================] - 2s 3ms/step - loss: 0.0252 - accuracy: 0.9929 - val_loss: 0.7734 - val_accuracy: 0.8312\n",
      "Epoch 14/20\n",
      "532/532 [==============================] - 2s 3ms/step - loss: 0.0213 - accuracy: 0.9938 - val_loss: 0.8322 - val_accuracy: 0.8303\n",
      "Epoch 15/20\n",
      "532/532 [==============================] - 2s 3ms/step - loss: 0.0181 - accuracy: 0.9944 - val_loss: 0.8856 - val_accuracy: 0.8277\n",
      "Epoch 16/20\n",
      "532/532 [==============================] - 2s 3ms/step - loss: 0.0159 - accuracy: 0.9950 - val_loss: 0.9287 - val_accuracy: 0.8276\n",
      "Epoch 17/20\n",
      "532/532 [==============================] - 2s 3ms/step - loss: 0.0139 - accuracy: 0.9954 - val_loss: 0.9722 - val_accuracy: 0.8307\n",
      "Epoch 18/20\n",
      "532/532 [==============================] - 2s 3ms/step - loss: 0.0138 - accuracy: 0.9951 - val_loss: 1.0188 - val_accuracy: 0.8305\n",
      "Epoch 19/20\n",
      "532/532 [==============================] - 2s 3ms/step - loss: 0.0136 - accuracy: 0.9951 - val_loss: 1.0412 - val_accuracy: 0.8257\n",
      "Epoch 20/20\n",
      "532/532 [==============================] - 2s 3ms/step - loss: 0.0123 - accuracy: 0.9956 - val_loss: 1.0684 - val_accuracy: 0.8247\n"
     ]
    }
   ],
   "source": [
    "simple.compile(optimizer = 'adam',\n",
    "              loss = 'binary_crossentropy',\n",
    "              metrics = ['accuracy'])\n",
    "\n",
    "epochs = 20\n",
    "\n",
    "history = simple.fit(partial_X_train,\n",
    "                    partial_y_train,\n",
    "                    epochs= epochs,\n",
    "                    batch_size= 256,\n",
    "                    validation_data= (X_val, y_val),\n",
    "                    verbose= 1)"
   ]
  },
  {
   "cell_type": "code",
   "execution_count": 41,
   "id": "405c28a8",
   "metadata": {},
   "outputs": [
    {
     "name": "stdout",
     "output_type": "stream",
     "text": [
      "1537/1537 - 2s - loss: 1.0995 - accuracy: 0.8221\n",
      "[1.0995306968688965, 0.8220802545547485]\n"
     ]
    }
   ],
   "source": [
    "results = simple.evaluate(X_test, y_test, verbose = 2)\n",
    "print(results)"
   ]
  },
  {
   "cell_type": "markdown",
   "id": "3447122f",
   "metadata": {},
   "source": [
    "Visualization"
   ]
  },
  {
   "cell_type": "code",
   "execution_count": 42,
   "id": "16193871",
   "metadata": {},
   "outputs": [
    {
     "name": "stdout",
     "output_type": "stream",
     "text": [
      "dict_keys(['loss', 'accuracy', 'val_loss', 'val_accuracy'])\n"
     ]
    }
   ],
   "source": [
    "history_dict = history.history\n",
    "print(history_dict.keys())"
   ]
  },
  {
   "cell_type": "code",
   "execution_count": 43,
   "id": "1b514417",
   "metadata": {},
   "outputs": [
    {
     "data": {
      "image/png": "[encoded data removed]",
      "text/plain": [
       "<Figure size 432x288 with 1 Axes>"
      ]
     },
     "metadata": {
      "needs_background": "light"
     },
     "output_type": "display_data"
    }
   ],
   "source": [
    "acc = history_dict['accuracy']\n",
    "val_acc = history_dict['val_accuracy']\n",
    "loss = history_dict['loss']\n",
    "val_loss = history_dict['val_loss']\n",
    "\n",
    "epochs = range(1, len(acc) + 1)\n",
    "\n",
    "plt.plot(epochs, loss, 'bo', label = 'Training loss')\n",
    "plt.plot(epochs, val_loss, 'b', label = 'Validation loss')\n",
    "plt.title('Training and Validation Loss')\n",
    "plt.xlabel('Epochs')\n",
    "plt.ylabel('Loss')\n",
    "plt.legend()\n",
    "\n",
    "plt.show()"
   ]
  },
  {
   "cell_type": "code",
   "execution_count": 44,
   "id": "9f134945",
   "metadata": {
    "scrolled": true
   },
   "outputs": [
    {
     "data": {
      "image/png": "[encoded data removed]",
      "text/plain": [
       "<Figure size 432x288 with 1 Axes>"
      ]
     },
     "metadata": {
      "needs_background": "light"
     },
     "output_type": "display_data"
    }
   ],
   "source": [
    "plt.clf()\n",
    "\n",
    "plt.plot(epochs, acc, 'bo', label = 'Training acc')\n",
    "plt.plot(epochs, val_acc, 'b', label = 'Validation acc')\n",
    "plt.title('Training and Validation Accuracy')\n",
    "plt.xlabel('Epochs')\n",
    "plt.ylabel('Accuracy')\n",
    "plt.legend()\n",
    "\n",
    "plt.show()"
   ]
  },
  {
   "cell_type": "markdown",
   "id": "93a3d96d",
   "metadata": {},
   "source": [
    "Embedding"
   ]
  },
  {
   "cell_type": "code",
   "execution_count": 45,
   "id": "8724753e",
   "metadata": {},
   "outputs": [],
   "source": [
    "embedding_simple = simple.layers[0]\n",
    "weights = embedding_simple.get_weights()[0]"
   ]
  },
  {
   "cell_type": "code",
   "execution_count": 46,
   "id": "f29e627d",
   "metadata": {},
   "outputs": [],
   "source": [
    "word2vec_file_path =os.getenv('HOME')+'/aiffel/sentiment_classification/data/word2vec.txt'\n",
    "f = open(word2vec_file_path, 'w')\n",
    "f.write('{} {}\\n'.format(vocab_size-4, word_vector_dim))  \n",
    "\n",
    "vectors = cnn.get_weights()[0]\n",
    "for i in range(4,vocab_size):\n",
    "    f.write('{} {}\\n'.format(index_to_word[i], ' '.join(map(str, list(vectors[i, :])))))\n",
    "f.close()"
   ]
  },
  {
   "cell_type": "code",
   "execution_count": 47,
   "id": "51ae9efb",
   "metadata": {},
   "outputs": [
    {
     "data": {
      "text/plain": [
       "array([-1.07075907e-01,  8.55837017e-03, -6.57212511e-02,  1.44962713e-01,\n",
       "        2.61581801e-02, -1.30292803e-01, -1.84644207e-01, -1.02757895e-02,\n",
       "        4.65097018e-02, -7.96555877e-02, -2.44447365e-01,  2.95203328e-01,\n",
       "        2.18771040e-01,  9.44310217e-04, -1.00030944e-01,  5.44784442e-02,\n",
       "        1.69689566e-01, -2.08537325e-01,  4.15393263e-02, -2.41145983e-01,\n",
       "        1.21776149e-01,  1.30095975e-02,  2.94518545e-02, -3.22220385e-01,\n",
       "        1.80398524e-01, -1.80501528e-02, -4.87469556e-03,  1.74697489e-01,\n",
       "        9.02976282e-03, -1.16273798e-01,  7.37747923e-02, -1.82483763e-01,\n",
       "        9.02751535e-02, -1.01213455e-01,  1.20399315e-02, -3.03892400e-02,\n",
       "        1.04421988e-01,  1.39918393e-02, -5.18741310e-02,  1.02240346e-01,\n",
       "       -5.98986149e-02, -3.81109007e-02,  2.23244786e-01,  1.87385031e-05,\n",
       "       -3.09748501e-02, -3.23720068e-01,  1.45075303e-02,  1.18393771e-01,\n",
       "        2.53711730e-01, -7.37274764e-03, -1.14093743e-01, -1.71013847e-01,\n",
       "        2.02154070e-01,  3.95503230e-02, -8.41934979e-02, -1.61945477e-01,\n",
       "       -2.22344492e-02,  1.74674064e-01,  8.15230832e-02, -1.05589822e-01,\n",
       "        1.18459957e-02, -1.05609626e-01, -2.97007058e-03, -9.53894556e-02,\n",
       "        4.00973521e-02, -6.21374585e-02,  4.21413183e-02,  5.80798537e-02,\n",
       "       -5.15389964e-02, -8.09696410e-03,  3.72549593e-02,  9.90150049e-02,\n",
       "        1.19897664e-01,  2.95376405e-02,  1.14528671e-01,  5.24725765e-02,\n",
       "        1.26632880e-02, -1.68667689e-01, -6.99553639e-02,  1.71754584e-01,\n",
       "        1.69862602e-02,  2.23112162e-02, -1.11741163e-01, -6.64443225e-02,\n",
       "       -4.14942801e-02, -1.74792603e-01,  7.06627592e-02,  2.47287680e-03,\n",
       "       -5.38516194e-02, -1.13741653e-02,  1.36628225e-01,  1.11424699e-01,\n",
       "        1.23129517e-01,  1.88604500e-02,  5.48699610e-02,  3.72325606e-03,\n",
       "        7.73214400e-02,  1.05987914e-01, -1.74081214e-02,  7.77930813e-03],\n",
       "      dtype=float32)"
      ]
     },
     "execution_count": 47,
     "metadata": {},
     "output_type": "execute_result"
    }
   ],
   "source": [
    "word_vectors = Word2VecKeyedVectors.load_word2vec_format(word2vec_file_path, binary=False)\n",
    "vector = word_vectors['컴퓨터']\n",
    "vector"
   ]
  },
  {
   "cell_type": "code",
   "execution_count": 48,
   "id": "d8d568ed",
   "metadata": {},
   "outputs": [
    {
     "data": {
      "text/plain": [
       "[('고마워요', 0.8968068957328796),\n",
       " ('습니당', 0.8751513957977295),\n",
       " ('새록새록', 0.8725975751876831),\n",
       " ('슬퍼요', 0.8672952055931091),\n",
       " ('we', 0.8613718748092651),\n",
       " ('♥♥', 0.8603352904319763),\n",
       " ('스며드', 0.8551819324493408),\n",
       " ('조음', 0.8515118956565857),\n",
       " ('life', 0.8378891944885254),\n",
       " ('밋기', 0.8347744941711426)]"
      ]
     },
     "execution_count": 48,
     "metadata": {},
     "output_type": "execute_result"
    }
   ],
   "source": [
    "from gensim.models.keyedvectors import Word2VecKeyedVectors\n",
    "\n",
    "word_vectors = Word2VecKeyedVectors.load_word2vec_format(word2vec_file_path, binary=False)\n",
    "word_vectors.similar_by_word('love')"
   ]
  },
  {
   "cell_type": "markdown",
   "id": "f7ff4fac",
   "metadata": {},
   "source": [
    "한국어 Word2Vec"
   ]
  },
  {
   "cell_type": "code",
   "execution_count": 49,
   "id": "d9a0027b",
   "metadata": {},
   "outputs": [
    {
     "data": {
      "text/plain": [
       "array([ 1.038851  , -1.1634965 ,  2.2386286 ,  0.8971453 , -2.088168  ,\n",
       "       -4.1942534 , -0.02519768, -0.69813883, -0.2908033 , -1.4651134 ,\n",
       "       -2.6863668 ,  0.7999443 , -0.6957915 , -0.5018775 ,  3.5025773 ,\n",
       "        0.21326113, -0.6588098 , -1.1900496 ,  0.61399573,  2.1247969 ,\n",
       "        0.1549463 ,  3.0840218 ,  3.1680267 , -3.9143991 ,  3.6073153 ,\n",
       "        0.5315545 , -0.3511633 , -1.107248  ,  1.7767181 , -0.95981866,\n",
       "        2.6072454 , -0.00697957, -3.27628   ,  1.558644  ,  0.81922376,\n",
       "        1.9231955 ,  3.7026553 , -0.53824735, -0.4920138 ,  2.4657123 ,\n",
       "       -2.620749  , -0.08950733,  0.61453176,  1.8866426 ,  0.257866  ,\n",
       "       -2.7827141 ,  2.9129577 , -0.6313133 ,  2.0387425 , -4.222685  ,\n",
       "       -2.7560544 ,  1.7903243 , -1.3080189 , -2.5531402 , -0.43849912,\n",
       "       -3.1073573 , -0.29090825,  5.1817617 ,  1.9604833 , -5.1421604 ,\n",
       "       -0.71431434,  4.5624633 , -0.55525815, -3.3019137 ,  1.6761336 ,\n",
       "       -1.9606539 , -0.2726863 ,  0.2465995 ,  1.2685091 ,  1.6055685 ,\n",
       "        1.8344896 ,  1.2752469 ,  0.99503314, -2.3348706 , -0.9290329 ,\n",
       "       -1.5920266 ,  5.693834  ,  1.1132814 , -0.9603875 , -1.970055  ,\n",
       "       -1.0120267 , -2.7289615 , -2.7759619 ,  3.214084  ,  1.8573734 ,\n",
       "       -1.3495721 , -0.10321241,  3.434593  , -2.8573685 , -1.9004927 ,\n",
       "       -1.6801298 , -2.805677  ,  1.7723105 , -0.41865307, -2.310913  ,\n",
       "       -6.2761464 , -0.8376036 ,  2.4590037 ,  2.1697695 , -4.440443  ],\n",
       "      dtype=float32)"
      ]
     },
     "execution_count": 49,
     "metadata": {},
     "output_type": "execute_result"
    }
   ],
   "source": [
    "word2vec_path = os.getenv('HOME')+'/data/word2vec_ko.model'\n",
    "word2vec = Word2VecKeyedVectors.load(word2vec_path)\n",
    "vector = word2vec.wv['끝']\n",
    "vector"
   ]
  },
  {
   "cell_type": "code",
   "execution_count": 50,
   "id": "95b41cb8",
   "metadata": {},
   "outputs": [],
   "source": [
    "vocab_size = 10000    \n",
    "word_vector_dim = 100  \n",
    "embedding_matrix = np.random.rand(vocab_size, word_vector_dim)\n",
    "\n",
    "for i in range(4,vocab_size):\n",
    "    if index_to_word[i] in word2vec.wv:\n",
    "        embedding_matrix[i] = word2vec.wv[index_to_word[i]]"
   ]
  },
  {
   "cell_type": "code",
   "execution_count": 51,
   "id": "30bd5843",
   "metadata": {},
   "outputs": [
    {
     "name": "stdout",
     "output_type": "stream",
     "text": [
      "Model: \"sequential_5\"\n",
      "_________________________________________________________________\n",
      "Layer (type)                 Output Shape              Param #   \n",
      "=================================================================\n",
      "embedding_5 (Embedding)      (None, 41, 100)           1000000   \n",
      "_________________________________________________________________\n",
      "conv1d_6 (Conv1D)            (None, 35, 16)            11216     \n",
      "_________________________________________________________________\n",
      "max_pooling1d_3 (MaxPooling1 (None, 7, 16)             0         \n",
      "_________________________________________________________________\n",
      "conv1d_7 (Conv1D)            (None, 1, 16)             1808      \n",
      "_________________________________________________________________\n",
      "global_max_pooling1d_4 (Glob (None, 16)                0         \n",
      "_________________________________________________________________\n",
      "dense_10 (Dense)             (None, 8)                 136       \n",
      "_________________________________________________________________\n",
      "dense_11 (Dense)             (None, 1)                 9         \n",
      "=================================================================\n",
      "Total params: 1,013,169\n",
      "Trainable params: 1,013,169\n",
      "Non-trainable params: 0\n",
      "_________________________________________________________________\n"
     ]
    }
   ],
   "source": [
    "from tensorflow.keras.initializers import Constant\n",
    "\n",
    "vocab_size = 10000\n",
    "word_vector_dim = 100\n",
    "\n",
    "model = tf.keras.Sequential()\n",
    "model.add(tf.keras.layers.Embedding(vocab_size, \n",
    "                                    word_vector_dim, \n",
    "                                    embeddings_initializer = Constant(embedding_matrix), \n",
    "                                    input_length = maxlen, \n",
    "                                    trainable = True))\n",
    "model.add(tf.keras.layers.Conv1D(16, 7, activation = 'relu'))\n",
    "model.add(tf.keras.layers.MaxPooling1D(5))\n",
    "model.add(tf.keras.layers.Conv1D(16, 7, activation = 'relu'))\n",
    "model.add(tf.keras.layers.GlobalMaxPooling1D())\n",
    "model.add(tf.keras.layers.Dense(8, activation = 'relu'))\n",
    "model.add(tf.keras.layers.Dense(1, activation = 'sigmoid'))\n",
    "\n",
    "model.summary()"
   ]
  },
  {
   "cell_type": "code",
   "execution_count": 52,
   "id": "5500051c",
   "metadata": {},
   "outputs": [
    {
     "name": "stdout",
     "output_type": "stream",
     "text": [
      "Epoch 1/20\n",
      "532/532 [==============================] - 3s 5ms/step - loss: 0.5787 - accuracy: 0.6748 - val_loss: 0.4540 - val_accuracy: 0.7880\n",
      "Epoch 2/20\n",
      "532/532 [==============================] - 2s 4ms/step - loss: 0.4090 - accuracy: 0.8148 - val_loss: 0.3855 - val_accuracy: 0.8264\n",
      "Epoch 3/20\n",
      "532/532 [==============================] - 2s 4ms/step - loss: 0.3534 - accuracy: 0.8456 - val_loss: 0.3573 - val_accuracy: 0.8407\n",
      "Epoch 4/20\n",
      "532/532 [==============================] - 2s 4ms/step - loss: 0.3216 - accuracy: 0.8622 - val_loss: 0.3504 - val_accuracy: 0.8415\n",
      "Epoch 5/20\n",
      "532/532 [==============================] - 2s 4ms/step - loss: 0.2993 - accuracy: 0.8750 - val_loss: 0.3453 - val_accuracy: 0.8469\n",
      "Epoch 6/20\n",
      "532/532 [==============================] - 2s 5ms/step - loss: 0.2819 - accuracy: 0.8833 - val_loss: 0.3459 - val_accuracy: 0.8459\n",
      "Epoch 7/20\n",
      "532/532 [==============================] - 2s 5ms/step - loss: 0.2656 - accuracy: 0.8912 - val_loss: 0.3556 - val_accuracy: 0.8466\n",
      "Epoch 8/20\n",
      "532/532 [==============================] - 2s 4ms/step - loss: 0.2525 - accuracy: 0.8972 - val_loss: 0.3670 - val_accuracy: 0.8462\n",
      "Epoch 9/20\n",
      "532/532 [==============================] - 2s 4ms/step - loss: 0.2395 - accuracy: 0.9046 - val_loss: 0.3668 - val_accuracy: 0.8456\n",
      "Epoch 10/20\n",
      "532/532 [==============================] - 2s 4ms/step - loss: 0.2272 - accuracy: 0.9098 - val_loss: 0.3804 - val_accuracy: 0.8417\n",
      "Epoch 11/20\n",
      "532/532 [==============================] - 2s 5ms/step - loss: 0.2156 - accuracy: 0.9160 - val_loss: 0.3887 - val_accuracy: 0.8465\n",
      "Epoch 12/20\n",
      "532/532 [==============================] - 2s 5ms/step - loss: 0.2046 - accuracy: 0.9213 - val_loss: 0.4058 - val_accuracy: 0.8466\n",
      "Epoch 13/20\n",
      "532/532 [==============================] - 2s 5ms/step - loss: 0.1938 - accuracy: 0.9258 - val_loss: 0.4108 - val_accuracy: 0.8412\n",
      "Epoch 14/20\n",
      "532/532 [==============================] - 2s 4ms/step - loss: 0.1827 - accuracy: 0.9309 - val_loss: 0.4289 - val_accuracy: 0.8456\n",
      "Epoch 15/20\n",
      "532/532 [==============================] - 2s 5ms/step - loss: 0.1722 - accuracy: 0.9360 - val_loss: 0.4464 - val_accuracy: 0.8387\n",
      "Epoch 16/20\n",
      "532/532 [==============================] - 2s 5ms/step - loss: 0.1625 - accuracy: 0.9402 - val_loss: 0.4597 - val_accuracy: 0.8396\n",
      "Epoch 17/20\n",
      "532/532 [==============================] - 2s 5ms/step - loss: 0.1529 - accuracy: 0.9445 - val_loss: 0.4914 - val_accuracy: 0.8405\n",
      "Epoch 18/20\n",
      "532/532 [==============================] - 2s 5ms/step - loss: 0.1430 - accuracy: 0.9479 - val_loss: 0.5048 - val_accuracy: 0.8382\n",
      "Epoch 19/20\n",
      "532/532 [==============================] - 2s 4ms/step - loss: 0.1341 - accuracy: 0.9519 - val_loss: 0.5159 - val_accuracy: 0.8370\n",
      "Epoch 20/20\n",
      "532/532 [==============================] - 2s 4ms/step - loss: 0.1267 - accuracy: 0.9553 - val_loss: 0.5427 - val_accuracy: 0.8359\n"
     ]
    }
   ],
   "source": [
    "model.compile(optimizer = 'adam',\n",
    "              loss = 'binary_crossentropy',\n",
    "              metrics = ['accuracy'])\n",
    "\n",
    "epochs = 20\n",
    "\n",
    "history = model.fit(partial_X_train,\n",
    "                    partial_y_train,\n",
    "                    epochs= epochs,\n",
    "                    batch_size= 256,\n",
    "                    validation_data= (X_val, y_val),\n",
    "                    verbose= 1)"
   ]
  },
  {
   "cell_type": "code",
   "execution_count": 54,
   "id": "5e9e2010",
   "metadata": {},
   "outputs": [
    {
     "name": "stdout",
     "output_type": "stream",
     "text": [
      "1537/1537 - 3s - loss: 0.5576 - accuracy: 0.8339\n",
      "[0.5575501918792725, 0.8338792324066162]\n"
     ]
    }
   ],
   "source": [
    "results = model.evaluate(X_test, y_test, verbose = 2)\n",
    "print(results)"
   ]
  },
  {
   "cell_type": "markdown",
   "id": "1d717252",
   "metadata": {},
   "source": [
    "# Result"
   ]
  },
  {
   "cell_type": "markdown",
   "id": "73393cbb",
   "metadata": {},
   "source": [
    "RNN_Accuracy: 0.8397\n",
    "\n",
    "Word2Vec_RNN_Accuracy: 0.8329\n",
    "\n",
    "CNN_Accuracy: 0.8297\n",
    "\n",
    "Word2Vec_CNN_Accuracy: 0.8340\n",
    "\n",
    "Simple_Accuracy: 0.8221\n",
    "\n",
    "Word2Vec_Simple_Accuracy: 0.8339"
   ]
  },
  {
   "cell_type": "code",
   "execution_count": null,
   "id": "bd7b693f",
   "metadata": {},
   "outputs": [],
   "source": []
  }
 ],
 "metadata": {
  "kernelspec": {
   "display_name": "Python 3 (ipykernel)",
   "language": "python",
   "name": "python3"
  },
  "language_info": {
   "codemirror_mode": {
    "name": "ipython",
    "version": 3
   },
   "file_extension": ".py",
   "mimetype": "text/x-python",
   "name": "python",
   "nbconvert_exporter": "python",
   "pygments_lexer": "ipython3",
   "version": "3.9.7"
  }
 },
 "nbformat": 4,
 "nbformat_minor": 5
}
