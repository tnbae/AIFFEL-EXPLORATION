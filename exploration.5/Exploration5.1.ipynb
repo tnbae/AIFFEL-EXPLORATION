{
 "cells": [
  {
   "cell_type": "code",
   "execution_count": 300,
   "id": "ff8c2a44",
   "metadata": {},
   "outputs": [],
   "source": [
    "import tensorflow as tf\n",
    "import numpy as np\n",
    "from PIL import Image\n",
    "import glob\n",
    "import os"
   ]
  },
  {
   "cell_type": "code",
   "execution_count": 301,
   "id": "ab29d237",
   "metadata": {},
   "outputs": [],
   "source": [
    "def resize_images(img_path):\n",
    "    images=glob.glob(img_path + \"/*.jpg\")\n",
    "    \n",
    "    print(len(images), \"images to be resized\")\n",
    "    \n",
    "    target_size=(28,28)\n",
    "    for img in images:\n",
    "        old_img=Image.open(img)\n",
    "        new_img=old_img.resize(target_size,Image.ANTIALIAS)\n",
    "        new_img.save(img,\"JPEG\")\n",
    "    \n",
    "    print(len(images), \"images resized.\")"
   ]
  },
  {
   "cell_type": "code",
   "execution_count": 302,
   "id": "041cd659",
   "metadata": {},
   "outputs": [
    {
     "name": "stdout",
     "output_type": "stream",
     "text": [
      "400 images to be resized\n",
      "400 images resized.\n",
      "400 images to be resized\n",
      "400 images resized.\n",
      "400 images to be resized\n",
      "400 images resized.\n"
     ]
    }
   ],
   "source": [
    "image_dir_path=os.getenv('HOME')+'/aiffel/rock_scissor_paper/scissor'\n",
    "resize_images(image_dir_path)\n",
    "\n",
    "image_dir_path2=os.getenv('HOME')+'/aiffel/rock_scissor_paper/rock'\n",
    "resize_images(image_dir_path2)\n",
    "\n",
    "image_dir_path3=os.getenv('HOME')+'/aiffel/rock_scissor_paper/paper'\n",
    "resize_images(image_dir_path3)"
   ]
  },
  {
   "cell_type": "code",
   "execution_count": 303,
   "id": "e73a1ba1",
   "metadata": {},
   "outputs": [
    {
     "name": "stdout",
     "output_type": "stream",
     "text": [
      "x_train shape: (1200, 28, 28, 3)\n",
      "Y_train shape: (1200,)\n"
     ]
    }
   ],
   "source": [
    "def load_data(img_path, number_of_data=1200):\n",
    "    img_size=28\n",
    "    color=3\n",
    "    imgs=np.zeros(number_of_data*img_size*img_size*color, dtype=np.int32).reshape(number_of_data, img_size, img_size, color)\n",
    "    labels=np.zeros(number_of_data, dtype=np.int32)\n",
    "    \n",
    "    idx=0\n",
    "    for file in glob.iglob(img_path+'/scissor/*.jpg'):\n",
    "        img=np.array(Image.open(file), dtype=np.int32)\n",
    "        imgs[idx,:,:,:]=img\n",
    "        labels[idx]=0\n",
    "        idx+=1\n",
    "        \n",
    "    for file in glob.iglob(img_path+'/rock/*.jpg'):\n",
    "        img=np.array(Image.open(file), dtype=np.int32)\n",
    "        imgs[idx,:,:,:]=img\n",
    "        labels[idx]=0\n",
    "        idx+=1\n",
    "        \n",
    "    for file in glob.iglob(img_path+'/paper/*.jpg'):\n",
    "        img=np.array(Image.open(file), dtype=np.int32)\n",
    "        imgs[idx,:,:,:]=img\n",
    "        labels[idx]=0\n",
    "        idx+=1\n",
    "        \n",
    "    return imgs,labels\n",
    "\n",
    "image_dir_path = os.getenv('HOME')+'/aiffel/rock_scissor_paper'\n",
    "(x_train,y_train)=load_data(image_dir_path)\n",
    "x_train_norm=x_train/255.0\n",
    "\n",
    "print(\"x_train shape: {}\".format(x_train.shape))\n",
    "print(\"Y_train shape: {}\".format(y_train.shape))"
   ]
  },
  {
   "cell_type": "code",
   "execution_count": 304,
   "id": "c383ac3b",
   "metadata": {},
   "outputs": [
    {
     "name": "stdout",
     "output_type": "stream",
     "text": [
      "라벨:  0\n"
     ]
    },
    {
     "data": {
      "image/png": "[encoded data removed]",
      "text/plain": [
       "<Figure size 432x288 with 1 Axes>"
      ]
     },
     "metadata": {
      "needs_background": "light"
     },
     "output_type": "display_data"
    }
   ],
   "source": [
    "import matplotlib.pyplot as plt\n",
    "plt.imshow(x_train[0])\n",
    "print('라벨: ',y_train[0])"
   ]
  },
  {
   "cell_type": "code",
   "execution_count": 317,
   "id": "049a2597",
   "metadata": {},
   "outputs": [
    {
     "name": "stdout",
     "output_type": "stream",
     "text": [
      "Model: \"sequential_59\"\n",
      "_________________________________________________________________\n",
      "Layer (type)                 Output Shape              Param #   \n",
      "=================================================================\n",
      "conv2d_134 (Conv2D)          (None, 26, 26, 16)        448       \n",
      "_________________________________________________________________\n",
      "max_pooling2d_134 (MaxPoolin (None, 13, 13, 16)        0         \n",
      "_________________________________________________________________\n",
      "dropout_99 (Dropout)         (None, 13, 13, 16)        0         \n",
      "_________________________________________________________________\n",
      "conv2d_135 (Conv2D)          (None, 11, 11, 32)        4640      \n",
      "_________________________________________________________________\n",
      "max_pooling2d_135 (MaxPoolin (None, 5, 5, 32)          0         \n",
      "_________________________________________________________________\n",
      "dropout_100 (Dropout)        (None, 5, 5, 32)          0         \n",
      "_________________________________________________________________\n",
      "flatten_57 (Flatten)         (None, 800)               0         \n",
      "_________________________________________________________________\n",
      "dense_104 (Dense)            (None, 32)                25632     \n",
      "_________________________________________________________________\n",
      "dropout_101 (Dropout)        (None, 32)                0         \n",
      "_________________________________________________________________\n",
      "dense_105 (Dense)            (None, 3)                 99        \n",
      "=================================================================\n",
      "Total params: 30,819\n",
      "Trainable params: 30,819\n",
      "Non-trainable params: 0\n",
      "_________________________________________________________________\n"
     ]
    }
   ],
   "source": [
    "import tensorflow as tf\n",
    "from tensorflow import keras\n",
    "import numpy as np\n",
    "\n",
    "\n",
    "model=keras.models.Sequential()\n",
    "model.add(keras.layers.Conv2D(16, (3,3), activation='relu', input_shape=(28,28,3)))\n",
    "model.add(keras.layers.MaxPool2D(2,2))\n",
    "model.add(keras.layers.Dropout(0.5))\n",
    "model.add(keras.layers.Conv2D(32, (3,3), activation='relu'))\n",
    "model.add(keras.layers.MaxPooling2D((2,2)))\n",
    "model.add(keras.layers.Dropout(0.5))\n",
    "model.add(keras.layers.Flatten())\n",
    "model.add(keras.layers.Dense(32, activation='relu'))\n",
    "model.add(keras.layers.Dropout(0.5))\n",
    "model.add(keras.layers.Dense(3, activation='softmax'))\n",
    "\n",
    "model.summary()"
   ]
  },
  {
   "cell_type": "code",
   "execution_count": 318,
   "id": "4c390f94",
   "metadata": {
    "scrolled": true
   },
   "outputs": [
    {
     "name": "stdout",
     "output_type": "stream",
     "text": [
      "Epoch 1/15\n",
      "38/38 [==============================] - 1s 3ms/step - loss: 0.1515 - accuracy: 0.9442\n",
      "Epoch 2/15\n",
      "38/38 [==============================] - 0s 4ms/step - loss: 0.0046 - accuracy: 0.9983\n",
      "Epoch 3/15\n",
      "38/38 [==============================] - 0s 4ms/step - loss: 0.0065 - accuracy: 0.9958\n",
      "Epoch 4/15\n",
      "38/38 [==============================] - 0s 4ms/step - loss: 0.0050 - accuracy: 0.9967\n",
      "Epoch 5/15\n",
      "38/38 [==============================] - 0s 4ms/step - loss: 0.0024 - accuracy: 1.0000\n",
      "Epoch 6/15\n",
      "38/38 [==============================] - 0s 4ms/step - loss: 0.0024 - accuracy: 0.9983\n",
      "Epoch 7/15\n",
      "38/38 [==============================] - 0s 3ms/step - loss: 0.0024 - accuracy: 0.9992\n",
      "Epoch 8/15\n",
      "38/38 [==============================] - 0s 3ms/step - loss: 0.0029 - accuracy: 1.0000\n",
      "Epoch 9/15\n",
      "38/38 [==============================] - 0s 3ms/step - loss: 5.9474e-04 - accuracy: 1.0000\n",
      "Epoch 10/15\n",
      "38/38 [==============================] - 0s 3ms/step - loss: 0.0021 - accuracy: 0.9992\n",
      "Epoch 11/15\n",
      "38/38 [==============================] - 0s 3ms/step - loss: 1.3680e-04 - accuracy: 1.0000\n",
      "Epoch 12/15\n",
      "38/38 [==============================] - 0s 3ms/step - loss: 0.0018 - accuracy: 0.9983\n",
      "Epoch 13/15\n",
      "38/38 [==============================] - 0s 3ms/step - loss: 0.0016 - accuracy: 0.9992\n",
      "Epoch 14/15\n",
      "38/38 [==============================] - 0s 3ms/step - loss: 3.7938e-04 - accuracy: 1.0000\n",
      "Epoch 15/15\n",
      "38/38 [==============================] - 0s 3ms/step - loss: 3.4573e-04 - accuracy: 1.0000\n"
     ]
    },
    {
     "data": {
      "text/plain": [
       "<keras.callbacks.History at 0x7fd080050490>"
      ]
     },
     "execution_count": 318,
     "metadata": {},
     "output_type": "execute_result"
    }
   ],
   "source": [
    "model.compile(optimizer='adam', loss='sparse_categorical_crossentropy', metrics=['accuracy'])\n",
    "model.fit(x_train_norm, y_train, epochs=15)"
   ]
  },
  {
   "cell_type": "code",
   "execution_count": 319,
   "id": "ff2839ae",
   "metadata": {},
   "outputs": [
    {
     "name": "stdout",
     "output_type": "stream",
     "text": [
      "100 images to be resized\n",
      "100 images resized.\n",
      "100 images to be resized\n",
      "100 images resized.\n",
      "100 images to be resized\n",
      "100 images resized.\n"
     ]
    }
   ],
   "source": [
    "image_dir_path4=os.getenv('HOME')+'/aiffel/rock_scissor_paper/test/scissor'\n",
    "resize_images(image_dir_path4)\n",
    "\n",
    "image_dir_path5=os.getenv('HOME')+'/aiffel/rock_scissor_paper/test/rock'\n",
    "resize_images(image_dir_path5)\n",
    "\n",
    "image_dir_path6=os.getenv('HOME')+'/aiffel/rock_scissor_paper/test/paper'\n",
    "resize_images(image_dir_path6)\n",
    "\n",
    "image_dir_path7=os.getenv('HOME')+'/aiffel/rock_scissor_paper/test'\n",
    "(x_test, y_test)=load_data(image_dir_path7)\n",
    "x_test_norm=x_test/255.0"
   ]
  },
  {
   "cell_type": "code",
   "execution_count": 320,
   "id": "547cf0f5",
   "metadata": {},
   "outputs": [
    {
     "name": "stdout",
     "output_type": "stream",
     "text": [
      "38/38 - 0s - loss: 0.3335 - accuracy: 1.0000\n",
      "test_loss: 0.3335268199443817\n",
      "test_accuracy: 1.0\n"
     ]
    }
   ],
   "source": [
    "test_loss, test_accuracy = model.evaluate(x_test_norm, y_test, verbose=2)\n",
    "print(f'test_loss: {test_loss}')\n",
    "print(f'test_accuracy: {test_accuracy}')"
   ]
  },
  {
   "cell_type": "code",
   "execution_count": null,
   "id": "6d5b5e5b",
   "metadata": {},
   "outputs": [],
   "source": []
  }
 ],
 "metadata": {
  "kernelspec": {
   "display_name": "Python 3 (ipykernel)",
   "language": "python",
   "name": "python3"
  },
  "language_info": {
   "codemirror_mode": {
    "name": "ipython",
    "version": 3
   },
   "file_extension": ".py",
   "mimetype": "text/x-python",
   "name": "python",
   "nbconvert_exporter": "python",
   "pygments_lexer": "ipython3",
   "version": "3.9.7"
  }
 },
 "nbformat": 4,
 "nbformat_minor": 5
}
