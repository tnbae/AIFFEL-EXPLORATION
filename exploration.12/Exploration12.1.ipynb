{
 "cells": [
  {
   "cell_type": "markdown",
   "id": "900d875f",
   "metadata": {},
   "source": [
    "# 데이터 준비하기"
   ]
  },
  {
   "cell_type": "code",
   "execution_count": 1,
   "id": "3a4ad049",
   "metadata": {},
   "outputs": [
    {
     "name": "stderr",
     "output_type": "stream",
     "text": [
      "[nltk_data] Downloading package stopwords to /aiffel/nltk_data...\n",
      "[nltk_data]   Unzipping corpora/stopwords.zip.\n"
     ]
    }
   ],
   "source": [
    "import nltk\n",
    "nltk.download('stopwords')\n",
    "\n",
    "import numpy as np\n",
    "import pandas as pd\n",
    "import os\n",
    "import re\n",
    "import matplotlib.pyplot as plt\n",
    "import requests\n",
    "from summa.summarizer import summarize\n",
    "from nltk.corpus import stopwords\n",
    "from bs4 import BeautifulSoup\n",
    "from tensorflow.keras.preprocessing.text import Tokenizer\n",
    "from tensorflow.keras.preprocessing.sequence import pad_sequences\n",
    "from tensorflow.keras.layers import Input, LSTM, Embedding, Dense, Concatenate, TimeDistributed, AdditiveAttention\n",
    "from tensorflow.keras.models import Model\n",
    "from tensorflow.keras.callbacks import EarlyStopping, ModelCheckpoint\n",
    "import urllib.request\n",
    "import warnings\n",
    "warnings.filterwarnings('ignore', category = UserWarning, module = 'bs4')"
   ]
  },
  {
   "cell_type": "code",
   "execution_count": 2,
   "id": "c8f47cb6",
   "metadata": {},
   "outputs": [],
   "source": [
    "urllib.request.urlretrieve(\"https://raw.githubusercontent.com/sunnysai12345/News_Summary/master/news_summary_more.csv\", filename=\"news_summary_more.csv\")\n",
    "data = pd.read_csv('news_summary_more.csv', encoding='iso-8859-1')"
   ]
  },
  {
   "cell_type": "code",
   "execution_count": 3,
   "id": "a29a1b54",
   "metadata": {},
   "outputs": [
    {
     "data": {
      "text/html": [
       "<div>\n",
       "<style scoped>\n",
       "    .dataframe tbody tr th:only-of-type {\n",
       "        vertical-align: middle;\n",
       "    }\n",
       "\n",
       "    .dataframe tbody tr th {\n",
       "        vertical-align: top;\n",
       "    }\n",
       "\n",
       "    .dataframe thead th {\n",
       "        text-align: right;\n",
       "    }\n",
       "</style>\n",
       "<table border=\"1\" class=\"dataframe\">\n",
       "  <thead>\n",
       "    <tr style=\"text-align: right;\">\n",
       "      <th></th>\n",
       "      <th>headlines</th>\n",
       "      <th>text</th>\n",
       "    </tr>\n",
       "  </thead>\n",
       "  <tbody>\n",
       "    <tr>\n",
       "      <th>90286</th>\n",
       "      <td>New trailer of Christopher Nolan's 'Dunkirk' r...</td>\n",
       "      <td>A new trailer of Christopher Nolan's upcoming ...</td>\n",
       "    </tr>\n",
       "    <tr>\n",
       "      <th>25457</th>\n",
       "      <td>Bullies to be put in their place, that's what ...</td>\n",
       "      <td>Actress Kangana Ranaut, while talking about be...</td>\n",
       "    </tr>\n",
       "    <tr>\n",
       "      <th>36857</th>\n",
       "      <td>Chanda Kochhar to lose Ã¢ÂÂ¹9.8 crore bonus, ...</td>\n",
       "      <td>After ICICI Bank sacked former CEO Chanda Koch...</td>\n",
       "    </tr>\n",
       "    <tr>\n",
       "      <th>87469</th>\n",
       "      <td>Flipkart CEO Krishnamurthy takes up additional...</td>\n",
       "      <td>Flipkart CEO Kalyan Krishnamurthy has taken ad...</td>\n",
       "    </tr>\n",
       "    <tr>\n",
       "      <th>51248</th>\n",
       "      <td>BigBasket to invest Ã¢ÂÂ¹500 crore in farmer ...</td>\n",
       "      <td>Online grocery store BigBasket will invest up ...</td>\n",
       "    </tr>\n",
       "    <tr>\n",
       "      <th>59004</th>\n",
       "      <td>Ronaldo honoured with new bust at Real Madrid ...</td>\n",
       "      <td>Real Madrid forward and Portuguese captain Cri...</td>\n",
       "    </tr>\n",
       "    <tr>\n",
       "      <th>73381</th>\n",
       "      <td>Amitabh Bachchan is the most gifted comedian: ...</td>\n",
       "      <td>Filmmaker Sajid Khan has said Amitabh Bachchan...</td>\n",
       "    </tr>\n",
       "    <tr>\n",
       "      <th>46124</th>\n",
       "      <td>Jacqueline plays Hallelujah on piano as tribut...</td>\n",
       "      <td>Jacqueline Fernandez paid tribute to late actr...</td>\n",
       "    </tr>\n",
       "    <tr>\n",
       "      <th>49888</th>\n",
       "      <td>Facebook sued by family of man whose murder wa...</td>\n",
       "      <td>Facebook has been sued in the US for negligenc...</td>\n",
       "    </tr>\n",
       "    <tr>\n",
       "      <th>86746</th>\n",
       "      <td>Twinkle reacts to HC judge remark on peacocks ...</td>\n",
       "      <td>Novelist Twinkle Khanna, responding to Rajasth...</td>\n",
       "    </tr>\n",
       "  </tbody>\n",
       "</table>\n",
       "</div>"
      ],
      "text/plain": [
       "                                               headlines  \\\n",
       "90286  New trailer of Christopher Nolan's 'Dunkirk' r...   \n",
       "25457  Bullies to be put in their place, that's what ...   \n",
       "36857  Chanda Kochhar to lose Ã¢ÂÂ¹9.8 crore bonus, ...   \n",
       "87469  Flipkart CEO Krishnamurthy takes up additional...   \n",
       "51248  BigBasket to invest Ã¢ÂÂ¹500 crore in farmer ...   \n",
       "59004  Ronaldo honoured with new bust at Real Madrid ...   \n",
       "73381  Amitabh Bachchan is the most gifted comedian: ...   \n",
       "46124  Jacqueline plays Hallelujah on piano as tribut...   \n",
       "49888  Facebook sued by family of man whose murder wa...   \n",
       "86746  Twinkle reacts to HC judge remark on peacocks ...   \n",
       "\n",
       "                                                    text  \n",
       "90286  A new trailer of Christopher Nolan's upcoming ...  \n",
       "25457  Actress Kangana Ranaut, while talking about be...  \n",
       "36857  After ICICI Bank sacked former CEO Chanda Koch...  \n",
       "87469  Flipkart CEO Kalyan Krishnamurthy has taken ad...  \n",
       "51248  Online grocery store BigBasket will invest up ...  \n",
       "59004  Real Madrid forward and Portuguese captain Cri...  \n",
       "73381  Filmmaker Sajid Khan has said Amitabh Bachchan...  \n",
       "46124  Jacqueline Fernandez paid tribute to late actr...  \n",
       "49888  Facebook has been sued in the US for negligenc...  \n",
       "86746  Novelist Twinkle Khanna, responding to Rajasth...  "
      ]
     },
     "execution_count": 3,
     "metadata": {},
     "output_type": "execute_result"
    }
   ],
   "source": [
    "data.sample(10)"
   ]
  },
  {
   "cell_type": "markdown",
   "id": "b0997d0d",
   "metadata": {},
   "source": [
    "# 데이터 전처리"
   ]
  },
  {
   "cell_type": "code",
   "execution_count": 4,
   "id": "eaeb6f72",
   "metadata": {},
   "outputs": [
    {
     "name": "stdout",
     "output_type": "stream",
     "text": [
      "headlines 열에서 중복을 배제한 유일한 샘플의 수:  98280\n",
      "text 열에서 중복을 배제한 유일한 샘플의 수:  98360\n"
     ]
    }
   ],
   "source": [
    "print('headlines 열에서 중복을 배제한 유일한 샘플의 수: ', data['headlines'].nunique())\n",
    "print('text 열에서 중복을 배제한 유일한 샘플의 수: ', data['text'].nunique())\n",
    "# 데이터의 중복값 제거"
   ]
  },
  {
   "cell_type": "code",
   "execution_count": 5,
   "id": "c77b9d17",
   "metadata": {},
   "outputs": [
    {
     "name": "stdout",
     "output_type": "stream",
     "text": [
      "전체 샘플수:  98360\n"
     ]
    }
   ],
   "source": [
    "data.drop_duplicates(subset = ['text'], inplace = True)\n",
    "print('전체 샘플수: ', (len(data)))"
   ]
  },
  {
   "cell_type": "code",
   "execution_count": 6,
   "id": "b1433d36",
   "metadata": {},
   "outputs": [
    {
     "name": "stdout",
     "output_type": "stream",
     "text": [
      "headlines    0\n",
      "text         0\n",
      "dtype: int64\n"
     ]
    }
   ],
   "source": [
    "print(data.isnull().sum())"
   ]
  },
  {
   "cell_type": "code",
   "execution_count": 7,
   "id": "bb6ebe0e",
   "metadata": {},
   "outputs": [
    {
     "name": "stdout",
     "output_type": "stream",
     "text": [
      "전체 샘플수:  98360\n"
     ]
    }
   ],
   "source": [
    "data.dropna(axis = 0, inplace = True)\n",
    "print('전체 샘플수: ', (len(data)))\n",
    "# 데이터의 결측치 제거"
   ]
  },
  {
   "cell_type": "code",
   "execution_count": 8,
   "id": "3ed6c665",
   "metadata": {},
   "outputs": [
    {
     "name": "stdout",
     "output_type": "stream",
     "text": [
      "정규화 사전의 수:  120\n"
     ]
    }
   ],
   "source": [
    "contractions = {\"ain't\": \"is not\", \"aren't\": \"are not\",\"can't\": \"cannot\", \"'cause\": \"because\", \"could've\": \"could have\", \"couldn't\": \"could not\",\n",
    "                           \"didn't\": \"did not\",  \"doesn't\": \"does not\", \"don't\": \"do not\", \"hadn't\": \"had not\", \"hasn't\": \"has not\", \"haven't\": \"have not\",\n",
    "                           \"he'd\": \"he would\",\"he'll\": \"he will\", \"he's\": \"he is\", \"how'd\": \"how did\", \"how'd'y\": \"how do you\", \"how'll\": \"how will\", \"how's\": \"how is\",\n",
    "                           \"I'd\": \"I would\", \"I'd've\": \"I would have\", \"I'll\": \"I will\", \"I'll've\": \"I will have\",\"I'm\": \"I am\", \"I've\": \"I have\", \"i'd\": \"i would\",\n",
    "                           \"i'd've\": \"i would have\", \"i'll\": \"i will\",  \"i'll've\": \"i will have\",\"i'm\": \"i am\", \"i've\": \"i have\", \"isn't\": \"is not\", \"it'd\": \"it would\",\n",
    "                           \"it'd've\": \"it would have\", \"it'll\": \"it will\", \"it'll've\": \"it will have\",\"it's\": \"it is\", \"let's\": \"let us\", \"ma'am\": \"madam\",\n",
    "                           \"mayn't\": \"may not\", \"might've\": \"might have\",\"mightn't\": \"might not\",\"mightn't've\": \"might not have\", \"must've\": \"must have\",\n",
    "                           \"mustn't\": \"must not\", \"mustn't've\": \"must not have\", \"needn't\": \"need not\", \"needn't've\": \"need not have\",\"o'clock\": \"of the clock\",\n",
    "                           \"oughtn't\": \"ought not\", \"oughtn't've\": \"ought not have\", \"shan't\": \"shall not\", \"sha'n't\": \"shall not\", \"shan't've\": \"shall not have\",\n",
    "                           \"she'd\": \"she would\", \"she'd've\": \"she would have\", \"she'll\": \"she will\", \"she'll've\": \"she will have\", \"she's\": \"she is\",\n",
    "                           \"should've\": \"should have\", \"shouldn't\": \"should not\", \"shouldn't've\": \"should not have\", \"so've\": \"so have\",\"so's\": \"so as\",\n",
    "                           \"this's\": \"this is\",\"that'd\": \"that would\", \"that'd've\": \"that would have\", \"that's\": \"that is\", \"there'd\": \"there would\",\n",
    "                           \"there'd've\": \"there would have\", \"there's\": \"there is\", \"here's\": \"here is\",\"they'd\": \"they would\", \"they'd've\": \"they would have\",\n",
    "                           \"they'll\": \"they will\", \"they'll've\": \"they will have\", \"they're\": \"they are\", \"they've\": \"they have\", \"to've\": \"to have\",\n",
    "                           \"wasn't\": \"was not\", \"we'd\": \"we would\", \"we'd've\": \"we would have\", \"we'll\": \"we will\", \"we'll've\": \"we will have\", \"we're\": \"we are\",\n",
    "                           \"we've\": \"we have\", \"weren't\": \"were not\", \"what'll\": \"what will\", \"what'll've\": \"what will have\", \"what're\": \"what are\",\n",
    "                           \"what's\": \"what is\", \"what've\": \"what have\", \"when's\": \"when is\", \"when've\": \"when have\", \"where'd\": \"where did\", \"where's\": \"where is\",\n",
    "                           \"where've\": \"where have\", \"who'll\": \"who will\", \"who'll've\": \"who will have\", \"who's\": \"who is\", \"who've\": \"who have\",\n",
    "                           \"why's\": \"why is\", \"why've\": \"why have\", \"will've\": \"will have\", \"won't\": \"will not\", \"won't've\": \"will not have\",\n",
    "                           \"would've\": \"would have\", \"wouldn't\": \"would not\", \"wouldn't've\": \"would not have\", \"y'all\": \"you all\",\n",
    "                           \"y'all'd\": \"you all would\",\"y'all'd've\": \"you all would have\",\"y'all're\": \"you all are\",\"y'all've\": \"you all have\",\n",
    "                           \"you'd\": \"you would\", \"you'd've\": \"you would have\", \"you'll\": \"you will\", \"you'll've\": \"you will have\",\n",
    "                           \"you're\": \"you are\", \"you've\": \"you have\"}\n",
    "\n",
    "print(\"정규화 사전의 수: \", len(contractions))\n",
    "# 영어에서 같은 뜻을 의미하는 줄임말들 사전 "
   ]
  },
  {
   "cell_type": "code",
   "execution_count": 9,
   "id": "68874152",
   "metadata": {},
   "outputs": [
    {
     "name": "stdout",
     "output_type": "stream",
     "text": [
      "불용어 개수:  179\n",
      "['i', 'me', 'my', 'myself', 'we', 'our', 'ours', 'ourselves', 'you', \"you're\", \"you've\", \"you'll\", \"you'd\", 'your', 'yours', 'yourself', 'yourselves', 'he', 'him', 'his', 'himself', 'she', \"she's\", 'her', 'hers', 'herself', 'it', \"it's\", 'its', 'itself', 'they', 'them', 'their', 'theirs', 'themselves', 'what', 'which', 'who', 'whom', 'this', 'that', \"that'll\", 'these', 'those', 'am', 'is', 'are', 'was', 'were', 'be', 'been', 'being', 'have', 'has', 'had', 'having', 'do', 'does', 'did', 'doing', 'a', 'an', 'the', 'and', 'but', 'if', 'or', 'because', 'as', 'until', 'while', 'of', 'at', 'by', 'for', 'with', 'about', 'against', 'between', 'into', 'through', 'during', 'before', 'after', 'above', 'below', 'to', 'from', 'up', 'down', 'in', 'out', 'on', 'off', 'over', 'under', 'again', 'further', 'then', 'once', 'here', 'there', 'when', 'where', 'why', 'how', 'all', 'any', 'both', 'each', 'few', 'more', 'most', 'other', 'some', 'such', 'no', 'nor', 'not', 'only', 'own', 'same', 'so', 'than', 'too', 'very', 's', 't', 'can', 'will', 'just', 'don', \"don't\", 'should', \"should've\", 'now', 'd', 'll', 'm', 'o', 're', 've', 'y', 'ain', 'aren', \"aren't\", 'couldn', \"couldn't\", 'didn', \"didn't\", 'doesn', \"doesn't\", 'hadn', \"hadn't\", 'hasn', \"hasn't\", 'haven', \"haven't\", 'isn', \"isn't\", 'ma', 'mightn', \"mightn't\", 'mustn', \"mustn't\", 'needn', \"needn't\", 'shan', \"shan't\", 'shouldn', \"shouldn't\", 'wasn', \"wasn't\", 'weren', \"weren't\", 'won', \"won't\", 'wouldn', \"wouldn't\"]\n"
     ]
    }
   ],
   "source": [
    "print('불용어 개수: ', len(stopwords.words('english')))\n",
    "print(stopwords.words('english'))"
   ]
  },
  {
   "cell_type": "code",
   "execution_count": 10,
   "id": "090affed",
   "metadata": {},
   "outputs": [],
   "source": [
    "def preprocess_sentence(sentence, remove_stopwords = True):\n",
    "    sentence = sentence.lower() # 텍스트 소문자화\n",
    "    sentence = BeautifulSoup(sentence, \"lxml\").text # <br />, <a href = ...> 등의 html 태그 제거\n",
    "    sentence = re.sub(r'\\([^)]*\\)', '', sentence) # 괄호로 닫힌 문자열 (...) 제거 \n",
    "    sentence = re.sub('\"','', sentence) # 쌍따옴표 \" 제거\n",
    "    sentence = ' '.join([contractions[t] if t in contractions else t for t in sentence.split(\" \")]) # 약어 정규화\n",
    "    sentence = re.sub(r\"'s\\b\",\"\", sentence) # 소유격 제거\n",
    "    sentence = re.sub(\"[^a-zA-Z]\", \" \", sentence) # 영어 외 문자(숫자, 특수문자 등) 공백으로 변환\n",
    "    sentence = re.sub('[m]{2,}', 'mm', sentence) # m이 3개 이상이면 2개로 변경\n",
    "    \n",
    "    if remove_stopwords:\n",
    "        tokens = ' '.join(word for word in sentence.split() if not word in stopwords.words('english') if len(word) > 1)\n",
    "        # text의 불용어 제거\n",
    "    else:\n",
    "        tokens = ' '.join(word for word in sentence.split() if len(word) > 1)\n",
    "        # headlines는 불용어를 제거하지 않음\n",
    "    return tokens"
   ]
  },
  {
   "cell_type": "code",
   "execution_count": 11,
   "id": "4f891d94",
   "metadata": {
    "scrolled": true
   },
   "outputs": [
    {
     "data": {
      "text/plain": [
       "['saurav kant alumnus upgrad iiit pg program machine learning artificial intelligence sr systems engineer infosys almost years work experience program upgrad degree career support helped transition data scientist tech mahindra salary hike upgrad online power learning powered lakh careers',\n",
       " 'kunal shah credit card bill payment platform cred gave users chance win free food swiggy one year pranav kaushik delhi techie bagged reward spending cred coins users get one cred coin per rupee bill paid used avail rewards brands like ixigo bookmyshow ubereats cult fit',\n",
       " 'new zealand defeated india wickets fourth odi hamilton thursday win first match five match odi series india lost international match rohit sharma captaincy consecutive victories dating back march match witnessed india getting seventh lowest total odi cricket history',\n",
       " 'aegon life iterm insurance plan customers enjoy tax benefits premiums paid save taxes plan provides life cover age years also customers options insure critical illnesses disability accidental death benefit rider life cover age years',\n",
       " 'speaking sexual harassment allegations rajkumar hirani sonam kapoor said known hirani many years true metoo movement get derailed metoo movement always believe woman case need reserve judgment added hirani accused assistant worked sanju']"
      ]
     },
     "execution_count": 11,
     "metadata": {},
     "output_type": "execute_result"
    }
   ],
   "source": [
    "clean_text = []\n",
    "for s in data['text']:\n",
    "    clean_text.append(preprocess_sentence(s))\n",
    "\n",
    "clean_text[:5]"
   ]
  },
  {
   "cell_type": "code",
   "execution_count": 12,
   "id": "a143d316",
   "metadata": {},
   "outputs": [
    {
     "data": {
      "text/plain": [
       "['upgrad learner switches to career in ml al with salary hike',\n",
       " 'delhi techie wins free food from swiggy for one year on cred',\n",
       " 'new zealand end rohit sharma led india match winning streak',\n",
       " 'aegon life iterm insurance plan helps customers save tax',\n",
       " 'have known hirani for yrs what if metoo claims are not true sonam']"
      ]
     },
     "execution_count": 12,
     "metadata": {},
     "output_type": "execute_result"
    }
   ],
   "source": [
    "clean_headlines = []\n",
    "for s in data['headlines']:\n",
    "    clean_headlines.append(preprocess_sentence(s, False))\n",
    "\n",
    "clean_headlines[:5]"
   ]
  },
  {
   "cell_type": "code",
   "execution_count": 13,
   "id": "fd834a11",
   "metadata": {},
   "outputs": [],
   "source": [
    "data['text'] = clean_text\n",
    "data['headlines'] = clean_headlines\n",
    "\n",
    "data.replace('', np.nan, inplace = True)"
   ]
  },
  {
   "cell_type": "code",
   "execution_count": 14,
   "id": "791044e2",
   "metadata": {},
   "outputs": [],
   "source": [
    "data.isnull().sum()\n",
    "data.dropna(axis = 0, inplace = True)"
   ]
  },
  {
   "cell_type": "markdown",
   "id": "4a8d8abb",
   "metadata": {},
   "source": [
    "# 훈련데이터와 테스트데이터 나누기"
   ]
  },
  {
   "cell_type": "code",
   "execution_count": 15,
   "id": "48f78a72",
   "metadata": {},
   "outputs": [
    {
     "name": "stdout",
     "output_type": "stream",
     "text": [
      "텍스트의 최소 길이: 1\n",
      "텍스트의 최대 길이: 60\n",
      "텍스트의 평균 길이: 35.09968483123221\n",
      "요약의 최소 길이: 1\n",
      "요약의 최대 길이: 16\n",
      "요약의 평균 길이: 9.299532330215534\n"
     ]
    },
    {
     "data": {
      "image/png": "[encoded data removed]",
      "text/plain": [
       "<Figure size 432x288 with 2 Axes>"
      ]
     },
     "metadata": {
      "needs_background": "light"
     },
     "output_type": "display_data"
    },
    {
     "data": {
      "image/png": "[encoded data removed]",
      "text/plain": [
       "<Figure size 432x288 with 1 Axes>"
      ]
     },
     "metadata": {
      "needs_background": "light"
     },
     "output_type": "display_data"
    },
    {
     "data": {
      "image/png": "[encoded data removed]",
      "text/plain": [
       "<Figure size 432x288 with 1 Axes>"
      ]
     },
     "metadata": {
      "needs_background": "light"
     },
     "output_type": "display_data"
    }
   ],
   "source": [
    "text_len = [len(s.split()) for s in data['text']]\n",
    "headlines_len = [len(s.split()) for s in data['headlines']]\n",
    "\n",
    "print('텍스트의 최소 길이: {}'.format(np.min(text_len)))\n",
    "print('텍스트의 최대 길이: {}'.format(np.max(text_len)))\n",
    "print('텍스트의 평균 길이: {}'.format(np.mean(text_len)))\n",
    "print('요약의 최소 길이: {}'.format(np.min(headlines_len)))\n",
    "print('요약의 최대 길이: {}'.format(np.max(headlines_len)))\n",
    "print('요약의 평균 길이: {}'.format(np.mean(headlines_len)))\n",
    "\n",
    "plt.subplot(1, 2, 1)\n",
    "plt.boxplot(text_len)\n",
    "plt.title('Text')\n",
    "plt.subplot(1, 2, 2)\n",
    "plt.boxplot(headlines_len)\n",
    "plt.title('Headlines')\n",
    "plt.tight_layout()\n",
    "plt.show()\n",
    "\n",
    "plt.title('Text')\n",
    "plt.hist(text_len, bins = 40)\n",
    "plt.xlabel('length of samples')\n",
    "plt.ylabel('number of samples')\n",
    "plt.show()\n",
    "\n",
    "plt.title('Headlines')\n",
    "plt.hist(headlines_len, bins = 40)\n",
    "plt.xlabel('length of samples')\n",
    "plt.ylabel('number of samples')\n",
    "plt.show()\n",
    "# 데이터의 텍스트와 요약 최소, 최대, 그리고 평균 길이를 그래프로 표현 "
   ]
  },
  {
   "cell_type": "code",
   "execution_count": 16,
   "id": "a6567b95",
   "metadata": {},
   "outputs": [],
   "source": [
    "text_max_len = 40\n",
    "headlines_max_len = 10"
   ]
  },
  {
   "cell_type": "code",
   "execution_count": 17,
   "id": "a56db830",
   "metadata": {},
   "outputs": [],
   "source": [
    "def below_threshold_len(max_len, nested_list):\n",
    "    count = 0\n",
    "    for s in nested_list:\n",
    "        if(len(s.split()) <= max_len):\n",
    "            count += 1\n",
    "    print('전체 샘플 중 길이가 %s 이하인 샘플의 비율: %s'%(max_len, (count / len(nested_list))))"
   ]
  },
  {
   "cell_type": "code",
   "execution_count": 18,
   "id": "207c58c1",
   "metadata": {},
   "outputs": [
    {
     "name": "stdout",
     "output_type": "stream",
     "text": [
      "전체 샘플 중 길이가 40 이하인 샘플의 비율: 0.9238714924766165\n",
      "전체 샘플 중 길이가 10 이하인 샘플의 비율: 0.8162972753151687\n"
     ]
    }
   ],
   "source": [
    "below_threshold_len(text_max_len, data['text'])\n",
    "below_threshold_len(headlines_max_len, data['headlines'])"
   ]
  },
  {
   "cell_type": "code",
   "execution_count": 19,
   "id": "8f34047e",
   "metadata": {},
   "outputs": [
    {
     "name": "stdout",
     "output_type": "stream",
     "text": [
      "전체 샘플수:  74102\n"
     ]
    }
   ],
   "source": [
    "data = data[data['text'].apply(lambda x: len(x.split()) <= text_max_len)]\n",
    "data = data[data['headlines'].apply(lambda x: len(x.split()) <= headlines_max_len)]\n",
    "print('전체 샘플수: ', (len(data)))"
   ]
  },
  {
   "cell_type": "code",
   "execution_count": 20,
   "id": "307e6df1",
   "metadata": {},
   "outputs": [
    {
     "data": {
      "text/html": [
       "<div>\n",
       "<style scoped>\n",
       "    .dataframe tbody tr th:only-of-type {\n",
       "        vertical-align: middle;\n",
       "    }\n",
       "\n",
       "    .dataframe tbody tr th {\n",
       "        vertical-align: top;\n",
       "    }\n",
       "\n",
       "    .dataframe thead th {\n",
       "        text-align: right;\n",
       "    }\n",
       "</style>\n",
       "<table border=\"1\" class=\"dataframe\">\n",
       "  <thead>\n",
       "    <tr style=\"text-align: right;\">\n",
       "      <th></th>\n",
       "      <th>headlines</th>\n",
       "      <th>text</th>\n",
       "      <th>decoder_input</th>\n",
       "      <th>decoder_target</th>\n",
       "    </tr>\n",
       "  </thead>\n",
       "  <tbody>\n",
       "    <tr>\n",
       "      <th>2</th>\n",
       "      <td>new zealand end rohit sharma led india match w...</td>\n",
       "      <td>new zealand defeated india wickets fourth odi ...</td>\n",
       "      <td>sostoken new zealand end rohit sharma led indi...</td>\n",
       "      <td>new zealand end rohit sharma led india match w...</td>\n",
       "    </tr>\n",
       "    <tr>\n",
       "      <th>3</th>\n",
       "      <td>aegon life iterm insurance plan helps customer...</td>\n",
       "      <td>aegon life iterm insurance plan customers enjo...</td>\n",
       "      <td>sostoken aegon life iterm insurance plan helps...</td>\n",
       "      <td>aegon life iterm insurance plan helps customer...</td>\n",
       "    </tr>\n",
       "    <tr>\n",
       "      <th>5</th>\n",
       "      <td>rahat fateh ali khan denies getting notice for...</td>\n",
       "      <td>pakistani singer rahat fateh ali khan denied r...</td>\n",
       "      <td>sostoken rahat fateh ali khan denies getting n...</td>\n",
       "      <td>rahat fateh ali khan denies getting notice for...</td>\n",
       "    </tr>\n",
       "    <tr>\n",
       "      <th>9</th>\n",
       "      <td>cong wins ramgarh bypoll in rajasthan takes to...</td>\n",
       "      <td>congress candidate shafia zubair ramgarh assem...</td>\n",
       "      <td>sostoken cong wins ramgarh bypoll in rajasthan...</td>\n",
       "      <td>cong wins ramgarh bypoll in rajasthan takes to...</td>\n",
       "    </tr>\n",
       "    <tr>\n",
       "      <th>10</th>\n",
       "      <td>up cousins fed human excreta for friendship wi...</td>\n",
       "      <td>two minor cousins uttar pradesh gorakhpur alle...</td>\n",
       "      <td>sostoken up cousins fed human excreta for frie...</td>\n",
       "      <td>up cousins fed human excreta for friendship wi...</td>\n",
       "    </tr>\n",
       "  </tbody>\n",
       "</table>\n",
       "</div>"
      ],
      "text/plain": [
       "                                            headlines  \\\n",
       "2   new zealand end rohit sharma led india match w...   \n",
       "3   aegon life iterm insurance plan helps customer...   \n",
       "5   rahat fateh ali khan denies getting notice for...   \n",
       "9   cong wins ramgarh bypoll in rajasthan takes to...   \n",
       "10  up cousins fed human excreta for friendship wi...   \n",
       "\n",
       "                                                 text  \\\n",
       "2   new zealand defeated india wickets fourth odi ...   \n",
       "3   aegon life iterm insurance plan customers enjo...   \n",
       "5   pakistani singer rahat fateh ali khan denied r...   \n",
       "9   congress candidate shafia zubair ramgarh assem...   \n",
       "10  two minor cousins uttar pradesh gorakhpur alle...   \n",
       "\n",
       "                                        decoder_input  \\\n",
       "2   sostoken new zealand end rohit sharma led indi...   \n",
       "3   sostoken aegon life iterm insurance plan helps...   \n",
       "5   sostoken rahat fateh ali khan denies getting n...   \n",
       "9   sostoken cong wins ramgarh bypoll in rajasthan...   \n",
       "10  sostoken up cousins fed human excreta for frie...   \n",
       "\n",
       "                                       decoder_target  \n",
       "2   new zealand end rohit sharma led india match w...  \n",
       "3   aegon life iterm insurance plan helps customer...  \n",
       "5   rahat fateh ali khan denies getting notice for...  \n",
       "9   cong wins ramgarh bypoll in rajasthan takes to...  \n",
       "10  up cousins fed human excreta for friendship wi...  "
      ]
     },
     "execution_count": 20,
     "metadata": {},
     "output_type": "execute_result"
    }
   ],
   "source": [
    "data['decoder_input'] = data['headlines'].apply(lambda x: 'sostoken '+ x)\n",
    "data['decoder_target'] = data['headlines'].apply(lambda x: x +' eostoken')\n",
    "data.head()\n",
    "# decoder_input과 decoder_output을 새로 생성"
   ]
  },
  {
   "cell_type": "code",
   "execution_count": 21,
   "id": "9923bffb",
   "metadata": {},
   "outputs": [],
   "source": [
    "encoder_input = np.array(data['text'])\n",
    "decoder_input = np.array(data['decoder_input'])\n",
    "decoder_target = np.array(data['decoder_target'])"
   ]
  },
  {
   "cell_type": "code",
   "execution_count": 22,
   "id": "82c4f07b",
   "metadata": {},
   "outputs": [],
   "source": [
    "indices = np.arange(encoder_input.shape[0])\n",
    "np.random.shuffle(indices)"
   ]
  },
  {
   "cell_type": "code",
   "execution_count": 23,
   "id": "c97d9818",
   "metadata": {},
   "outputs": [],
   "source": [
    "encoder_input = encoder_input[indices]\n",
    "decoder_input = decoder_input[indices]\n",
    "decoder_target = decoder_target[indices]"
   ]
  },
  {
   "cell_type": "code",
   "execution_count": 24,
   "id": "779008df",
   "metadata": {},
   "outputs": [
    {
     "name": "stdout",
     "output_type": "stream",
     "text": [
      "훈련 데이터의 개수:  59282\n",
      "훈련 레이블의 개수:  59282\n",
      "테스트 데이터의 개수:  14820\n",
      "테스트 레이블의 개수:  14820\n"
     ]
    }
   ],
   "source": [
    "n_of_val = int(len(encoder_input)*0.2)\n",
    "\n",
    "encoder_input_train = encoder_input[:-n_of_val]\n",
    "decoder_input_train = decoder_input[:-n_of_val]\n",
    "decoder_target_train = decoder_target[:-n_of_val]\n",
    "\n",
    "encoder_input_test = encoder_input[-n_of_val:]\n",
    "decoder_input_test = decoder_input[-n_of_val:]\n",
    "decoder_target_test = decoder_target[-n_of_val:]\n",
    "\n",
    "print('훈련 데이터의 개수: ', len(encoder_input_train))\n",
    "print('훈련 레이블의 개수: ', len(decoder_input_train))\n",
    "print('테스트 데이터의 개수: ', len(encoder_input_test))\n",
    "print('테스트 레이블의 개수: ', len(decoder_input_test))\n",
    "# train_data와 test_data로 데이터를 분할"
   ]
  },
  {
   "cell_type": "markdown",
   "id": "80f8b425",
   "metadata": {},
   "source": [
    "# 정수 인코딩"
   ]
  },
  {
   "cell_type": "code",
   "execution_count": 25,
   "id": "dee4dbe8",
   "metadata": {},
   "outputs": [],
   "source": [
    "src_tokenizer = Tokenizer() # 토크나이저 정의\n",
    "src_tokenizer.fit_on_texts(encoder_input_train)"
   ]
  },
  {
   "cell_type": "code",
   "execution_count": 26,
   "id": "1fd5fcd8",
   "metadata": {},
   "outputs": [
    {
     "name": "stdout",
     "output_type": "stream",
     "text": [
      "단어 집합(vocabulary)의 크기:  61568\n",
      "등장 빈도가 6번 이하인 희귀 단어의 수: 42321\n",
      "단어 집합에서 희귀 단어를 제외시킬 경우의 단어 집합의 크기 19247\n",
      "단어 집합에서 희귀 단어의 비율:  68.73863045738045\n",
      "전체 등장 빈도에서 희귀 단어 등장 빈도 비율:  4.200268243405764\n"
     ]
    }
   ],
   "source": [
    "threshold = 7\n",
    "total_count = len(src_tokenizer.word_index)\n",
    "rare_count = 0\n",
    "total_freq = 0\n",
    "rare_freq = 0\n",
    "\n",
    "for key, value in src_tokenizer.word_counts.items():\n",
    "    total_freq = total_freq + value\n",
    "    \n",
    "    if (value < threshold):\n",
    "        rare_count += 1\n",
    "        rare_freq = rare_freq + value\n",
    "        \n",
    "print('단어 집합(vocabulary)의 크기: ', total_count)\n",
    "print('등장 빈도가 %s번 이하인 희귀 단어의 수: %s'%(threshold - 1, rare_count))\n",
    "print('단어 집합에서 희귀 단어를 제외시킬 경우의 단어 집합의 크기 %s'%(total_count - rare_count))\n",
    "print('단어 집합에서 희귀 단어의 비율: ', (rare_count / total_count) * 100)\n",
    "print('전체 등장 빈도에서 희귀 단어 등장 빈도 비율: ', (rare_freq / total_freq) * 100)"
   ]
  },
  {
   "cell_type": "code",
   "execution_count": 27,
   "id": "76d1a281",
   "metadata": {},
   "outputs": [],
   "source": [
    "src_vocab = 20000\n",
    "src_tokenizer = Tokenizer(num_words = src_vocab)\n",
    "src_tokenizer.fit_on_texts(encoder_input_train)\n",
    "\n",
    "encoder_input_train = src_tokenizer.texts_to_sequences(encoder_input_train) \n",
    "encoder_input_test = src_tokenizer.texts_to_sequences(encoder_input_test)\n",
    "# 텍스트 시퀸스를 정수 시퀸스로 변환"
   ]
  },
  {
   "cell_type": "code",
   "execution_count": 28,
   "id": "fb718deb",
   "metadata": {},
   "outputs": [],
   "source": [
    "tar_tokenizer = Tokenizer()\n",
    "tar_tokenizer.fit_on_texts(decoder_input_train)"
   ]
  },
  {
   "cell_type": "code",
   "execution_count": 29,
   "id": "d2117101",
   "metadata": {},
   "outputs": [
    {
     "name": "stdout",
     "output_type": "stream",
     "text": [
      "단어 집합(vocabulary)의 크기:  27345\n",
      "등장 빈도가 5번 이하인 희귀 단어의 수: 18340\n",
      "단어 집합에서 희귀 단어를 제외시킬 경우의 단어 집합의 크기 9005\n",
      "단어 집합에서 희귀 단어의 비율:  67.06893399158895\n",
      "전체 등장 빈도에서 희귀 단어 등장 빈도 비율:  6.030628549460319\n"
     ]
    }
   ],
   "source": [
    "threshold = 6\n",
    "total_count = len(tar_tokenizer.word_index)\n",
    "rare_count = 0\n",
    "total_freq = 0 \n",
    "rare_freq = 0\n",
    "\n",
    "for key, value in tar_tokenizer.word_counts.items():\n",
    "    total_freq = total_freq + value\n",
    "    \n",
    "    if (value < threshold):\n",
    "        rare_count += 1\n",
    "        rare_freq = rare_freq + value\n",
    "        \n",
    "print('단어 집합(vocabulary)의 크기: ', total_count)\n",
    "print('등장 빈도가 %s번 이하인 희귀 단어의 수: %s'%(threshold-1, rare_count))\n",
    "print('단어 집합에서 희귀 단어를 제외시킬 경우의 단어 집합의 크기 %s'%(total_count - rare_count))\n",
    "print('단어 집합에서 희귀 단어의 비율: ', (rare_count / total_count) * 100)\n",
    "print('전체 등장 빈도에서 희귀 단어 등장 빈도 비율: ', (rare_freq / total_freq) * 100)"
   ]
  },
  {
   "cell_type": "code",
   "execution_count": 30,
   "id": "a675085a",
   "metadata": {},
   "outputs": [
    {
     "name": "stdout",
     "output_type": "stream",
     "text": [
      "input\n",
      "input  [[1, 3958, 63, 9, 96, 6492, 5114, 6, 69, 341, 624], [1, 507, 857, 612, 1384, 12, 2470, 4663], [1, 23, 21, 3, 923, 5, 5386, 959, 6, 832], [1, 4664, 468, 7, 71, 1934, 1175], [1, 27, 1543, 236, 303, 30, 3, 247, 549, 2864]]\n",
      "target\n",
      "decoder  [[3958, 63, 9, 96, 6492, 5114, 6, 69, 341, 624, 2], [507, 857, 612, 1384, 12, 2470, 4663, 2], [23, 21, 3, 923, 5, 5386, 959, 6, 832, 2], [4664, 468, 7, 71, 1934, 1175, 2], [27, 1543, 236, 303, 30, 3, 247, 549, 2864, 2]]\n"
     ]
    }
   ],
   "source": [
    "tar_vocab = 9000\n",
    "tar_tokenizer = Tokenizer(num_words=tar_vocab) \n",
    "tar_tokenizer.fit_on_texts(decoder_input_train)\n",
    "tar_tokenizer.fit_on_texts(decoder_target_train)\n",
    "\n",
    "# 텍스트 시퀸스를 정수 시퀸스로 변환\n",
    "decoder_input_train = tar_tokenizer.texts_to_sequences(decoder_input_train) \n",
    "decoder_target_train = tar_tokenizer.texts_to_sequences(decoder_target_train)\n",
    "decoder_input_test = tar_tokenizer.texts_to_sequences(decoder_input_test)\n",
    "decoder_target_test = tar_tokenizer.texts_to_sequences(decoder_target_test)\n",
    "\n",
    "\n",
    "print('input')\n",
    "print('input ',decoder_input_train[:5])\n",
    "print('target')\n",
    "print('decoder ',decoder_target_train[:5])"
   ]
  },
  {
   "cell_type": "code",
   "execution_count": 31,
   "id": "7d721fde",
   "metadata": {},
   "outputs": [
    {
     "name": "stdout",
     "output_type": "stream",
     "text": [
      "삭제할 훈련 데이터의 개수 : 0\n",
      "삭제할 테스트 데이터의 개수 : 0\n",
      "훈련 데이터의 개수 : 59282\n",
      "훈련 레이블의 개수 : 59282\n",
      "테스트 데이터의 개수 : 14820\n",
      "테스트 레이블의 개수 : 14820\n"
     ]
    }
   ],
   "source": [
    "drop_train = [index for index, sentence in enumerate(decoder_input_train) if len(sentence) == 1]\n",
    "drop_test = [index for index, sentence in enumerate(decoder_input_test) if len(sentence) == 1]\n",
    "\n",
    "print('삭제할 훈련 데이터의 개수 :', len(drop_train))\n",
    "print('삭제할 테스트 데이터의 개수 :', len(drop_test))\n",
    "\n",
    "encoder_input_train = [sentence for index, sentence in enumerate(encoder_input_train) if index not in drop_train]\n",
    "decoder_input_train = [sentence for index, sentence in enumerate(decoder_input_train) if index not in drop_train]\n",
    "decoder_target_train = [sentence for index, sentence in enumerate(decoder_target_train) if index not in drop_train]\n",
    "\n",
    "encoder_input_test = [sentence for index, sentence in enumerate(encoder_input_test) if index not in drop_test]\n",
    "decoder_input_test = [sentence for index, sentence in enumerate(decoder_input_test) if index not in drop_test]\n",
    "decoder_target_test = [sentence for index, sentence in enumerate(decoder_target_test) if index not in drop_test]\n",
    "\n",
    "print('훈련 데이터의 개수 :', len(encoder_input_train))\n",
    "print('훈련 레이블의 개수 :', len(decoder_input_train))\n",
    "print('테스트 데이터의 개수 :', len(encoder_input_test))\n",
    "print('테스트 레이블의 개수 :', len(decoder_input_test))"
   ]
  },
  {
   "cell_type": "code",
   "execution_count": 32,
   "id": "18d9ae37",
   "metadata": {},
   "outputs": [],
   "source": [
    "encoder_input_train = pad_sequences(encoder_input_train, maxlen = text_max_len, padding = 'post')\n",
    "encoder_input_test = pad_sequences(encoder_input_test, maxlen = text_max_len, padding = 'post')\n",
    "decoder_input_train = pad_sequences(decoder_input_train, maxlen = headlines_max_len, padding = 'post')\n",
    "decoder_target_train = pad_sequences(decoder_target_train, maxlen = headlines_max_len, padding = 'post')\n",
    "decoder_input_test = pad_sequences(decoder_input_test, maxlen = headlines_max_len, padding = 'post')\n",
    "decoder_target_test = pad_sequences(decoder_target_test, maxlen = headlines_max_len, padding = 'post')"
   ]
  },
  {
   "cell_type": "markdown",
   "id": "35ebd571",
   "metadata": {},
   "source": [
    "# 모델 설계"
   ]
  },
  {
   "cell_type": "code",
   "execution_count": 33,
   "id": "4aced8d2",
   "metadata": {},
   "outputs": [
    {
     "name": "stdout",
     "output_type": "stream",
     "text": [
      "WARNING:tensorflow:Layer lstm will not use cuDNN kernels since it doesn't meet the criteria. It will use a generic GPU kernel as fallback when running on GPU.\n",
      "WARNING:tensorflow:Layer lstm_1 will not use cuDNN kernels since it doesn't meet the criteria. It will use a generic GPU kernel as fallback when running on GPU.\n",
      "WARNING:tensorflow:Layer lstm_2 will not use cuDNN kernels since it doesn't meet the criteria. It will use a generic GPU kernel as fallback when running on GPU.\n"
     ]
    }
   ],
   "source": [
    "# 인코더 설계\n",
    "embedding_dim = 128\n",
    "hidden_size = 256\n",
    "# 인코더\n",
    "encoder_inputs = Input(shape = (text_max_len))\n",
    "# 인코더의 임베딩 층\n",
    "enc_emb = Embedding(src_vocab, embedding_dim)(encoder_inputs)\n",
    "# LSTM 1\n",
    "encoder_lstm1 = LSTM(hidden_size, return_sequences = True, return_state = True, dropout = 0.4, recurrent_dropout = 0.4)\n",
    "encoder_output1, state_h1, stat_c1 = encoder_lstm1(enc_emb)\n",
    "# LSTM 2\n",
    "encoder_lstm2 = LSTM(hidden_size, return_sequences = True, return_state = True, dropout = 0.4, recurrent_dropout = 0.4)\n",
    "encoder_output2, state_h2, state_c2 = encoder_lstm2(encoder_output1)\n",
    "#LSTM 3\n",
    "encoder_lstm3 = LSTM(hidden_size, return_sequences = True, return_state = True, dropout = 0.4, recurrent_dropout = 0.4)\n",
    "encoder_outputs, state_h, state_c = encoder_lstm3(encoder_output2)"
   ]
  },
  {
   "cell_type": "code",
   "execution_count": 34,
   "id": "4827f840",
   "metadata": {},
   "outputs": [],
   "source": [
    "# 디코더 설계\n",
    "decoder_inputs = Input(shape = (None, ))\n",
    "# 디코더의 임베딩 층\n",
    "dec_emb_layer = Embedding(tar_vocab, embedding_dim)\n",
    "dec_emb = dec_emb_layer(decoder_inputs)\n",
    "# 디코더의 LSTM\n",
    "decoder_lstm = LSTM(hidden_size, return_sequences = True, return_state = True, dropout = 0.4)\n",
    "decoder_outputs, _, _ = decoder_lstm(dec_emb, initial_state = [state_h, state_c])\n",
    "# 디코더의 출력층\n",
    "decoder_softmax_layer = Dense(tar_vocab, activation = 'softmax')\n",
    "decoder_softmax_outputs = decoder_softmax_layer(decoder_outputs)"
   ]
  },
  {
   "cell_type": "code",
   "execution_count": 35,
   "id": "1a24edd5",
   "metadata": {},
   "outputs": [
    {
     "name": "stdout",
     "output_type": "stream",
     "text": [
      "Model: \"model\"\n",
      "__________________________________________________________________________________________________\n",
      "Layer (type)                    Output Shape         Param #     Connected to                     \n",
      "==================================================================================================\n",
      "input_1 (InputLayer)            [(None, 40)]         0                                            \n",
      "__________________________________________________________________________________________________\n",
      "embedding (Embedding)           (None, 40, 128)      2560000     input_1[0][0]                    \n",
      "__________________________________________________________________________________________________\n",
      "lstm (LSTM)                     [(None, 40, 256), (N 394240      embedding[0][0]                  \n",
      "__________________________________________________________________________________________________\n",
      "input_2 (InputLayer)            [(None, None)]       0                                            \n",
      "__________________________________________________________________________________________________\n",
      "lstm_1 (LSTM)                   [(None, 40, 256), (N 525312      lstm[0][0]                       \n",
      "__________________________________________________________________________________________________\n",
      "embedding_1 (Embedding)         (None, None, 128)    1152000     input_2[0][0]                    \n",
      "__________________________________________________________________________________________________\n",
      "lstm_2 (LSTM)                   [(None, 40, 256), (N 525312      lstm_1[0][0]                     \n",
      "__________________________________________________________________________________________________\n",
      "lstm_3 (LSTM)                   [(None, None, 256),  394240      embedding_1[0][0]                \n",
      "                                                                 lstm_2[0][1]                     \n",
      "                                                                 lstm_2[0][2]                     \n",
      "__________________________________________________________________________________________________\n",
      "dense (Dense)                   (None, None, 9000)   2313000     lstm_3[0][0]                     \n",
      "==================================================================================================\n",
      "Total params: 7,864,104\n",
      "Trainable params: 7,864,104\n",
      "Non-trainable params: 0\n",
      "__________________________________________________________________________________________________\n"
     ]
    }
   ],
   "source": [
    "model = Model([encoder_inputs, decoder_inputs], decoder_softmax_outputs)\n",
    "model.summary()"
   ]
  },
  {
   "cell_type": "code",
   "execution_count": 36,
   "id": "292930f9",
   "metadata": {},
   "outputs": [
    {
     "name": "stdout",
     "output_type": "stream",
     "text": [
      "Model: \"model_1\"\n",
      "__________________________________________________________________________________________________\n",
      "Layer (type)                    Output Shape         Param #     Connected to                     \n",
      "==================================================================================================\n",
      "input_1 (InputLayer)            [(None, 40)]         0                                            \n",
      "__________________________________________________________________________________________________\n",
      "embedding (Embedding)           (None, 40, 128)      2560000     input_1[0][0]                    \n",
      "__________________________________________________________________________________________________\n",
      "lstm (LSTM)                     [(None, 40, 256), (N 394240      embedding[0][0]                  \n",
      "__________________________________________________________________________________________________\n",
      "input_2 (InputLayer)            [(None, None)]       0                                            \n",
      "__________________________________________________________________________________________________\n",
      "lstm_1 (LSTM)                   [(None, 40, 256), (N 525312      lstm[0][0]                       \n",
      "__________________________________________________________________________________________________\n",
      "embedding_1 (Embedding)         (None, None, 128)    1152000     input_2[0][0]                    \n",
      "__________________________________________________________________________________________________\n",
      "lstm_2 (LSTM)                   [(None, 40, 256), (N 525312      lstm_1[0][0]                     \n",
      "__________________________________________________________________________________________________\n",
      "lstm_3 (LSTM)                   [(None, None, 256),  394240      embedding_1[0][0]                \n",
      "                                                                 lstm_2[0][1]                     \n",
      "                                                                 lstm_2[0][2]                     \n",
      "__________________________________________________________________________________________________\n",
      "attention_layer (AdditiveAttent (None, None, 256)    256         lstm_3[0][0]                     \n",
      "                                                                 lstm_2[0][0]                     \n",
      "__________________________________________________________________________________________________\n",
      "concat_layer (Concatenate)      (None, None, 512)    0           lstm_3[0][0]                     \n",
      "                                                                 attention_layer[0][0]            \n",
      "__________________________________________________________________________________________________\n",
      "dense_1 (Dense)                 (None, None, 9000)   4617000     concat_layer[0][0]               \n",
      "==================================================================================================\n",
      "Total params: 10,168,360\n",
      "Trainable params: 10,168,360\n",
      "Non-trainable params: 0\n",
      "__________________________________________________________________________________________________\n"
     ]
    }
   ],
   "source": [
    "# 어텐션 함수\n",
    "attn_layer = AdditiveAttention(name = 'attention_layer')\n",
    "# 인코더와 디코더의 모든 time step의 hidden state를 어텐션 층에 전달하고 결과를 리턴\n",
    "attn_out = attn_layer([decoder_outputs, encoder_outputs])\n",
    "# 어텐션의 결과와 디코더의 hidden state들을 연결\n",
    "decoder_concat_input = Concatenate(axis = -1, name = 'concat_layer')([decoder_outputs, attn_out])\n",
    "# 디코더의 출력층\n",
    "decoder_softmax_layer = Dense(tar_vocab, activation = 'softmax')\n",
    "decoder_softmax_outputs = decoder_softmax_layer(decoder_concat_input)\n",
    "\n",
    "model = Model([encoder_inputs, decoder_inputs], decoder_softmax_outputs)\n",
    "model.summary()"
   ]
  },
  {
   "cell_type": "markdown",
   "id": "baa5831c",
   "metadata": {},
   "source": [
    "# Model Training"
   ]
  },
  {
   "cell_type": "code",
   "execution_count": 37,
   "id": "7edfe923",
   "metadata": {
    "scrolled": true
   },
   "outputs": [
    {
     "name": "stdout",
     "output_type": "stream",
     "text": [
      "Epoch 1/50\n",
      "232/232 [==============================] - 157s 543ms/step - loss: 6.3050 - val_loss: 5.8652\n",
      "Epoch 2/50\n",
      "232/232 [==============================] - 125s 541ms/step - loss: 5.7554 - val_loss: 5.5466\n",
      "Epoch 3/50\n",
      "232/232 [==============================] - 122s 527ms/step - loss: 5.4284 - val_loss: 5.2715\n",
      "Epoch 4/50\n",
      "232/232 [==============================] - 122s 524ms/step - loss: 5.1575 - val_loss: 5.0710\n",
      "Epoch 5/50\n",
      "232/232 [==============================] - 123s 530ms/step - loss: 4.9196 - val_loss: 4.9057\n",
      "Epoch 6/50\n",
      "232/232 [==============================] - 123s 531ms/step - loss: 4.7189 - val_loss: 4.7785\n",
      "Epoch 7/50\n",
      "232/232 [==============================] - 123s 531ms/step - loss: 4.5477 - val_loss: 4.6814\n",
      "Epoch 8/50\n",
      "232/232 [==============================] - 122s 526ms/step - loss: 4.3995 - val_loss: 4.5942\n",
      "Epoch 9/50\n",
      "232/232 [==============================] - 121s 520ms/step - loss: 4.2627 - val_loss: 4.5301\n",
      "Epoch 10/50\n",
      "232/232 [==============================] - 120s 516ms/step - loss: 4.1397 - val_loss: 4.4691\n",
      "Epoch 11/50\n",
      "232/232 [==============================] - 119s 513ms/step - loss: 4.0241 - val_loss: 4.4230\n",
      "Epoch 12/50\n",
      "232/232 [==============================] - 118s 510ms/step - loss: 3.9204 - val_loss: 4.3842\n",
      "Epoch 13/50\n",
      "232/232 [==============================] - 121s 521ms/step - loss: 3.8237 - val_loss: 4.3551\n",
      "Epoch 14/50\n",
      "232/232 [==============================] - 120s 516ms/step - loss: 3.7365 - val_loss: 4.3312\n",
      "Epoch 15/50\n",
      "232/232 [==============================] - 120s 516ms/step - loss: 3.6544 - val_loss: 4.3146\n",
      "Epoch 16/50\n",
      "232/232 [==============================] - 119s 514ms/step - loss: 3.5754 - val_loss: 4.2883\n",
      "Epoch 17/50\n",
      "232/232 [==============================] - 118s 508ms/step - loss: 3.4997 - val_loss: 4.2738\n",
      "Epoch 18/50\n",
      "232/232 [==============================] - 119s 514ms/step - loss: 3.4283 - val_loss: 4.2653\n",
      "Epoch 19/50\n",
      "232/232 [==============================] - 120s 516ms/step - loss: 3.3654 - val_loss: 4.2511\n",
      "Epoch 20/50\n",
      "232/232 [==============================] - 119s 515ms/step - loss: 3.3032 - val_loss: 4.2477\n",
      "Epoch 21/50\n",
      "232/232 [==============================] - 120s 517ms/step - loss: 3.2449 - val_loss: 4.2395\n",
      "Epoch 22/50\n",
      "232/232 [==============================] - 119s 515ms/step - loss: 3.1897 - val_loss: 4.2388\n",
      "Epoch 23/50\n",
      "232/232 [==============================] - 120s 518ms/step - loss: 3.1355 - val_loss: 4.2378\n",
      "Epoch 24/50\n",
      "232/232 [==============================] - 120s 516ms/step - loss: 3.0830 - val_loss: 4.2370\n",
      "Epoch 25/50\n",
      "232/232 [==============================] - 119s 514ms/step - loss: 3.0323 - val_loss: 4.2386\n",
      "Epoch 26/50\n",
      "232/232 [==============================] - 120s 516ms/step - loss: 2.9831 - val_loss: 4.2502\n",
      "Epoch 00026: early stopping\n"
     ]
    }
   ],
   "source": [
    "model.compile(optimizer = 'rmsprop', loss = 'sparse_categorical_crossentropy')\n",
    "es = EarlyStopping(monitor = 'val_loss', patience = 2, verbose = 1)\n",
    "history = model.fit(x=[encoder_input_train, decoder_input_train], y=decoder_target_train, \\\n",
    "          validation_data=([encoder_input_test, decoder_input_test], decoder_target_test), \\\n",
    "          batch_size=256, callbacks=[es], epochs=50)"
   ]
  },
  {
   "cell_type": "code",
   "execution_count": 38,
   "id": "5651aa47",
   "metadata": {},
   "outputs": [
    {
     "data": {
      "image/png": "[encoded data removed]",
      "text/plain": [
       "<Figure size 432x288 with 1 Axes>"
      ]
     },
     "metadata": {
      "needs_background": "light"
     },
     "output_type": "display_data"
    }
   ],
   "source": [
    "plt.plot(history.history['loss'], label = 'train')\n",
    "plt.plot(history.history['val_loss'], label = 'test')\n",
    "plt.legend()\n",
    "plt.show()"
   ]
  },
  {
   "cell_type": "code",
   "execution_count": 39,
   "id": "27a86078",
   "metadata": {},
   "outputs": [],
   "source": [
    "src_index_to_word = src_tokenizer.index_word\n",
    "tar_word_to_index = tar_tokenizer.word_index\n",
    "tar_index_to_word = tar_tokenizer.index_word"
   ]
  },
  {
   "cell_type": "code",
   "execution_count": 40,
   "id": "2cfe9ced",
   "metadata": {},
   "outputs": [],
   "source": [
    "encoder_model = Model(inputs = encoder_inputs, outputs = [encoder_outputs, state_h, state_c])\n",
    "# 이전 시점의 상태를 저장하는 텐서\n",
    "decoder_state_input_h = Input(shape = (hidden_size, ))\n",
    "decoder_state_input_c = Input(shape = (hidden_size, ))\n",
    "\n",
    "dec_emb2 = dec_emb_layer(decoder_inputs)\n",
    "\n",
    "decoder_outputs2, state_h2, state_c2 = decoder_lstm(dec_emb2, initial_state = [decoder_state_input_h, decoder_state_input_c])"
   ]
  },
  {
   "cell_type": "code",
   "execution_count": 41,
   "id": "8a3b1e80",
   "metadata": {},
   "outputs": [],
   "source": [
    "# 어텐션 함수\n",
    "decoder_hidden_state_input = Input(shape=(text_max_len, hidden_size))\n",
    "attn_out_inf = attn_layer([decoder_outputs2, decoder_hidden_state_input])\n",
    "decoder_inf_concat = Concatenate(axis=-1, name='concat')([decoder_outputs2, attn_out_inf])\n",
    "\n",
    "# 디코더의 출력층\n",
    "decoder_outputs2 = decoder_softmax_layer(decoder_inf_concat) \n",
    "\n",
    "# 최종 디코더 모델\n",
    "decoder_model = Model(\n",
    "    [decoder_inputs] + [decoder_hidden_state_input,decoder_state_input_h, decoder_state_input_c],\n",
    "    [decoder_outputs2] + [state_h2, state_c2])\n"
   ]
  },
  {
   "cell_type": "code",
   "execution_count": 55,
   "id": "f217d5fe",
   "metadata": {},
   "outputs": [],
   "source": [
    "def decode_sequence(input_seq):\n",
    "    # 입력으로부터 인코더의 상태를 얻음\n",
    "    e_out, e_h, e_c = encoder_model.predict(input_seq)\n",
    "\n",
    "     # <SOS>에 해당하는 토큰 생성\n",
    "    target_seq = np.zeros((1,1))\n",
    "    target_seq[0, 0] = tar_word_to_index['sostoken']\n",
    "\n",
    "    stop_condition = False\n",
    "    decoded_sentence = ''\n",
    "    while not stop_condition: # stop_condition이 True가 될 때까지 루프 반복\n",
    "\n",
    "        output_tokens, h, c = decoder_model.predict([target_seq] + [e_out, e_h, e_c])\n",
    "        sampled_token_index = np.argmax(output_tokens[0, -1, :])\n",
    "        sampled_token = tar_index_to_word[sampled_token_index]\n",
    "\n",
    "        if (sampled_token!='eostoken'):\n",
    "            decoded_sentence += ' '+sampled_token\n",
    "\n",
    "        #  <eos>에 도달하거나 최대 길이를 넘으면 중단.\n",
    "        if (sampled_token == 'eostoken'  or len(decoded_sentence.split()) >= (headlines_max_len-1)):\n",
    "            stop_condition = True\n",
    "\n",
    "        # 길이가 1인 타겟 시퀀스를 업데이트\n",
    "        target_seq = np.zeros((1,1))\n",
    "        target_seq[0, 0] = sampled_token_index\n",
    "\n",
    "        # 상태를 업데이트 합니다.\n",
    "        e_h, e_c = h, c\n",
    "\n",
    "    return decoded_sentence"
   ]
  },
  {
   "cell_type": "markdown",
   "id": "67f0614a",
   "metadata": {},
   "source": [
    "# Model Test"
   ]
  },
  {
   "cell_type": "code",
   "execution_count": 56,
   "id": "98c6a78f",
   "metadata": {},
   "outputs": [],
   "source": [
    "# 원문의 정수 시퀀스를 텍스트 시퀀스로 변환\n",
    "def seq2text(input_seq):\n",
    "    temp=''\n",
    "    for i in input_seq:\n",
    "        if (i!=0):\n",
    "            temp = temp + src_index_to_word[i]+' '\n",
    "    return temp\n",
    "\n",
    "# 요약문의 정수 시퀀스를 텍스트 시퀀스로 변환\n",
    "def seq2summary(input_seq):\n",
    "    temp=''\n",
    "    for i in input_seq:\n",
    "        if ((i!=0 and i!=tar_word_to_index['sostoken']) and i!=tar_word_to_index['eostoken']):\n",
    "            temp = temp + tar_index_to_word[i] + ' '\n",
    "    return temp"
   ]
  },
  {
   "cell_type": "code",
   "execution_count": 57,
   "id": "a10cb2a1",
   "metadata": {},
   "outputs": [
    {
     "name": "stdout",
     "output_type": "stream",
     "text": [
      "원문 : hind mere jind first song sachin billion dreams upcoming biopic former cricketer sachin tendulkar released monday occasion th birthday song composed sung oscar winning music composer ar rahman lyrics irshad kamil directed james biopic scheduled release may \n",
      "실제 요약 : st song from sachin biopic released on his th birthday \n",
      "예측 요약 :  sachin tendulkar to attend debut in his biopic\n",
      "\n",
      "\n",
      "원문 : actress janhvi kapoor honoured rising talent year award norwegian consulate general recognition pleasant surprise happy receive honour humbled chose honour actress said janhvi made bollywood debut dhadak year \n",
      "실제 요약 : janhvi to get rising talent award from consulate \n",
      "예측 요약 :  janhvi kapoor features on kapoor cover of filmfare show\n",
      "\n",
      "\n",
      "원문 : us based company developed pillow hybrid responds users body heat thus preventing priced nearly pillow adjusts users move allowing trapped air surface stays cool pillow covered material originally developed nasa protect astronauts temperature variations \n",
      "실제 요약 : uses nasa tech to prevent users from \n",
      "예측 요약 :  scientists use to detect in\n",
      "\n",
      "\n",
      "원문 : bjp chief ministerial candidate bs yeddyurappa saturday announced form karnataka government may result declared may claiming bjp secure seats yeddyurappa said people fed government assure people karnataka going give good governance \n",
      "실제 요약 : bjp taka candidate declares swearing in date before result \n",
      "예측 요약 :  bjp will be from bjp jd chief\n",
      "\n",
      "\n",
      "원문 : indian cricketer yuvraj singh monday shared throwback picture teammates zaheer khan harbhajan singh sachin tendulkar vvs laxman sky walking indian team tour new zealand yuvraj captioned picture turn face sun fall behind \n",
      "실제 요약 : yuvraj shares throwback picture of team sky walking in nz \n",
      "예측 요약 :  yuvraj singh shares pic with him\n",
      "\n",
      "\n",
      "원문 : twinkle khanna tweeted support tanushree dutta following claims sexually harassed nana patekar tanushree criticised tweet saying twinkle husband akshay kumar still working patekar work sense victory tanushree said added emotional psychological losses incurred irreparable \n",
      "실제 요약 : your husband still working with nana tanushree on twinkle tweet \n",
      "예측 요약 :  tanushree nana patekar hai nana patekar\n",
      "\n",
      "\n",
      "원문 : least three people killed tuesday three attackers opened fire headquarters libya foreign ministry health ministry said two later blew third suicide bomber shot dead guards could explosive vest according reports \n",
      "실제 요약 : killed in suicide attack at libya foreign ministry \n",
      "예측 요약 :  killed injured in isis attack in egypt\n",
      "\n",
      "\n",
      "원문 : centre proposed prohibition use animals performances exhibition circus mobile entertainment facilities invited comments various stakeholders issue within days earlier environment ministry banned training use lions tigers monkeys bears bulls entertainment purposes \n",
      "실제 요약 : centre proposes ban on use of animals in \n",
      "예측 요약 :  centre to use of to use of\n",
      "\n",
      "\n",
      "원문 : actor anil kapoor took social media wish eldest daughter sonam kapoor nd birthday friday shared picture sonam captioned happy birthday warrior princess keep smiling shine brighter happier love beta sonam known films like neerja made acting debut film \n",
      "실제 요약 : happy day warrior princess anil on daughter sonam day \n",
      "예측 요약 :  sonam shares pic with sonam kapoor on birthday\n",
      "\n",
      "\n",
      "원문 : national conference spokesperson junaid azim resigned party tuesday decision boycott municipal panchayat polls jammu kashmir strongly believe leaving grassroots democratic institutions open would serious harm state read tweet added announce candidature upcoming polls wednesday \n",
      "실제 요약 : national conference spokesperson junaid quits party \n",
      "예측 요약 :  aap chief quits party chief\n",
      "\n",
      "\n",
      "원문 : number known hardy number cambridge professor hardy visited indian mathematician hospital hardy called taxi number smallest number sum two two different ways sum also \n",
      "실제 요약 : why is known as number \n",
      "예측 요약 :  first ever hair with auctioned for years\n",
      "\n",
      "\n",
      "원문 : technology major apple planning shut photo print products service years company confirmed launched service let users order albums photo books prints items featuring pictures photos according pop message photos app service end end september year \n",
      "실제 요약 : apple to shut down its photo printing service after years \n",
      "예측 요약 :  apple to launch new ads from space\n",
      "\n",
      "\n",
      "원문 : former brazilian football star roberto carlos became father ninth time welcomed new daughter marina sunday marina former brazil defender second child current wife mariana notably year old seven children relationships including five sons one adopted \n",
      "실제 요약 : ex brazil star carlos becomes father for time \n",
      "예측 요약 :  former brazil captain son marries first time\n",
      "\n",
      "\n",
      "원문 : singer armaan malik note addressed justin bieber fans wrote bieber little maiden concert india added every artiste bad days love much love read note concluding lines armaan trolled tweeted disappointed concert \n",
      "실제 요약 : armaan malik pens note to fans of justin bieber \n",
      "예측 요약 :  jimmy kimmel responds to bieber for india concert\n",
      "\n",
      "\n",
      "원문 : intelligence bureau transferred around officers different states part routine exercise officials said ib officers posted division years police personnel serving station five years transferred officials denied reports claimed transfers ordered view general elections \n",
      "실제 요약 : intelligence bureau transfers officers \n",
      "예측 요약 :  cbi arrests senior workers for stealing in\n",
      "\n",
      "\n",
      "원문 : year old married woman odisha arrested allegedly chopping genitals man extra marital affair woman argument victim following chopped genitals sharp weapon asleep wednesday night police said man undergoing treatment cuttack hospital \n",
      "실제 요약 : married woman chops off boyfriend genitals over an argument \n",
      "예측 요약 :  woman raped by husband driver in up\n",
      "\n",
      "\n",
      "원문 : ferrari formula one racer sebastian vettel british rival mercedes lewis hamilton win bahrain grand prix sunday mercedes driver valtteri bottas began race pole position went finish third race win vettel taken seven point lead drivers world championship \n",
      "실제 요약 : ferrari hamilton to win bahrain gp \n",
      "예측 요약 :  nadal wins th career race with\n",
      "\n",
      "\n",
      "원문 : middle aged woman allegedly assaulted tore clothes female passenger recent pakistan international airlines flight karachi boarding underway although cabin crew passengers intervened victim deboard plane needed medical help clothes torn alleged attacker handed airport security personnel \n",
      "실제 요약 : woman assaults female flyer tears her clothes on flight \n",
      "예측 요약 :  woman leaves us woman with woman leaves hostage\n",
      "\n",
      "\n",
      "원문 : person shot dead another injured violent clashes broke two groups uttar pradesh kasganj unauthorised tiranga yatra rally republic day groups pelted stones fired shots incident triggered group objected slogans raised rally \n",
      "실제 요약 : killed in violent clashes in up during republic day rally \n",
      "예측 요약 :  killed injured in shooting at church in karnataka\n",
      "\n",
      "\n",
      "원문 : indian army jawan killed accidental firing rifle poonch area jammu kashmir meanwhile pro defence lieutenant colonel manish mehta denied reports jawan killed ceasefire violation many eight pakistani army soldiers killed india retaliated ceasefire violation along loc rajouri monday \n",
      "실제 요약 : army jawan killed in accidental firing from his own rifle \n",
      "예측 요약 :  army jawan martyred in blast in kashmir\n",
      "\n",
      "\n",
      "원문 : unidentified gunmen barged government employee house jammu kashmir budgam district set fire car belonging one relatives police said sunday official mohammad bhat works baramulla district jail present house incident took place saturday night \n",
      "실제 요약 : gunmen into govt employee house set car on fire \n",
      "예측 요약 :  men shot dead in delhi police office\n",
      "\n",
      "\n",
      "원문 : australian vice captain david warner said teammates suffered mental breakdown lack resting period ashes last month odi series however added never going put hand say need rest sure notably warner australian play formats since november \n",
      "실제 요약 : warner admits to mental over \n",
      "예측 요약 :  warner is england captain warner\n",
      "\n",
      "\n",
      "원문 : tesla ceo elon musk counterpart japanese conglomerate softbank masayoshi son held talks april discuss investment tesla talks also included discussion taking tesla private two reach agreement ownership musk reportedly proposed disproportionate structure granted rights tesla \n",
      "실제 요약 : elon musk talked to softbank in for tesla investment \n",
      "예측 요약 :  tesla ceo sells billion stake in tesla stock\n",
      "\n",
      "\n",
      "원문 : around suspected islamic state militants surrendered last week kurdish authorities iraq terror group lost control last major stronghold country officials said militants fled kurdish held region avoid executions forces assisted iraqi army offensive officials added \n",
      "실제 요약 : hundreds of suspected isis militants surrender in iraq \n",
      "예측 요약 :  isis claims responsibility for isis in syria\n",
      "\n",
      "\n",
      "원문 : russia orthodox church investigating priest named series instagram posts seen items luxury brands including gucci shoes louis vuitton account belonging deleted later issued apology said items belong \n",
      "실제 요약 : gucci priest probed by church over instagram pictures \n",
      "예측 요약 :  year old chinese girl to be born in us\n",
      "\n",
      "\n",
      "원문 : bigg boss searched indian tv show india per list yahoo india searched tv shows also included shin chan mehta ka game thrones per yahoo india search results included good mix international hit series desi serials content children \n",
      "실제 요약 : bigg boss most searched indian tv show in yahoo india \n",
      "예측 요약 :  arnab goswami most popular celebrity celebrity on india report\n",
      "\n",
      "\n",
      "원문 : medal winning indian wrestler commonwealth games questioned police tried pass accreditation card friend could enter games village fun tour reportedly vikram sisodia chef de mission indian contingent informed incident authorities \n",
      "실제 요약 : india medal winning wrestler probed over security breach \n",
      "예측 요약 :  cwg gold medallist medallist cwg gold medallist bronze away\n",
      "\n",
      "\n",
      "원문 : nearly employees jaguar land rover castle plant england move three day work week move aimed reducing production amid adverse automotive industry environment caused brexit decrease sales diesel cars expected work reduced hours least christmas \n",
      "실제 요약 : employees to adopt day work week in england \n",
      "예측 요약 :  to get floating floating park in\n",
      "\n",
      "\n",
      "원문 : actor aditya pancholi said actress kangana ranaut lying teeth filing fir added filed fir wants show world aditya said actually think stand exposed \n",
      "실제 요약 : kangana is lying about filing an fir against me aditya \n",
      "예측 요약 :  kangana ranaut lawyer files complaint against kangana\n",
      "\n",
      "\n",
      "원문 : twenty seven billionaires hurun global rich list passed away last year richest person passed away swedish furniture giant ikea founder fortune billion world oldest billionaire david rockefeller sr also died age \n",
      "실제 요약 : hurun rich list billionaires passed away last year \n",
      "예측 요약 :  richest woman named world richest billionaire\n",
      "\n",
      "\n",
      "원문 : english football side mk fans raised money help repair united pitch got damaged thrown onto pitch fa cup tie sides supporters mk created crowdfunding page try raise repair reportedly cost \n",
      "실제 요약 : club fans raise money for opposition side pitch repair \n",
      "예측 요약 :  football club owner fined for pitch during pitch\n",
      "\n",
      "\n",
      "원문 : police arrested year old cab driver uttar pradesh ghaziabad allegedly raping year old girl drinking watching porn videos killing august accused victim family also visited police station family file missing person complaint mislead police \n",
      "실제 요약 : drunk cab driver rapes murders yr old after watching porn \n",
      "예측 요약 :  man arrested for raping year old girl in up\n",
      "\n",
      "\n",
      "원문 : chief election commissioner sunil arora monday said electronic voting machines cannot tampered difference tampering malfunctioning machine malfunction added said functioning evms looked highly qualified technical committee members kind influenced anybody \n",
      "실제 요약 : evms may malfunction but cannot be sunil arora \n",
      "예측 요약 :  ec compares ec to replace evm machines in theatres\n",
      "\n",
      "\n",
      "원문 : bus conductor ashok kumar arrested murder seven year old student gurugram ryan international school planning file case police officers framed cbi probe revealed murder weapon planted conductor gurugram police however cbi ruled role bus conductor completely \n",
      "실제 요약 : wrongly arrested ryan conductor to sue haryana cops \n",
      "예측 요약 :  arrested for murder of murder in gurugram\n",
      "\n",
      "\n",
      "원문 : brisbane heat alex ross became first cricketer dismissed obstructing field professional cricket match australia attempting second run bbl match hobart hurricanes ross path ball hit stumps hurricanes appealed run asking umpire check obstructing field \n",
      "실제 요약 : player gets out field in australia for st time \n",
      "예측 요약 :  england test match to take test after cricket\n",
      "\n",
      "\n",
      "원문 : dubai started testing world first two seater self flying taxi called autonomous air taxi transportation supplied german manufacturer unmanned metres ground test flight electric prototype studded maximum flight time minutes maximum kmph \n",
      "실제 요약 : dubai starts testing world first self flying taxis \n",
      "예측 요약 :  world first electric suv completes years\n",
      "\n",
      "\n",
      "원문 : delhi daredevils lost opening match ipl season royal challengers bangalore runs despite rishabh pant fighting half century saturday batting first royal challengers bangalore put driven kedar jadhav ball reply pant ball proved insufficient could help delhi daredevils reach target \n",
      "실제 요약 : dd fall short by runs against rcb despite pant fifty \n",
      "예측 요약 :  delhi daredevils defend to win ipl\n",
      "\n",
      "\n",
      "원문 : reacting reports cash crunch states former finance minister chidambaram said ghost demonetisation come back government rbi said rbi statement rbi supplied sufficient cash must explain cash shortage asked atms still months demonetisation \n",
      "실제 요약 : ghost of demonetisation is back to govt chidambaram \n",
      "예측 요약 :  rbi panel to withdraw loans on demonetisation\n",
      "\n",
      "\n",
      "원문 : five delhi police personnel suspended day illegal casino operating south delhi farmhouse busted police police officials reportedly suspended enough stop casino operating since mid may also probed whether suspended officials casino owner payroll \n",
      "실제 요약 : policemen suspended after casino busted in delhi farmhouse \n",
      "예측 요약 :  police police officers in delhi police station\n",
      "\n",
      "\n",
      "원문 : haryana claimed gold medals win recently concluded inaugural india school games new delhi overall haryana medals games including silver bronze medals maharashtra finished second gold medals india school games held annually school students aged \n",
      "실제 요약 : haryana win st india school games with gold medals \n",
      "예측 요약 :  haryana cwg gold medalist wins cwg gold\n",
      "\n",
      "\n",
      "원문 : wheelchair accessible beach festival recently held beach goa beach covered volunteers make wheelchair friendly activities wheelchair cricket beach bowling wheelchair dancing also organised initiative aimed raise awareness making least one beach goa easily accessible differently abled \n",
      "실제 요약 : festival in goa helps make beach wheelchair friendly \n",
      "예측 요약 :  in pictures celebrations festival to celebrate awareness\n",
      "\n",
      "\n",
      "원문 : singer rihanna shared picture wearing crystal encrusted covered face well sharing another picture outfit instagram rihanna wrote cannot go home yet enough people seen outfit wore outfit without covering face coachella valley music arts festival \n",
      "실제 요약 : rihanna wears crystal outfit her face \n",
      "예측 요약 :  kylie jenner shares pic with victoria perry\n",
      "\n",
      "\n",
      "원문 : government asked pnb cbi enforcement directorate share details billion scam institute chartered accountants india high level group constituted accounting body studying systemic issues involved fraud member panel met least three times awaiting information president naveen nd gupta said \n",
      "실제 요약 : govt asks pnb to share scam details with \n",
      "예측 요약 :  cbi books pnb as chief pnb of pnb scam\n",
      "\n",
      "\n",
      "원문 : russian ambassador india monday said russia ready assist india particularly training astronauts first manned mission space planned russian scientists happy partner india added painting rakesh sharma first indian space also unveiled event spoke \n",
      "실제 요약 : russia offers to train indian astronauts for mission \n",
      "예측 요약 :  russia to build russian space space in space\n",
      "\n",
      "\n",
      "원문 : actress aishwarya rai bachchan slammed media persons photographers reportedly misbehaving charity event held memory late father rai event held hospital organised charity foundation provides free surgery children please show respect film premiere said aishwarya \n",
      "실제 요약 : aishwarya rai slams media for misbehaving at charity event \n",
      "예측 요약 :  aishwarya rai aishwarya rai aishwarya rai khan\n",
      "\n",
      "\n",
      "원문 : japanese technology company sharp launched new charging dock smartphone rotates towards owner call dock work phone built assistant called follow direction user voice identify face receiving call \n",
      "실제 요약 : charging stand that turns phone to users during calls made \n",
      "예측 요약 :  startup makes lakh with that can be powered\n",
      "\n",
      "\n",
      "원문 : biju janata dal youth wing leader shot dead odisha unidentified persons monday police said according eyewitnesses bombs hurled suv travelling shot head came vehicle accused absconding efforts nab \n",
      "실제 요약 : bjd youth wing leader shot dead in odisha \n",
      "예측 요약 :  bjp leader shot dead in west bengal\n",
      "\n",
      "\n",
      "원문 : former indian cricketer sachin tendulkar shared photograph early days cricket career alongside inspirational post twitter tuesday sachin tweet read chasing dream waste moment every second practice makes difference notably sachin debuted ranji trophy age \n",
      "실제 요약 : tendulkar tweets photo from his early days \n",
      "예측 요약 :  sachin tendulkar wishes sachin tendulkar to support him\n",
      "\n",
      "\n",
      "원문 : presenting budget finance minister arun jaitley announced new airports new helipads added government udan scheme also said airports authority india airports expanded times airport upgraded handle billion trips annually added \n",
      "실제 요약 : airports new to be added under scheme \n",
      "예측 요약 :  fm jaitley presents budget in budget\n",
      "\n",
      "\n",
      "원문 : linkedin ceo jeff took selfie employee walton desk away vacation walton revealed visiting linkedin dublin office walton accidentally scheduled vacation day planned meet team walton put picture note desk highlighting role organisation \n",
      "실제 요약 : linkedin ceo takes selfie at employee \n",
      "예측 요약 :  mahindra founder jack ma dies at\n",
      "\n",
      "\n"
     ]
    }
   ],
   "source": [
    "for i in range(50, 100):\n",
    "    print(\"원문 :\", seq2text(encoder_input_test[i]))\n",
    "    print(\"실제 요약 :\", seq2summary(decoder_input_test[i]))\n",
    "    print(\"예측 요약 :\", decode_sequence(encoder_input_test[i].reshape(1, text_max_len)))\n",
    "    print(\"\\n\")"
   ]
  },
  {
   "cell_type": "markdown",
   "id": "de3ec0f1",
   "metadata": {},
   "source": [
    "# 추출적 요약 해보기"
   ]
  },
  {
   "cell_type": "code",
   "execution_count": 45,
   "id": "befec3f1",
   "metadata": {},
   "outputs": [
    {
     "name": "stdout",
     "output_type": "stream",
     "text": [
      "The screen is filled with green, cascading code which gives way to the title, The Matrix.\r\n",
      "\r\n",
      "A phone rings and text appears on the screen: \"Call trans opt: received. 2-19-98 13:24:18 REC: Log>\" As a conversation takes place between Trinity (Carrie-Anne Moss) and Cypher (Joe Pantoliano), two free humans, a table of random green numbers are being scanned and individual numbers selected, creating a series of digits not unlike an ordinary phone number, as if a code is being deciphered or a call is being traced.\r\n",
      "\r\n",
      "Trinity discusses some unknown person. Cypher taunts Trinity, suggesting she enjoys watching him. Trinity counters that \"Morpheus (Laurence Fishburne) says he may be 'the One',\" just as the sound of a number being selected alerts Trinity that someone may be tracing their call. She ends the call.\r\n",
      "\r\n",
      "Armed policemen move down a darkened, decrepit hallway in the Heart O' the City Hotel, their flashlight beam bouncing just ahead of them. They come to room 303, kick down the door and find a woman dressed in black, facing away from them. It's Trinity. She brings her hands up from the laptop she's working on at their command.\r\n",
      "\r\n",
      "Outside the hotel a car drives up and three agents appear in neatly pressed black suits. They are Agent Smith (Hugo Weaving), Agent Brown (Paul Goddard), and Agent Jones (Robert Taylor). Agent Smith and the presiding police lieutenant argue. Agent Smith admonishes the policeman that they were given specific orders to contact the agents first, for their\n"
     ]
    }
   ],
   "source": [
    "text = requests.get('http://rare-technologies.com/the_matrix_synopsis.txt').text\n",
    "print(text[:1500])"
   ]
  },
  {
   "cell_type": "code",
   "execution_count": 46,
   "id": "74852ff2",
   "metadata": {},
   "outputs": [
    {
     "name": "stdout",
     "output_type": "stream",
     "text": [
      "Summary: \n",
      "Morpheus, Trinity, Neo, Apoc, Switch, Mouse and Cypher are jacked into the Matrix.\n",
      "Trinity brings the helicopter down to the floor that Morpheus is on and Neo opens fire on the three Agents.\n"
     ]
    }
   ],
   "source": [
    "print('Summary: ')\n",
    "print(summarize(text, ratio = 0.005))"
   ]
  },
  {
   "cell_type": "code",
   "execution_count": 47,
   "id": "4535ad1d",
   "metadata": {},
   "outputs": [
    {
     "name": "stdout",
     "output_type": "stream",
     "text": [
      "Summary: \n",
      "['Morpheus, Trinity, Neo, Apoc, Switch, Mouse and Cypher are jacked into the Matrix.', 'Trinity brings the helicopter down to the floor that Morpheus is on and Neo opens fire on the three Agents.']\n"
     ]
    }
   ],
   "source": [
    "print('Summary: ')\n",
    "print(summarize(text, ratio = 0.005, split = True))"
   ]
  },
  {
   "cell_type": "code",
   "execution_count": 48,
   "id": "889abb10",
   "metadata": {},
   "outputs": [
    {
     "name": "stdout",
     "output_type": "stream",
     "text": [
      "Summary: \n",
      "Trinity takes Neo to Morpheus.\n",
      "Morpheus, Trinity, Neo, Apoc, Switch, Mouse and Cypher are jacked into the Matrix.\n",
      "Trinity brings the helicopter down to the floor that Morpheus is on and Neo opens fire on the three Agents.\n"
     ]
    }
   ],
   "source": [
    "print('Summary: ')\n",
    "print(summarize(text, words = 50))"
   ]
  },
  {
   "cell_type": "markdown",
   "id": "83b4638c",
   "metadata": {},
   "source": [
    "결과: Extractive 요약을 해보니 요약이라기 보다는 그냥 문장을 가져다가 복사하는 수준이라고 할 수 있고 오히려 Abstractive 요약이 틀린 경우가 있더라도 요약에 가까운 모습을 보여줌"
   ]
  }
 ],
 "metadata": {
  "kernelspec": {
   "display_name": "Python 3 (ipykernel)",
   "language": "python",
   "name": "python3"
  },
  "language_info": {
   "codemirror_mode": {
    "name": "ipython",
    "version": 3
   },
   "file_extension": ".py",
   "mimetype": "text/x-python",
   "name": "python",
   "nbconvert_exporter": "python",
   "pygments_lexer": "ipython3",
   "version": "3.9.7"
  }
 },
 "nbformat": 4,
 "nbformat_minor": 5
}
