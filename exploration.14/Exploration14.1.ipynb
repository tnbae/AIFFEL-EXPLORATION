{
 "cells": [
  {
   "cell_type": "markdown",
   "id": "857e7f55",
   "metadata": {},
   "source": [
    "# Import"
   ]
  },
  {
   "cell_type": "code",
   "execution_count": 1,
   "id": "e6741a79",
   "metadata": {},
   "outputs": [],
   "source": [
    "import os \n",
    "import re\n",
    "import tensorflow as tf\n",
    "import tensorflow_datasets as tfds\n",
    "import pandas as pd\n",
    "import numpy as np\n",
    "import matplotlib.pyplot as plt"
   ]
  },
  {
   "cell_type": "markdown",
   "id": "b1c89af4",
   "metadata": {},
   "source": [
    "# Dataset"
   ]
  },
  {
   "cell_type": "code",
   "execution_count": 6,
   "id": "5cffa58f",
   "metadata": {},
   "outputs": [],
   "source": [
    "file_path = os.getenv('HOME') + '/aiffel/transformer_chatbot/data/ChatbotData .csv'"
   ]
  },
  {
   "cell_type": "code",
   "execution_count": 7,
   "id": "49c313d8",
   "metadata": {},
   "outputs": [
    {
     "data": {
      "text/html": [
       "<div>\n",
       "<style scoped>\n",
       "    .dataframe tbody tr th:only-of-type {\n",
       "        vertical-align: middle;\n",
       "    }\n",
       "\n",
       "    .dataframe tbody tr th {\n",
       "        vertical-align: top;\n",
       "    }\n",
       "\n",
       "    .dataframe thead th {\n",
       "        text-align: right;\n",
       "    }\n",
       "</style>\n",
       "<table border=\"1\" class=\"dataframe\">\n",
       "  <thead>\n",
       "    <tr style=\"text-align: right;\">\n",
       "      <th></th>\n",
       "      <th>Q</th>\n",
       "      <th>A</th>\n",
       "      <th>label</th>\n",
       "    </tr>\n",
       "  </thead>\n",
       "  <tbody>\n",
       "    <tr>\n",
       "      <th>0</th>\n",
       "      <td>12시 땡!</td>\n",
       "      <td>하루가 또 가네요.</td>\n",
       "      <td>0</td>\n",
       "    </tr>\n",
       "    <tr>\n",
       "      <th>1</th>\n",
       "      <td>1지망 학교 떨어졌어</td>\n",
       "      <td>위로해 드립니다.</td>\n",
       "      <td>0</td>\n",
       "    </tr>\n",
       "    <tr>\n",
       "      <th>2</th>\n",
       "      <td>3박4일 놀러가고 싶다</td>\n",
       "      <td>여행은 언제나 좋죠.</td>\n",
       "      <td>0</td>\n",
       "    </tr>\n",
       "    <tr>\n",
       "      <th>3</th>\n",
       "      <td>3박4일 정도 놀러가고 싶다</td>\n",
       "      <td>여행은 언제나 좋죠.</td>\n",
       "      <td>0</td>\n",
       "    </tr>\n",
       "    <tr>\n",
       "      <th>4</th>\n",
       "      <td>PPL 심하네</td>\n",
       "      <td>눈살이 찌푸려지죠.</td>\n",
       "      <td>0</td>\n",
       "    </tr>\n",
       "    <tr>\n",
       "      <th>...</th>\n",
       "      <td>...</td>\n",
       "      <td>...</td>\n",
       "      <td>...</td>\n",
       "    </tr>\n",
       "    <tr>\n",
       "      <th>11818</th>\n",
       "      <td>훔쳐보는 것도 눈치 보임.</td>\n",
       "      <td>티가 나니까 눈치가 보이는 거죠!</td>\n",
       "      <td>2</td>\n",
       "    </tr>\n",
       "    <tr>\n",
       "      <th>11819</th>\n",
       "      <td>훔쳐보는 것도 눈치 보임.</td>\n",
       "      <td>훔쳐보는 거 티나나봐요.</td>\n",
       "      <td>2</td>\n",
       "    </tr>\n",
       "    <tr>\n",
       "      <th>11820</th>\n",
       "      <td>흑기사 해주는 짝남.</td>\n",
       "      <td>설렜겠어요.</td>\n",
       "      <td>2</td>\n",
       "    </tr>\n",
       "    <tr>\n",
       "      <th>11821</th>\n",
       "      <td>힘든 연애 좋은 연애라는게 무슨 차이일까?</td>\n",
       "      <td>잘 헤어질 수 있는 사이 여부인 거 같아요.</td>\n",
       "      <td>2</td>\n",
       "    </tr>\n",
       "    <tr>\n",
       "      <th>11822</th>\n",
       "      <td>힘들어서 결혼할까봐</td>\n",
       "      <td>도피성 결혼은 하지 않길 바라요.</td>\n",
       "      <td>2</td>\n",
       "    </tr>\n",
       "  </tbody>\n",
       "</table>\n",
       "<p>11823 rows × 3 columns</p>\n",
       "</div>"
      ],
      "text/plain": [
       "                             Q                         A  label\n",
       "0                       12시 땡!                하루가 또 가네요.      0\n",
       "1                  1지망 학교 떨어졌어                 위로해 드립니다.      0\n",
       "2                 3박4일 놀러가고 싶다               여행은 언제나 좋죠.      0\n",
       "3              3박4일 정도 놀러가고 싶다               여행은 언제나 좋죠.      0\n",
       "4                      PPL 심하네                눈살이 찌푸려지죠.      0\n",
       "...                        ...                       ...    ...\n",
       "11818           훔쳐보는 것도 눈치 보임.        티가 나니까 눈치가 보이는 거죠!      2\n",
       "11819           훔쳐보는 것도 눈치 보임.             훔쳐보는 거 티나나봐요.      2\n",
       "11820              흑기사 해주는 짝남.                    설렜겠어요.      2\n",
       "11821  힘든 연애 좋은 연애라는게 무슨 차이일까?  잘 헤어질 수 있는 사이 여부인 거 같아요.      2\n",
       "11822               힘들어서 결혼할까봐        도피성 결혼은 하지 않길 바라요.      2\n",
       "\n",
       "[11823 rows x 3 columns]"
      ]
     },
     "execution_count": 7,
     "metadata": {},
     "output_type": "execute_result"
    }
   ],
   "source": [
    "chatbot_df = pd.read_csv(file_path)\n",
    "chatbot_df"
   ]
  },
  {
   "cell_type": "markdown",
   "id": "2fe93a89",
   "metadata": {},
   "source": [
    "# 단어 전처리"
   ]
  },
  {
   "cell_type": "code",
   "execution_count": 8,
   "id": "bc266209",
   "metadata": {},
   "outputs": [],
   "source": [
    "def preprocess_sentence(sentence):\n",
    "    sentence = sentence.lower().strip()\n",
    "    sentence = re.sub(r\"([?.!,])\", r\" \\1 \", sentence)\n",
    "    sentence = re.sub(r'[\" \"]+', \" \", sentence)\n",
    "    sentence = sentence.strip()\n",
    "    \n",
    "    return sentence"
   ]
  },
  {
   "cell_type": "code",
   "execution_count": 9,
   "id": "91a51c18",
   "metadata": {},
   "outputs": [],
   "source": [
    "def load_conversations(questions, answers):\n",
    "    inputs, outputs = [], []\n",
    "    \n",
    "    for question, answer in zip(questions, answers):\n",
    "        inputs.append(preprocess_sentence(question))\n",
    "        outputs.append(preprocess_sentence(answer))\n",
    "        \n",
    "    return inputs, outputs"
   ]
  },
  {
   "cell_type": "code",
   "execution_count": 14,
   "id": "d7ffb090",
   "metadata": {},
   "outputs": [],
   "source": [
    "questions, answers = load_conversations(chatbot_df['Q'], chatbot_df['A'])"
   ]
  },
  {
   "cell_type": "markdown",
   "id": "c2208ac7",
   "metadata": {},
   "source": [
    "# Subword TextEncoder"
   ]
  },
  {
   "cell_type": "code",
   "execution_count": 15,
   "id": "2b2d6c16",
   "metadata": {},
   "outputs": [],
   "source": [
    "tokenizer = tfds.deprecated.text.SubwordTextEncoder.build_from_corpus(questions + answers, target_vocab_size=2**13)"
   ]
  },
  {
   "cell_type": "code",
   "execution_count": 16,
   "id": "e8bdc1df",
   "metadata": {},
   "outputs": [],
   "source": [
    "Start_Token, End_Token = [tokenizer.vocab_size], [tokenizer.vocab_size + 1]"
   ]
  },
  {
   "cell_type": "code",
   "execution_count": 17,
   "id": "3ce9a6c6",
   "metadata": {},
   "outputs": [
    {
     "name": "stdout",
     "output_type": "stream",
     "text": [
      "Start_Token의 번호:  [8173]\n",
      "End_Token의 번호:  [8174]\n"
     ]
    }
   ],
   "source": [
    "print('Start_Token의 번호: ', [tokenizer.vocab_size])\n",
    "print('End_Token의 번호: ', [tokenizer.vocab_size + 1])"
   ]
  },
  {
   "cell_type": "code",
   "execution_count": 38,
   "id": "f2c19c87",
   "metadata": {},
   "outputs": [],
   "source": [
    "VOCAB_SIZE = tokenizer.vocab_size + 2"
   ]
  },
  {
   "cell_type": "code",
   "execution_count": 19,
   "id": "0be4f290",
   "metadata": {},
   "outputs": [],
   "source": [
    "Max_Length = 40"
   ]
  },
  {
   "cell_type": "code",
   "execution_count": 24,
   "id": "b471bfb6",
   "metadata": {},
   "outputs": [],
   "source": [
    "def tokenize_and_filter(inputs, outputs):\n",
    "    tokenized_inputs, tokenized_outputs = [], []\n",
    "    \n",
    "    for(sentence1, sentence2) in zip(inputs, outputs):\n",
    "        sentence1 = Start_Token + tokenizer.encode(sentence1) + End_Token\n",
    "        sentence2 = Start_Token + tokenizer.encode(sentence2) + End_Token\n",
    "        \n",
    "        if len(sentence1) <= Max_Length and len(sentence2) <= Max_Length:\n",
    "            tokenized_inputs.append(sentence1)\n",
    "            tokenized_outputs.append(sentence2)\n",
    "            \n",
    "    tokenized_inputs = tf.keras.preprocessing.sequence.pad_sequences(tokenized_inputs, maxlen = Max_Length, padding = 'post')\n",
    "    tokenized_outputs = tf.keras.preprocessing.sequence.pad_sequences(tokenized_outputs, maxlen = Max_Length, padding = 'post')\n",
    "    \n",
    "    return tokenized_inputs, tokenized_outputs"
   ]
  },
  {
   "cell_type": "code",
   "execution_count": 25,
   "id": "cb7cf85c",
   "metadata": {},
   "outputs": [],
   "source": [
    "questions, answers = tokenize_and_filter(questions, answers)"
   ]
  },
  {
   "cell_type": "markdown",
   "id": "28a2d944",
   "metadata": {},
   "source": [
    "# Transformer"
   ]
  },
  {
   "cell_type": "code",
   "execution_count": 26,
   "id": "acbe0576",
   "metadata": {},
   "outputs": [],
   "source": [
    "class PositionalEncoding(tf.keras.layers.Layer):\n",
    "    \n",
    "    def __init__(self, position, d_model):\n",
    "        super(PositionalEncoding, self).__init__()\n",
    "        self.pos_encoding = self.positional_encoding(position, d_model)\n",
    "        \n",
    "    def get_angles(self, position, i, d_model):\n",
    "        angles = 1/tf.pow(10000, (2 * (i//2)) / tf.cast(d_model, tf.float32))\n",
    "        return position * angles\n",
    "    \n",
    "    def positional_encoding(self, position, d_model):\n",
    "        angle_rads = self.get_angles(position = tf.range(position, dtype = tf.float32)[:, tf.newaxis], i = tf.range(d_model, dtype = tf.float32)[tf.newaxis, :], d_model = d_model)\n",
    "        \n",
    "        sines = tf.math.sin(angle_rads[:, 0::2])\n",
    "        cosines = tf.math.cos(angle_rads[:, 1::2])\n",
    "    \n",
    "        pos_encoding = tf.stack([sines, cosines], axis = 0)\n",
    "        pos_encoding = tf.transpose(pos_encoding, [1, 2, 0])\n",
    "        pos_encoding = tf.reshape(pos_encoding, [position, d_model])\n",
    "    \n",
    "        pos_encoding = pos_encoding[tf.newaxis, ...]\n",
    "        return tf.cast(pos_encoding, tf.float32)\n",
    "    \n",
    "    def call(self, inputs):\n",
    "        return inputs + self.pos_encoding[:, :tf.shape(inputs)[1], :]"
   ]
  },
  {
   "cell_type": "code",
   "execution_count": 27,
   "id": "36b55d20",
   "metadata": {},
   "outputs": [],
   "source": [
    "def scaled_dot_product_attention(query, key, value, mask):\n",
    "    matmul_qk = tf.matmul(query, key, transpose_b = True)\n",
    "    \n",
    "    depth = tf.cast(tf.shape(key)[-1], tf.float32)\n",
    "    logits = matmul_qk / tf.math.sqrt(depth)\n",
    "    \n",
    "    if mask is not None:\n",
    "        logits += (mask * -1e9)\n",
    "        \n",
    "    attention_weights = tf.nn.softmax(logits, axis = -1)\n",
    "    \n",
    "    output = tf.matmul(attention_weights, value)\n",
    "    return output"
   ]
  },
  {
   "cell_type": "code",
   "execution_count": 28,
   "id": "36217803",
   "metadata": {},
   "outputs": [],
   "source": [
    "class MultiHeadAttention(tf.keras.layers.Layer):\n",
    "    \n",
    "    def __init__(self, d_model, num_heads, name = 'multi_head_attention'):\n",
    "        super(MultiHeadAttention, self).__init__(name = name)\n",
    "        self.num_heads = num_heads\n",
    "        self.d_model = d_model\n",
    "        \n",
    "        assert d_model % self.num_heads == 0\n",
    "        \n",
    "        self.depth = d_model // self.num_heads\n",
    "        \n",
    "        self.query_dense = tf.keras.layers.Dense(units = d_model)\n",
    "        self.key_dense = tf.keras.layers.Dense(units = d_model)\n",
    "        self.value_dense = tf.keras.layers.Dense(units = d_model)\n",
    "        \n",
    "        self.dense = tf.keras.layers.Dense(units = d_model)\n",
    "        \n",
    "    def split_heads(self, inputs, batch_size):\n",
    "        inputs = tf.reshape(inputs, shape = (batch_size, -1, self.num_heads, self.depth))\n",
    "        return tf.transpose(inputs, perm = [0, 2, 1, 3])\n",
    "    \n",
    "    def call(self, inputs):\n",
    "        query, key, value, mask = inputs['query'], inputs['key'], inputs['value'], inputs['mask']\n",
    "        batch_size = tf.shape(query)[0]\n",
    "        \n",
    "        query = self.query_dense(query)\n",
    "        key = self.key_dense(key)\n",
    "        value = self.value_dense(value)\n",
    "        \n",
    "        query = self.split_heads(query, batch_size)\n",
    "        key = self.split_heads(key, batch_size)\n",
    "        value = self.split_heads(value, batch_size)\n",
    "        \n",
    "        scaled_attention = scaled_dot_product_attention(query, key, value, mask)\n",
    "        \n",
    "        scaled_attention = tf.transpose(scaled_attention, perm = [0, 2, 1, 3])\n",
    "        \n",
    "        concat_attention = tf.reshape(scaled_attention, (batch_size, -1, self.d_model))\n",
    "        \n",
    "        outputs = self.dense(concat_attention)\n",
    "        \n",
    "        return outputs\n",
    "        "
   ]
  },
  {
   "cell_type": "code",
   "execution_count": 29,
   "id": "551c00b5",
   "metadata": {},
   "outputs": [],
   "source": [
    "def create_padding_mask(x):\n",
    "    mask = tf.cast(tf.math.equal(x, 0), tf.float32)\n",
    "    return mask[:, tf.newaxis, tf.newaxis, :]"
   ]
  },
  {
   "cell_type": "code",
   "execution_count": 30,
   "id": "3d676763",
   "metadata": {},
   "outputs": [],
   "source": [
    "def create_look_ahead_mask(x):\n",
    "    seq_len = tf.shape(x)[1]\n",
    "    look_ahead_mask = 1 -tf.linalg.band_part(tf.ones((seq_len, seq_len)), -1, 0)\n",
    "    padding_mask = create_padding_mask(x)\n",
    "    return tf.maximum(look_ahead_mask, padding_mask)"
   ]
  },
  {
   "cell_type": "code",
   "execution_count": 31,
   "id": "2eb77276",
   "metadata": {},
   "outputs": [],
   "source": [
    "def encoder_layer(units, d_model, num_heads, dropout, name = 'encoder_layer'):\n",
    "    inputs = tf.keras.Input(shape = (None, d_model), name = 'inputs')\n",
    "    \n",
    "    padding_mask = tf.keras.Input(shape = (1, 1, None), name = 'padding_mask')\n",
    "    \n",
    "    attention = MultiHeadAttention(d_model, num_heads, name = 'attention')({'query': inputs, 'key': inputs, 'value': inputs, 'mask': padding_mask})\n",
    "    \n",
    "    attention = tf.keras.layers.Dropout(rate = dropout)(attention)\n",
    "    attention = tf.keras.layers.LayerNormalization(epsilon = 1e-6)(inputs + attention)\n",
    "    \n",
    "    outputs = tf.keras.layers.Dense(units = units, activation = 'relu')(attention)\n",
    "    outputs = tf.keras.layers.Dense(units = d_model)(outputs)\n",
    "    \n",
    "    outputs = tf.keras.layers.Dropout(rate = dropout)(outputs)\n",
    "    outputs = tf.keras.layers.LayerNormalization(epsilon = 1e-6)(attention + outputs)\n",
    "    \n",
    "    return tf.keras.Model(inputs = [inputs, padding_mask], outputs = outputs, name = name)"
   ]
  },
  {
   "cell_type": "code",
   "execution_count": 44,
   "id": "b6a12719",
   "metadata": {},
   "outputs": [],
   "source": [
    "def encoder(vocab_size,\n",
    "            num_layers,\n",
    "            units,\n",
    "            d_model,\n",
    "            num_heads,\n",
    "            dropout,\n",
    "            name=\"encoder\"):\n",
    "    inputs = tf.keras.Input(shape=(None,), name=\"inputs\")\n",
    "\n",
    "    padding_mask = tf.keras.Input(shape=(1, 1, None), name=\"padding_mask\")\n",
    "\n",
    "    embeddings = tf.keras.layers.Embedding(vocab_size, d_model)(inputs)\n",
    "    embeddings *= tf.math.sqrt(tf.cast(d_model, tf.float32))\n",
    "\n",
    "    embeddings = PositionalEncoding(vocab_size, d_model)(embeddings)\n",
    "\n",
    "    outputs = tf.keras.layers.Dropout(rate=dropout)(embeddings)\n",
    "\n",
    "    for i in range(num_layers):\n",
    "        outputs = encoder_layer(\n",
    "            units=units,\n",
    "            d_model=d_model,\n",
    "            num_heads=num_heads,\n",
    "            dropout=dropout,\n",
    "            name=\"encoder_layer_{}\".format(i),\n",
    "        )([outputs, padding_mask])\n",
    "\n",
    "    return tf.keras.Model(\n",
    "        inputs=[inputs, padding_mask], outputs=outputs, name=name)"
   ]
  },
  {
   "cell_type": "code",
   "execution_count": 45,
   "id": "93eabb9e",
   "metadata": {},
   "outputs": [],
   "source": [
    "def decoder_layer(units, d_model, num_heads, dropout, name = 'decoder_layer'):\n",
    "    inputs =tf.keras.Input(shape = (None, d_model), name = 'inputs')\n",
    "    enc_outputs = tf.keras.Input(shape = (None, d_model), name = 'encoder_outputs')\n",
    "    look_ahead_mask = tf.keras.Input(shape = (1, None, None), name = 'look_ahead_mask')\n",
    "    padding_mask = tf.keras.Input(shape = (1, 1, None), name = 'padding_mask')\n",
    "    \n",
    "    attention1 = MultiHeadAttention(d_model, num_heads, name = 'attention1')(inputs = {'query': inputs, 'key': inputs, 'value': inputs, 'mask': look_ahead_mask})\n",
    "    \n",
    "    attention1 = tf.keras.layers.LayerNormalization(epsilon = 1e-6)(attention1 + inputs)\n",
    "    \n",
    "    attention2 = MultiHeadAttention(d_model, num_heads, name = 'attention2')(inputs = {'query': attention1, 'key': enc_outputs, 'value': enc_outputs, 'mask': padding_mask})\n",
    "    \n",
    "    attention2 = tf.keras.layers.Dropout(rate = dropout)(attention2)\n",
    "    attention2 = tf.keras.layers.LayerNormalization(epsilon = 1e-6)(attention2 + attention1)\n",
    "                                    \n",
    "    outputs = tf.keras.layers.Dropout(rate = dropout)(attention2)\n",
    "    outputs = tf.keras.layers.LayerNormalization(epsilon = 1e-6)(outputs + attention2)\n",
    "    \n",
    "    return tf.keras.Model(inputs = [inputs, enc_outputs, look_ahead_mask, padding_mask], outputs = outputs, name = name)"
   ]
  },
  {
   "cell_type": "code",
   "execution_count": 46,
   "id": "15280896",
   "metadata": {},
   "outputs": [],
   "source": [
    "def decoder(vocab_size,\n",
    "            num_layers,\n",
    "            units,\n",
    "            d_model,\n",
    "            num_heads,\n",
    "            dropout,\n",
    "            name='decoder'):\n",
    "    inputs = tf.keras.Input(shape=(None,), name='inputs')\n",
    "    enc_outputs = tf.keras.Input(shape=(None, d_model), name='encoder_outputs')\n",
    "    look_ahead_mask = tf.keras.Input(\n",
    "        shape=(1, None, None), name='look_ahead_mask')\n",
    "\n",
    "    padding_mask = tf.keras.Input(shape=(1, 1, None), name='padding_mask')\n",
    "\n",
    "    embeddings = tf.keras.layers.Embedding(vocab_size, d_model)(inputs)\n",
    "    embeddings *= tf.math.sqrt(tf.cast(d_model, tf.float32))\n",
    "\n",
    "    embeddings = PositionalEncoding(vocab_size, d_model)(embeddings)\n",
    "\n",
    "    outputs = tf.keras.layers.Dropout(rate=dropout)(embeddings)\n",
    "\n",
    "    for i in range(num_layers):\n",
    "        outputs = decoder_layer(\n",
    "            units=units,\n",
    "            d_model=d_model,\n",
    "            num_heads=num_heads,\n",
    "            dropout=dropout,\n",
    "            name='decoder_layer_{}'.format(i),\n",
    "        )(inputs=[outputs, enc_outputs, look_ahead_mask, padding_mask])\n",
    "\n",
    "    return tf.keras.Model(\n",
    "        inputs=[inputs, enc_outputs, look_ahead_mask, padding_mask],\n",
    "        outputs=outputs,\n",
    "        name=name)"
   ]
  },
  {
   "cell_type": "markdown",
   "id": "7e9ce4d3",
   "metadata": {},
   "source": [
    "# Train"
   ]
  },
  {
   "cell_type": "code",
   "execution_count": 47,
   "id": "f194a8e9",
   "metadata": {},
   "outputs": [],
   "source": [
    "BATCH_SIZE = 64\n",
    "BUFFER_SIZE = 20000\n",
    "\n",
    "dataset = tf.data.Dataset.from_tensor_slices(({'inputs': questions, 'dec_inputs': answers[:, :-1]}, {'outputs': answers[:, 1:]}))\n",
    "\n",
    "dataset = dataset.cache()\n",
    "dataset = dataset.shuffle(BUFFER_SIZE)\n",
    "dataset = dataset.batch(BATCH_SIZE)\n",
    "dataset = dataset.prefetch(tf.data.experimental.AUTOTUNE)"
   ]
  },
  {
   "cell_type": "code",
   "execution_count": 50,
   "id": "4f23e83d",
   "metadata": {},
   "outputs": [],
   "source": [
    "def transformer(vocab_size, num_layers, units, d_model, num_heads, dropout, name = 'transformer'):\n",
    "    inputs = tf.keras.Input(shape = (None,), name = 'inputs')\n",
    "    dec_inputs = tf.keras.Input(shape = (None,), name = 'dec_inputs')\n",
    "    \n",
    "    enc_padding_mask = tf.keras.layers.Lambda(create_padding_mask, output_shape = (1, 1, None), name = 'enc_padding_mask')(inputs)\n",
    "    \n",
    "    look_ahead_mask = tf.keras.layers.Lambda(create_look_ahead_mask, output_shape = (1, None, None), name = 'look_ahead_mask')(dec_inputs)\n",
    "    \n",
    "    dec_padding_mask = tf.keras.layers.Lambda(create_padding_mask, output_shape = (1, 1, None), name = 'dec_padding_mask')(inputs)\n",
    "    \n",
    "    enc_outputs = encoder(vocab_size = vocab_size, num_layers = num_layers, units = units, d_model = d_model, num_heads = num_heads, dropout = dropout)(inputs = [inputs, enc_padding_mask])\n",
    "    \n",
    "    dec_outputs = decoder(vocab_size = vocab_size, num_layers = num_layers, units = units, d_model = d_model, num_heads = num_heads, dropout = dropout)(inputs = [dec_inputs, enc_outputs, look_ahead_mask, dec_padding_mask])\n",
    "    \n",
    "    outputs = tf.keras.layers.Dense(units = vocab_size, name = 'outputs')(dec_outputs)\n",
    "    \n",
    "    return tf.keras.Model(inputs = [inputs, dec_inputs], outputs = outputs, name = name)"
   ]
  },
  {
   "cell_type": "code",
   "execution_count": 51,
   "id": "ea27fb83",
   "metadata": {},
   "outputs": [
    {
     "name": "stdout",
     "output_type": "stream",
     "text": [
      "Model: \"transformer\"\n",
      "__________________________________________________________________________________________________\n",
      "Layer (type)                    Output Shape         Param #     Connected to                     \n",
      "==================================================================================================\n",
      "inputs (InputLayer)             [(None, None)]       0                                            \n",
      "__________________________________________________________________________________________________\n",
      "dec_inputs (InputLayer)         [(None, None)]       0                                            \n",
      "__________________________________________________________________________________________________\n",
      "enc_padding_mask (Lambda)       (None, 1, 1, None)   0           inputs[0][0]                     \n",
      "__________________________________________________________________________________________________\n",
      "encoder (Functional)            (None, None, 512)    13653504    inputs[0][0]                     \n",
      "                                                                 enc_padding_mask[0][0]           \n",
      "__________________________________________________________________________________________________\n",
      "look_ahead_mask (Lambda)        (None, 1, None, None 0           dec_inputs[0][0]                 \n",
      "__________________________________________________________________________________________________\n",
      "dec_padding_mask (Lambda)       (None, 1, 1, None)   0           inputs[0][0]                     \n",
      "__________________________________________________________________________________________________\n",
      "decoder (Functional)            (None, None, 512)    16811520    dec_inputs[0][0]                 \n",
      "                                                                 encoder[0][0]                    \n",
      "                                                                 look_ahead_mask[0][0]            \n",
      "                                                                 dec_padding_mask[0][0]           \n",
      "__________________________________________________________________________________________________\n",
      "outputs (Dense)                 (None, None, 8175)   4193775     decoder[0][0]                    \n",
      "==================================================================================================\n",
      "Total params: 34,658,799\n",
      "Trainable params: 34,658,799\n",
      "Non-trainable params: 0\n",
      "__________________________________________________________________________________________________\n"
     ]
    }
   ],
   "source": [
    "tf.keras.backend.clear_session()\n",
    "\n",
    "NUM_LAYERS = 6\n",
    "D_MODEL = 512\n",
    "NUM_HEADS = 8\n",
    "UNITS = 512\n",
    "DROPOUT = 0.1\n",
    "\n",
    "model = transformer(vocab_size = VOCAB_SIZE, num_layers = NUM_LAYERS, units = UNITS, d_model = D_MODEL, num_heads = NUM_HEADS, dropout = DROPOUT)\n",
    "\n",
    "model.summary()"
   ]
  },
  {
   "cell_type": "code",
   "execution_count": 65,
   "id": "ca45f1fb",
   "metadata": {},
   "outputs": [],
   "source": [
    "def loss_function(y_true, y_pred):\n",
    "    y_true = tf.reshape(y_true, shape= (-1, Max_Length - 1))\n",
    "    \n",
    "    loss = tf.keras.losses.SparseCategoricalCrossentropy(from_logits = True, reduction = 'none')(y_true, y_pred)\n",
    "    \n",
    "    mask = tf.cast(tf.not_equal(y_true, 0), tf.float32)\n",
    "    loss = tf.multiply(loss, mask)\n",
    "    \n",
    "    return tf.reduce_mean(loss)"
   ]
  },
  {
   "cell_type": "code",
   "execution_count": 66,
   "id": "e4c88ccb",
   "metadata": {},
   "outputs": [],
   "source": [
    "class CustomSchedule(tf.keras.optimizers.schedules.LearningRateSchedule):\n",
    "\n",
    "    def __init__(self, d_model, warmup_steps=4000):\n",
    "        super(CustomSchedule, self).__init__()\n",
    "\n",
    "        self.d_model = d_model\n",
    "        self.d_model = tf.cast(self.d_model, tf.float32)\n",
    "\n",
    "        self.warmup_steps = warmup_steps\n",
    "\n",
    "    def __call__(self, step):\n",
    "        arg1 = tf.math.rsqrt(step)\n",
    "        arg2 = step * (self.warmup_steps**-1.5)\n",
    "\n",
    "        return tf.math.rsqrt(self.d_model) * tf.math.minimum(arg1, arg2)"
   ]
  },
  {
   "cell_type": "code",
   "execution_count": 69,
   "id": "2e13eb0b",
   "metadata": {},
   "outputs": [],
   "source": [
    "learning_rate = CustomSchedule(D_MODEL)\n",
    "\n",
    "optimizer = tf.keras.optimizers.Adam(\n",
    "    learning_rate, beta_1= 0.9, beta_2= 0.98, epsilon= 1e-9)\n",
    "\n",
    "\n",
    "def accuracy(y_true, y_pred):\n",
    "    y_true = tf.reshape(y_true, shape=(-1, Max_Length - 1))\n",
    "    return tf.keras.metrics.sparse_categorical_accuracy(y_true, y_pred)\n",
    "\n",
    "\n",
    "model.compile(optimizer= optimizer, loss= loss_function, metrics= [accuracy])"
   ]
  },
  {
   "cell_type": "code",
   "execution_count": 70,
   "id": "200645cd",
   "metadata": {},
   "outputs": [
    {
     "name": "stdout",
     "output_type": "stream",
     "text": [
      "Epoch 1/50\n",
      "185/185 [==============================] - 62s 203ms/step - loss: 1.3411 - accuracy: 0.0227\n",
      "Epoch 2/50\n",
      "185/185 [==============================] - 39s 210ms/step - loss: 1.0848 - accuracy: 0.0472\n",
      "Epoch 3/50\n",
      "185/185 [==============================] - 38s 207ms/step - loss: 0.9864 - accuracy: 0.0507\n",
      "Epoch 4/50\n",
      "185/185 [==============================] - 39s 209ms/step - loss: 0.9390 - accuracy: 0.0529\n",
      "Epoch 5/50\n",
      "185/185 [==============================] - 39s 208ms/step - loss: 0.8941 - accuracy: 0.0560\n",
      "Epoch 6/50\n",
      "185/185 [==============================] - 39s 208ms/step - loss: 0.8356 - accuracy: 0.0600\n",
      "Epoch 7/50\n",
      "185/185 [==============================] - 39s 208ms/step - loss: 0.7688 - accuracy: 0.0655\n",
      "Epoch 8/50\n",
      "185/185 [==============================] - 39s 208ms/step - loss: 0.6961 - accuracy: 0.0722\n",
      "Epoch 9/50\n",
      "185/185 [==============================] - 39s 208ms/step - loss: 0.6213 - accuracy: 0.0802\n",
      "Epoch 10/50\n",
      "185/185 [==============================] - 39s 208ms/step - loss: 0.5456 - accuracy: 0.0891\n",
      "Epoch 11/50\n",
      "185/185 [==============================] - 39s 208ms/step - loss: 0.4718 - accuracy: 0.0983\n",
      "Epoch 12/50\n",
      "185/185 [==============================] - 39s 209ms/step - loss: 0.4017 - accuracy: 0.1071\n",
      "Epoch 13/50\n",
      "185/185 [==============================] - 39s 208ms/step - loss: 0.3401 - accuracy: 0.1147\n",
      "Epoch 14/50\n",
      "185/185 [==============================] - 38s 208ms/step - loss: 0.2864 - accuracy: 0.1217\n",
      "Epoch 15/50\n",
      "185/185 [==============================] - 39s 208ms/step - loss: 0.2409 - accuracy: 0.1279\n",
      "Epoch 16/50\n",
      "185/185 [==============================] - 38s 208ms/step - loss: 0.2053 - accuracy: 0.1329\n",
      "Epoch 17/50\n",
      "185/185 [==============================] - 39s 208ms/step - loss: 0.1755 - accuracy: 0.1376\n",
      "Epoch 18/50\n",
      "185/185 [==============================] - 38s 208ms/step - loss: 0.1552 - accuracy: 0.1408\n",
      "Epoch 19/50\n",
      "185/185 [==============================] - 38s 208ms/step - loss: 0.1390 - accuracy: 0.1430\n",
      "Epoch 20/50\n",
      "185/185 [==============================] - 39s 208ms/step - loss: 0.1304 - accuracy: 0.1446\n",
      "Epoch 21/50\n",
      "185/185 [==============================] - 39s 208ms/step - loss: 0.1215 - accuracy: 0.1458\n",
      "Epoch 22/50\n",
      "185/185 [==============================] - 39s 208ms/step - loss: 0.1172 - accuracy: 0.1464\n",
      "Epoch 23/50\n",
      "185/185 [==============================] - 39s 208ms/step - loss: 0.1064 - accuracy: 0.1485\n",
      "Epoch 24/50\n",
      "185/185 [==============================] - 38s 208ms/step - loss: 0.0950 - accuracy: 0.1510\n",
      "Epoch 25/50\n",
      "185/185 [==============================] - 38s 208ms/step - loss: 0.0830 - accuracy: 0.1541\n",
      "Epoch 26/50\n",
      "185/185 [==============================] - 38s 208ms/step - loss: 0.0753 - accuracy: 0.1558\n",
      "Epoch 27/50\n",
      "185/185 [==============================] - 38s 208ms/step - loss: 0.0677 - accuracy: 0.1577\n",
      "Epoch 28/50\n",
      "185/185 [==============================] - 38s 208ms/step - loss: 0.0611 - accuracy: 0.1592\n",
      "Epoch 29/50\n",
      "185/185 [==============================] - 39s 208ms/step - loss: 0.0560 - accuracy: 0.1605\n",
      "Epoch 30/50\n",
      "185/185 [==============================] - 38s 208ms/step - loss: 0.0520 - accuracy: 0.1615\n",
      "Epoch 31/50\n",
      "185/185 [==============================] - 39s 208ms/step - loss: 0.0484 - accuracy: 0.1623\n",
      "Epoch 32/50\n",
      "185/185 [==============================] - 39s 208ms/step - loss: 0.0452 - accuracy: 0.1633\n",
      "Epoch 33/50\n",
      "185/185 [==============================] - 39s 208ms/step - loss: 0.0409 - accuracy: 0.1645\n",
      "Epoch 34/50\n",
      "185/185 [==============================] - 38s 208ms/step - loss: 0.0387 - accuracy: 0.1649\n",
      "Epoch 35/50\n",
      "185/185 [==============================] - 38s 208ms/step - loss: 0.0362 - accuracy: 0.1656\n",
      "Epoch 36/50\n",
      "185/185 [==============================] - 38s 208ms/step - loss: 0.0339 - accuracy: 0.1662\n",
      "Epoch 37/50\n",
      "185/185 [==============================] - 38s 208ms/step - loss: 0.0321 - accuracy: 0.1668\n",
      "Epoch 38/50\n",
      "185/185 [==============================] - 38s 208ms/step - loss: 0.0309 - accuracy: 0.1670\n",
      "Epoch 39/50\n",
      "185/185 [==============================] - 39s 208ms/step - loss: 0.0280 - accuracy: 0.1678\n",
      "Epoch 40/50\n",
      "185/185 [==============================] - 38s 208ms/step - loss: 0.0276 - accuracy: 0.1679\n",
      "Epoch 41/50\n",
      "185/185 [==============================] - 38s 208ms/step - loss: 0.0259 - accuracy: 0.1683\n",
      "Epoch 42/50\n",
      "185/185 [==============================] - 38s 208ms/step - loss: 0.0236 - accuracy: 0.1690\n",
      "Epoch 43/50\n",
      "185/185 [==============================] - 38s 208ms/step - loss: 0.0235 - accuracy: 0.1691\n",
      "Epoch 44/50\n",
      "185/185 [==============================] - 38s 207ms/step - loss: 0.0228 - accuracy: 0.1692\n",
      "Epoch 45/50\n",
      "185/185 [==============================] - 38s 208ms/step - loss: 0.0219 - accuracy: 0.1696\n",
      "Epoch 46/50\n",
      "185/185 [==============================] - 38s 208ms/step - loss: 0.0202 - accuracy: 0.1700\n",
      "Epoch 47/50\n",
      "185/185 [==============================] - 38s 208ms/step - loss: 0.0207 - accuracy: 0.1698\n",
      "Epoch 48/50\n",
      "185/185 [==============================] - 39s 208ms/step - loss: 0.0190 - accuracy: 0.1704\n",
      "Epoch 49/50\n",
      "185/185 [==============================] - 39s 208ms/step - loss: 0.0182 - accuracy: 0.1704\n",
      "Epoch 50/50\n",
      "185/185 [==============================] - 39s 208ms/step - loss: 0.0179 - accuracy: 0.1704\n"
     ]
    },
    {
     "data": {
      "text/plain": [
       "<keras.callbacks.History at 0x7f119c43bd90>"
      ]
     },
     "execution_count": 70,
     "metadata": {},
     "output_type": "execute_result"
    }
   ],
   "source": [
    "EPOCHS = 50\n",
    "model.fit(dataset, epochs = EPOCHS, verbose = 1)"
   ]
  },
  {
   "cell_type": "markdown",
   "id": "88ce80e8",
   "metadata": {},
   "source": [
    "# 번역"
   ]
  },
  {
   "cell_type": "code",
   "execution_count": 71,
   "id": "103c34a0",
   "metadata": {},
   "outputs": [],
   "source": [
    "def decoder_inference(sentence):\n",
    "    sentence = preprocess_sentence(sentence)\n",
    "\n",
    "    sentence = tf.expand_dims(\n",
    "        Start_Token + tokenizer.encode(sentence) + End_Token, axis=0)\n",
    "\n",
    "    output_sequence = tf.expand_dims(Start_Token, 0)\n",
    "\n",
    "    for i in range(Max_Length):\n",
    "        predictions = model(inputs=[sentence, output_sequence], training=False)\n",
    "        predictions = predictions[:, -1:, :]\n",
    "\n",
    "        predicted_id = tf.cast(tf.argmax(predictions, axis=-1), tf.int32)\n",
    "\n",
    "        if tf.equal(predicted_id, End_Token[0]):\n",
    "            break\n",
    "\n",
    "        output_sequence = tf.concat([output_sequence, predicted_id], axis=-1)\n",
    "\n",
    "    return tf.squeeze(output_sequence, axis=0)"
   ]
  },
  {
   "cell_type": "code",
   "execution_count": 72,
   "id": "aa7b9c4f",
   "metadata": {},
   "outputs": [],
   "source": [
    "\n",
    "def sentence_generation(sentence):\n",
    "    prediction = decoder_inference(sentence)\n",
    "\n",
    "    predicted_sentence = tokenizer.decode(\n",
    "        [i for i in prediction if i < tokenizer.vocab_size])\n",
    "\n",
    "    print('입력 : {}'.format(sentence))\n",
    "    print('출력 : {}'.format(predicted_sentence))\n",
    "\n",
    "    return predicted_sentence"
   ]
  },
  {
   "cell_type": "code",
   "execution_count": 73,
   "id": "ca1548c4",
   "metadata": {},
   "outputs": [
    {
     "name": "stdout",
     "output_type": "stream",
     "text": [
      "입력 : 롤 티어가 어디야?\n",
      "출력 : 세상에는 예상하지 못한 일들이 자주 일어나는 것 같아요 .\n"
     ]
    },
    {
     "data": {
      "text/plain": [
       "'세상에는 예상하지 못한 일들이 자주 일어나는 것 같아요 .'"
      ]
     },
     "execution_count": 73,
     "metadata": {},
     "output_type": "execute_result"
    }
   ],
   "source": [
    "sentence_generation(\"롤 티어가 어디야?\")"
   ]
  },
  {
   "cell_type": "code",
   "execution_count": null,
   "id": "c05d0917",
   "metadata": {},
   "outputs": [],
   "source": []
  }
 ],
 "metadata": {
  "kernelspec": {
   "display_name": "Python 3 (ipykernel)",
   "language": "python",
   "name": "python3"
  },
  "language_info": {
   "codemirror_mode": {
    "name": "ipython",
    "version": 3
   },
   "file_extension": ".py",
   "mimetype": "text/x-python",
   "name": "python",
   "nbconvert_exporter": "python",
   "pygments_lexer": "ipython3",
   "version": "3.9.7"
  }
 },
 "nbformat": 4,
 "nbformat_minor": 5
}
